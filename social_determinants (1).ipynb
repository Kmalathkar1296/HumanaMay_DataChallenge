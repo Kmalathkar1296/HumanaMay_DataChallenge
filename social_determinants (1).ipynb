{
 "cells": [
  {
   "cell_type": "code",
   "execution_count": null,
   "metadata": {
    "id": "6x_SjVBL5BFC"
   },
   "outputs": [],
   "source": [
    "!pip install numpy\n",
    "\n"
   ]
  },
  {
   "cell_type": "code",
   "execution_count": 16,
   "metadata": {},
   "outputs": [
    {
     "name": "stdout",
     "output_type": "stream",
     "text": [
      "Requirement already satisfied: statsmodels in /home/dataminions60/.local/lib/python3.8/site-packages (0.14.1)\n",
      "Requirement already satisfied: numpy<2,>=1.18 in /home/dataminions60/.local/lib/python3.8/site-packages (from statsmodels) (1.24.4)\n",
      "Requirement already satisfied: patsy>=0.5.4 in /home/dataminions60/.local/lib/python3.8/site-packages (from statsmodels) (0.5.6)\n",
      "Requirement already satisfied: scipy!=1.9.2,>=1.4 in /home/dataminions60/.local/lib/python3.8/site-packages (from statsmodels) (1.10.1)\n",
      "Requirement already satisfied: packaging>=21.3 in /usr/local/lib/python3.8/dist-packages (from statsmodels) (24.1)\n",
      "Requirement already satisfied: pandas!=2.1.0,>=1.0 in /home/dataminions60/.local/lib/python3.8/site-packages (from statsmodels) (2.0.3)\n",
      "Requirement already satisfied: six in /usr/lib/python3/dist-packages (from patsy>=0.5.4->statsmodels) (1.14.0)\n",
      "Requirement already satisfied: python-dateutil>=2.8.2 in /usr/local/lib/python3.8/dist-packages (from pandas!=2.1.0,>=1.0->statsmodels) (2.9.0.post0)\n",
      "Requirement already satisfied: pytz>=2020.1 in /usr/local/lib/python3.8/dist-packages (from pandas!=2.1.0,>=1.0->statsmodels) (2024.2)\n",
      "Requirement already satisfied: tzdata>=2022.1 in /home/dataminions60/.local/lib/python3.8/site-packages (from pandas!=2.1.0,>=1.0->statsmodels) (2024.2)\n"
     ]
    }
   ],
   "source": [
    "!pip install statsmodels"
   ]
  },
  {
   "cell_type": "code",
   "execution_count": 20,
   "metadata": {
    "colab": {
     "base_uri": "https://localhost:8080/"
    },
    "id": "Ynd60V4i5JY-",
    "outputId": "7be0d59e-e3cd-4d4a-8136-59f73e4f1073"
   },
   "outputs": [],
   "source": [
    "import numpy as np\n",
    "import pandas as pd\n",
    "import matplotlib.pyplot as plt\n",
    "import seaborn as sns"
   ]
  },
  {
   "cell_type": "code",
   "execution_count": 28,
   "metadata": {
    "id": "R7diWJub5Qkv"
   },
   "outputs": [],
   "source": [
    "df = pd.read_csv('Social Determinants of Health.csv')"
   ]
  },
  {
   "cell_type": "code",
   "execution_count": 76,
   "metadata": {},
   "outputs": [],
   "source": [
    "social_v3 = df.loc[:, col_name]"
   ]
  },
  {
   "cell_type": "code",
   "execution_count": 77,
   "metadata": {},
   "outputs": [
    {
     "data": {
      "text/plain": [
       "(1527904, 40)"
      ]
     },
     "execution_count": 77,
     "metadata": {},
     "output_type": "execute_result"
    }
   ],
   "source": [
    "social_v3.shape"
   ]
  },
  {
   "cell_type": "code",
   "execution_count": 82,
   "metadata": {},
   "outputs": [],
   "source": [
    "social_v3.to_csv('final_social_v3.csv', index=False)"
   ]
  },
  {
   "cell_type": "code",
   "execution_count": 81,
   "metadata": {},
   "outputs": [
    {
     "data": {
      "text/plain": [
       "['rwjf_poor_health_pct',\n",
       " 'rwjf_pcp_rate',\n",
       " 'rwjf_preventable_ip_rate',\n",
       " 'rwjf_unemploy_pct',\n",
       " 'rwjf_poor_phy_hlth_days',\n",
       " 'rwjf_poor_men_hlth_days',\n",
       " 'rwjf_income_inequ_ratio',\n",
       " 'rwjf_alcoholic_pct',\n",
       " 'rwjf_mammography_pct',\n",
       " 'rwjf_population',\n",
       " 'rwjf_age_gt_65_pct',\n",
       " 'rwjf_female_pct',\n",
       " 'rwjf_rural_pct',\n",
       " 'rwjf_non_english_pct',\n",
       " 'rwjf_diabetes_pct',\n",
       " 'rwjf_men_hlth_prov_ratio',\n",
       " 'rwjf_median_house_income',\n",
       " 'rwjf_drive_alone_pct',\n",
       " 'rwjf_limit_hlthy_food_pct',\n",
       " 'rwjf_uninsured_pct',\n",
       " 'rwjf_dentists_ratio',\n",
       " 'rwjf_air_pollute_density',\n",
       " 'rwjf_premature_mortality',\n",
       " 'rwjf_other_pcp',\n",
       " 'rwjf_food_env_inx',\n",
       " 'rwjf_dui_deaths_pct',\n",
       " 'rwjf_injury_deaths_rate',\n",
       " 'rwjf_severe_housing_pct',\n",
       " 'rwjf_long_commute_alone_pct',\n",
       " 'rwjf_food_insecurity_pct',\n",
       " 'rwjf_social_associate_rate',\n",
       " 'rwjf_insufficient_sleep_pct',\n",
       " 'rwjf_physical_distress_pct',\n",
       " 'rwjf_mental_distress_pct',\n",
       " 'rwjf_home_ownership_pct',\n",
       " 'rwjf_housing_cost_burden_pct',\n",
       " 'rwjf_flu_vax',\n",
       " 'rwjf_broadband_access',\n",
       " 'rwjf_diabetes_monitor_pct',\n",
       " 'rwjf_healthcare_cost']"
      ]
     },
     "execution_count": 81,
     "metadata": {},
     "output_type": "execute_result"
    }
   ],
   "source": [
    "col_name"
   ]
  },
  {
   "cell_type": "code",
   "execution_count": 78,
   "metadata": {},
   "outputs": [
    {
     "data": {
      "text/plain": [
       "rwjf_poor_health_pct             982\n",
       "rwjf_pcp_rate                   9832\n",
       "rwjf_preventable_ip_rate        2030\n",
       "rwjf_unemploy_pct                982\n",
       "rwjf_poor_phy_hlth_days          982\n",
       "rwjf_poor_men_hlth_days          982\n",
       "rwjf_income_inequ_ratio          999\n",
       "rwjf_alcoholic_pct               982\n",
       "rwjf_mammography_pct            1941\n",
       "rwjf_population                  982\n",
       "rwjf_age_gt_65_pct               982\n",
       "rwjf_female_pct                  982\n",
       "rwjf_rural_pct                   983\n",
       "rwjf_non_english_pct             982\n",
       "rwjf_diabetes_pct                982\n",
       "rwjf_men_hlth_prov_ratio        9118\n",
       "rwjf_median_house_income         982\n",
       "rwjf_drive_alone_pct             982\n",
       "rwjf_limit_hlthy_food_pct       4884\n",
       "rwjf_uninsured_pct               982\n",
       "rwjf_dentists_ratio             7624\n",
       "rwjf_air_pollute_density        1002\n",
       "rwjf_premature_mortality        1140\n",
       "rwjf_other_pcp                  2074\n",
       "rwjf_food_env_inx               4884\n",
       "rwjf_dui_deaths_pct             1363\n",
       "rwjf_injury_deaths_rate         1546\n",
       "rwjf_severe_housing_pct          982\n",
       "rwjf_long_commute_alone_pct      982\n",
       "rwjf_food_insecurity_pct         982\n",
       "rwjf_social_associate_rate       982\n",
       "rwjf_insufficient_sleep_pct      982\n",
       "rwjf_physical_distress_pct       982\n",
       "rwjf_mental_distress_pct         982\n",
       "rwjf_home_ownership_pct          982\n",
       "rwjf_housing_cost_burden_pct     983\n",
       "rwjf_flu_vax                    1940\n",
       "rwjf_broadband_access            982\n",
       "rwjf_diabetes_monitor_pct       2184\n",
       "rwjf_healthcare_cost            2000\n",
       "dtype: int64"
      ]
     },
     "execution_count": 78,
     "metadata": {},
     "output_type": "execute_result"
    }
   ],
   "source": [
    "social_v3.isnull().sum()"
   ]
  },
  {
   "cell_type": "code",
   "execution_count": 29,
   "metadata": {},
   "outputs": [],
   "source": [
    "target =pd.read_csv('humana_mays_target_members.csv')"
   ]
  },
  {
   "cell_type": "code",
   "execution_count": 30,
   "metadata": {},
   "outputs": [],
   "source": [
    "merged_df = pd.merge(df, target[['id', 'preventive_visit_gap_ind']], on='id', how='left')\n"
   ]
  },
  {
   "cell_type": "code",
   "execution_count": 31,
   "metadata": {},
   "outputs": [],
   "source": [
    "merged_df = merged_df.drop('id', axis=1)"
   ]
  },
  {
   "cell_type": "code",
   "execution_count": 32,
   "metadata": {},
   "outputs": [
    {
     "data": {
      "text/plain": [
       "(1527904, 78)"
      ]
     },
     "execution_count": 32,
     "metadata": {},
     "output_type": "execute_result"
    }
   ],
   "source": [
    "merged_df.shape"
   ]
  },
  {
   "cell_type": "code",
   "execution_count": 33,
   "metadata": {},
   "outputs": [
    {
     "data": {
      "text/plain": [
       "rwjf_infant_mortality             333978\n",
       "rwjf_disconnect_youth_pct         325332\n",
       "rwjf_homicides_rate               312581\n",
       "rwjf_drug_overdose_deaths_rate    155499\n",
       "rwjf_child_mortality              138136\n",
       "                                   ...  \n",
       "rwjf_hawaiian_race_pct               982\n",
       "rwjf_poor_health_pct                 982\n",
       "rwjf_single_parent_pct               982\n",
       "rwjf_uninsured_pct                   982\n",
       "preventive_visit_gap_ind               0\n",
       "Length: 78, dtype: int64"
      ]
     },
     "execution_count": 33,
     "metadata": {},
     "output_type": "execute_result"
    }
   ],
   "source": [
    "merged_df.isnull().sum().sort_values(ascending=False)"
   ]
  },
  {
   "cell_type": "code",
   "execution_count": 34,
   "metadata": {},
   "outputs": [],
   "source": [
    "merged_df=merged_df.drop(columns=['rwjf_infant_mortality','rwjf_disconnect_youth_pct','rwjf_homicides_rate','rwjf_drug_overdose_deaths_rate','rwjf_child_mortality'],axis=1)"
   ]
  },
  {
   "cell_type": "code",
   "execution_count": 35,
   "metadata": {},
   "outputs": [
    {
     "data": {
      "text/plain": [
       "rwjf_resident_seg_black_inx     119593\n",
       "rwjf_hiv_rate                    86720\n",
       "rwjf_firearm_fatalities_rate     56761\n",
       "rwjf_suicides_rate               48952\n",
       "rwjf_violent_crime_rate          38718\n",
       "                                 ...  \n",
       "rwjf_poor_health_pct               982\n",
       "rwjf_hawaiian_race_pct             982\n",
       "rwjf_asian_race_pct                982\n",
       "rwjf_single_parent_pct             982\n",
       "preventive_visit_gap_ind             0\n",
       "Length: 73, dtype: int64"
      ]
     },
     "execution_count": 35,
     "metadata": {},
     "output_type": "execute_result"
    }
   ],
   "source": [
    "merged_df.isnull().sum().sort_values(ascending=False)"
   ]
  },
  {
   "cell_type": "code",
   "execution_count": 36,
   "metadata": {},
   "outputs": [],
   "source": [
    "merged_df = merged_df.drop(columns=['rwjf_resident_seg_black_inx','rwjf_hiv_rate','rwjf_firearm_fatalities_rate','rwjf_suicides_rate','rwjf_violent_crime_rate'],axis=1)"
   ]
  },
  {
   "cell_type": "code",
   "execution_count": 37,
   "metadata": {},
   "outputs": [
    {
     "data": {
      "text/plain": [
       "rwjf_high_school_pct              31163\n",
       "rwjf_child_free_lunch_pct         20249\n",
       "rwjf_drinkwater_violate_ind       18433\n",
       "rwjf_mv_deaths_rate               13952\n",
       "rwjf_resident_seg_nonwhite_inx    12384\n",
       "                                  ...  \n",
       "rwjf_some_college_pct               982\n",
       "rwjf_poor_health_pct                982\n",
       "rwjf_hawaiian_race_pct              982\n",
       "rwjf_asian_race_pct                 982\n",
       "preventive_visit_gap_ind              0\n",
       "Length: 68, dtype: int64"
      ]
     },
     "execution_count": 37,
     "metadata": {},
     "output_type": "execute_result"
    }
   ],
   "source": [
    "merged_df.isnull().sum().sort_values(ascending=False)"
   ]
  },
  {
   "cell_type": "code",
   "execution_count": 38,
   "metadata": {},
   "outputs": [],
   "source": [
    "merged_df = merged_df.drop(columns=['rwjf_high_school_pct','rwjf_child_free_lunch_pct','rwjf_drinkwater_violate_ind','rwjf_mv_deaths_rate','rwjf_resident_seg_nonwhite_inx'],axis=1)"
   ]
  },
  {
   "cell_type": "code",
   "execution_count": 39,
   "metadata": {},
   "outputs": [
    {
     "data": {
      "text/plain": [
       "rwjf_pcp_rate                9832\n",
       "rwjf_men_hlth_prov_ratio     9118\n",
       "rwjf_dentists_ratio          7624\n",
       "rwjf_food_env_inx            4884\n",
       "rwjf_limit_hlthy_food_pct    4884\n",
       "                             ... \n",
       "rwjf_some_college_pct         982\n",
       "rwjf_poor_health_pct          982\n",
       "rwjf_hawaiian_race_pct        982\n",
       "rwjf_asian_race_pct           982\n",
       "preventive_visit_gap_ind        0\n",
       "Length: 63, dtype: int64"
      ]
     },
     "execution_count": 39,
     "metadata": {},
     "output_type": "execute_result"
    }
   ],
   "source": [
    "merged_df.isnull().sum().sort_values(ascending=False)"
   ]
  },
  {
   "cell_type": "code",
   "execution_count": 40,
   "metadata": {},
   "outputs": [
    {
     "data": {
      "text/plain": [
       "(1527904, 63)"
      ]
     },
     "execution_count": 40,
     "metadata": {},
     "output_type": "execute_result"
    }
   ],
   "source": [
    "merged_df.shape"
   ]
  },
  {
   "cell_type": "code",
   "execution_count": 41,
   "metadata": {},
   "outputs": [],
   "source": [
    "merged_df = merged_df.drop(columns=['rwjf_hawaiian_race_pct','rwjf_asian_race_pct','rwjf_some_college_pct'],axis=1)"
   ]
  },
  {
   "cell_type": "code",
   "execution_count": 42,
   "metadata": {},
   "outputs": [
    {
     "data": {
      "text/plain": [
       "rwjf_pcp_rate                   9832\n",
       "rwjf_men_hlth_prov_ratio        9118\n",
       "rwjf_dentists_ratio             7624\n",
       "rwjf_food_env_inx               4884\n",
       "rwjf_limit_hlthy_food_pct       4884\n",
       "rwjf_drug_deaths_modl_rate      4614\n",
       "rwjf_teen_births_rate           2827\n",
       "rwjf_std_infect_rate            2552\n",
       "rwjf_diabetes_monitor_pct       2184\n",
       "rwjf_other_pcp                  2074\n",
       "rwjf_preventable_ip_rate        2030\n",
       "rwjf_healthcare_cost            2000\n",
       "rwjf_mammography_pct            1941\n",
       "rwjf_flu_vax                    1940\n",
       "rwjf_injury_deaths_rate         1546\n",
       "rwjf_low_birthweight_pct        1438\n",
       "rwjf_dui_deaths_pct             1363\n",
       "rwjf_life_expectancy            1180\n",
       "rwjf_premature_mortality        1140\n",
       "rwjf_premature_death_rate       1140\n",
       "rwjf_air_pollute_density        1002\n",
       "rwjf_income_inequ_ratio          999\n",
       "rwjf_rural_pct                   983\n",
       "rwjf_exercise_access_pct         983\n",
       "rwjf_housing_cost_burden_pct     983\n",
       "rwjf_social_associate_rate       982\n",
       "rwjf_food_insecurity_pct         982\n",
       "rwjf_long_commute_alone_pct      982\n",
       "rwjf_severe_housing_pct          982\n",
       "rwjf_insufficient_sleep_pct      982\n",
       "rwjf_physical_distress_pct       982\n",
       "rwjf_home_ownership_pct          982\n",
       "rwjf_broadband_access            982\n",
       "rwjf_white_race_pct              982\n",
       "rwjf_mental_distress_pct         982\n",
       "rwjf_inactivity_pct              982\n",
       "rwjf_uninsured_child_pct         982\n",
       "rwjf_uninsured_pct               982\n",
       "rwjf_uninsured_adults_pct        982\n",
       "rwjf_adult_smoking_pct           982\n",
       "rwjf_adult_obesity_pct           982\n",
       "rwjf_unemploy_pct                982\n",
       "rwjf_child_poverty_pct           982\n",
       "rwjf_poor_phy_hlth_days          982\n",
       "rwjf_poor_men_hlth_days          982\n",
       "rwjf_alcoholic_pct               982\n",
       "rwjf_population                  982\n",
       "rwjf_age_lt_18_pct               982\n",
       "rwjf_age_gt_65_pct               982\n",
       "rwjf_african_race_pct            982\n",
       "rwjf_native_race_pct             982\n",
       "rwjf_hispanic_pct                982\n",
       "rwjf_female_pct                  982\n",
       "rwjf_non_english_pct             982\n",
       "rwjf_diabetes_pct                982\n",
       "rwjf_median_house_income         982\n",
       "rwjf_drive_alone_pct             982\n",
       "rwjf_poor_health_pct             982\n",
       "rwjf_single_parent_pct           982\n",
       "preventive_visit_gap_ind           0\n",
       "dtype: int64"
      ]
     },
     "execution_count": 42,
     "metadata": {},
     "output_type": "execute_result"
    }
   ],
   "source": [
    "merged_df.isnull().sum().sort_values(ascending=False)"
   ]
  },
  {
   "cell_type": "code",
   "execution_count": 43,
   "metadata": {},
   "outputs": [],
   "source": [
    "merged_df = merged_df.drop(columns=['rwjf_low_birthweight_pct', 'rwjf_single_parent_pct','rwjf_child_poverty_pct','rwjf_age_lt_18_pct','rwjf_native_race_pct','rwjf_african_race_pct','rwjf_hispanic_pct','rwjf_uninsured_child_pct','rwjf_white_race_pct','rwjf_inactivity_pct'],axis=1)"
   ]
  },
  {
   "cell_type": "code",
   "execution_count": 58,
   "metadata": {},
   "outputs": [
    {
     "data": {
      "text/plain": [
       "rwjf_premature_death_rate       0\n",
       "rwjf_social_associate_rate      0\n",
       "rwjf_air_pollute_density        0\n",
       "rwjf_premature_mortality        0\n",
       "rwjf_other_pcp                  0\n",
       "rwjf_exercise_access_pct        0\n",
       "rwjf_food_env_inx               0\n",
       "rwjf_dui_deaths_pct             0\n",
       "rwjf_injury_deaths_rate         0\n",
       "rwjf_severe_housing_pct         0\n",
       "rwjf_long_commute_alone_pct     0\n",
       "rwjf_food_insecurity_pct        0\n",
       "rwjf_insufficient_sleep_pct     0\n",
       "rwjf_poor_health_pct            0\n",
       "rwjf_physical_distress_pct      0\n",
       "rwjf_mental_distress_pct        0\n",
       "rwjf_life_expectancy            0\n",
       "rwjf_home_ownership_pct         0\n",
       "rwjf_housing_cost_burden_pct    0\n",
       "rwjf_flu_vax                    0\n",
       "rwjf_broadband_access           0\n",
       "rwjf_diabetes_monitor_pct       0\n",
       "rwjf_healthcare_cost            0\n",
       "rwjf_drug_deaths_modl_rate      0\n",
       "rwjf_dentists_ratio             0\n",
       "rwjf_uninsured_pct              0\n",
       "rwjf_limit_hlthy_food_pct       0\n",
       "rwjf_drive_alone_pct            0\n",
       "rwjf_uninsured_adults_pct       0\n",
       "rwjf_pcp_rate                   0\n",
       "rwjf_preventable_ip_rate        0\n",
       "rwjf_adult_smoking_pct          0\n",
       "rwjf_adult_obesity_pct          0\n",
       "rwjf_teen_births_rate           0\n",
       "rwjf_unemploy_pct               0\n",
       "rwjf_poor_phy_hlth_days         0\n",
       "rwjf_poor_men_hlth_days         0\n",
       "rwjf_income_inequ_ratio         0\n",
       "rwjf_std_infect_rate            0\n",
       "rwjf_alcoholic_pct              0\n",
       "rwjf_mammography_pct            0\n",
       "rwjf_population                 0\n",
       "rwjf_age_gt_65_pct              0\n",
       "rwjf_female_pct                 0\n",
       "rwjf_rural_pct                  0\n",
       "rwjf_non_english_pct            0\n",
       "rwjf_diabetes_pct               0\n",
       "rwjf_men_hlth_prov_ratio        0\n",
       "rwjf_median_house_income        0\n",
       "preventive_visit_gap_ind        0\n",
       "dtype: int64"
      ]
     },
     "execution_count": 58,
     "metadata": {},
     "output_type": "execute_result"
    }
   ],
   "source": [
    "merged_df.isnull().sum().sort_values(ascending=False)"
   ]
  },
  {
   "cell_type": "code",
   "execution_count": 45,
   "metadata": {},
   "outputs": [
    {
     "data": {
      "text/plain": [
       "(1527904, 50)"
      ]
     },
     "execution_count": 45,
     "metadata": {},
     "output_type": "execute_result"
    }
   ],
   "source": [
    "merged_df.shape"
   ]
  },
  {
   "cell_type": "code",
   "execution_count": 65,
   "metadata": {},
   "outputs": [
    {
     "name": "stdout",
     "output_type": "stream",
     "text": [
      "(50000, 46)\n"
     ]
    }
   ],
   "source": [
    "from sklearn.model_selection import StratifiedShuffleSplit\n",
    "\n",
    "split = StratifiedShuffleSplit(n_splits=1, test_size=50000, random_state=42)\n",
    "\n",
    "for train_index, test_index in split.split(merged_df, merged_df['preventive_visit_gap_ind']):\n",
    "  strat_sample = merged_df.iloc[test_index]\n",
    "\n",
    "\n",
    "print(strat_sample.shape)"
   ]
  },
  {
   "cell_type": "code",
   "execution_count": 66,
   "metadata": {},
   "outputs": [
    {
     "name": "stderr",
     "output_type": "stream",
     "text": [
      "/tmp/ipykernel_9743/627056506.py:1: SettingWithCopyWarning: \n",
      "A value is trying to be set on a copy of a slice from a DataFrame\n",
      "\n",
      "See the caveats in the documentation: https://pandas.pydata.org/pandas-docs/stable/user_guide/indexing.html#returning-a-view-versus-a-copy\n",
      "  strat_sample.fillna(strat_sample.mean(), inplace=True)\n"
     ]
    }
   ],
   "source": [
    "strat_sample.fillna(strat_sample.mean(), inplace=True)"
   ]
  },
  {
   "cell_type": "code",
   "execution_count": 74,
   "metadata": {},
   "outputs": [
    {
     "ename": "KeyError",
     "evalue": "\"['preventive_visit_gap_ind'] not found in axis\"",
     "output_type": "error",
     "traceback": [
      "\u001b[0;31m---------------------------------------------------------------------------\u001b[0m",
      "\u001b[0;31mKeyError\u001b[0m                                  Traceback (most recent call last)",
      "Cell \u001b[0;32mIn[74], line 7\u001b[0m\n\u001b[1;32m      4\u001b[0m sdf \u001b[38;5;241m=\u001b[39m strat_sample\n\u001b[1;32m      6\u001b[0m \u001b[38;5;66;03m# Define your features (X) and target (y)\u001b[39;00m\n\u001b[0;32m----> 7\u001b[0m X \u001b[38;5;241m=\u001b[39m \u001b[43msdf\u001b[49m\u001b[38;5;241;43m.\u001b[39;49m\u001b[43mdrop\u001b[49m\u001b[43m(\u001b[49m\u001b[38;5;124;43m'\u001b[39;49m\u001b[38;5;124;43mpreventive_visit_gap_ind\u001b[39;49m\u001b[38;5;124;43m'\u001b[39;49m\u001b[43m,\u001b[49m\u001b[43m \u001b[49m\u001b[43maxis\u001b[49m\u001b[38;5;241;43m=\u001b[39;49m\u001b[38;5;241;43m1\u001b[39;49m\u001b[43m)\u001b[49m\n\u001b[1;32m      8\u001b[0m y \u001b[38;5;241m=\u001b[39m sdf[\u001b[38;5;124m'\u001b[39m\u001b[38;5;124mpreventive_visit_gap_ind\u001b[39m\u001b[38;5;124m'\u001b[39m]\n\u001b[1;32m     10\u001b[0m X_train, X_test, y_train, y_test \u001b[38;5;241m=\u001b[39m train_test_split(X, y, test_size \u001b[38;5;241m=\u001b[39m \u001b[38;5;241m0.2\u001b[39m, random_state \u001b[38;5;241m=\u001b[39m \u001b[38;5;241m42\u001b[39m)\n",
      "File \u001b[0;32m~/.local/lib/python3.8/site-packages/pandas/core/frame.py:5258\u001b[0m, in \u001b[0;36mDataFrame.drop\u001b[0;34m(self, labels, axis, index, columns, level, inplace, errors)\u001b[0m\n\u001b[1;32m   5110\u001b[0m \u001b[38;5;28;01mdef\u001b[39;00m \u001b[38;5;21mdrop\u001b[39m(\n\u001b[1;32m   5111\u001b[0m     \u001b[38;5;28mself\u001b[39m,\n\u001b[1;32m   5112\u001b[0m     labels: IndexLabel \u001b[38;5;241m=\u001b[39m \u001b[38;5;28;01mNone\u001b[39;00m,\n\u001b[0;32m   (...)\u001b[0m\n\u001b[1;32m   5119\u001b[0m     errors: IgnoreRaise \u001b[38;5;241m=\u001b[39m \u001b[38;5;124m\"\u001b[39m\u001b[38;5;124mraise\u001b[39m\u001b[38;5;124m\"\u001b[39m,\n\u001b[1;32m   5120\u001b[0m ) \u001b[38;5;241m-\u001b[39m\u001b[38;5;241m>\u001b[39m DataFrame \u001b[38;5;241m|\u001b[39m \u001b[38;5;28;01mNone\u001b[39;00m:\n\u001b[1;32m   5121\u001b[0m \u001b[38;5;250m    \u001b[39m\u001b[38;5;124;03m\"\"\"\u001b[39;00m\n\u001b[1;32m   5122\u001b[0m \u001b[38;5;124;03m    Drop specified labels from rows or columns.\u001b[39;00m\n\u001b[1;32m   5123\u001b[0m \n\u001b[0;32m   (...)\u001b[0m\n\u001b[1;32m   5256\u001b[0m \u001b[38;5;124;03m            weight  1.0     0.8\u001b[39;00m\n\u001b[1;32m   5257\u001b[0m \u001b[38;5;124;03m    \"\"\"\u001b[39;00m\n\u001b[0;32m-> 5258\u001b[0m     \u001b[38;5;28;01mreturn\u001b[39;00m \u001b[38;5;28;43msuper\u001b[39;49m\u001b[43m(\u001b[49m\u001b[43m)\u001b[49m\u001b[38;5;241;43m.\u001b[39;49m\u001b[43mdrop\u001b[49m\u001b[43m(\u001b[49m\n\u001b[1;32m   5259\u001b[0m \u001b[43m        \u001b[49m\u001b[43mlabels\u001b[49m\u001b[38;5;241;43m=\u001b[39;49m\u001b[43mlabels\u001b[49m\u001b[43m,\u001b[49m\n\u001b[1;32m   5260\u001b[0m \u001b[43m        \u001b[49m\u001b[43maxis\u001b[49m\u001b[38;5;241;43m=\u001b[39;49m\u001b[43maxis\u001b[49m\u001b[43m,\u001b[49m\n\u001b[1;32m   5261\u001b[0m \u001b[43m        \u001b[49m\u001b[43mindex\u001b[49m\u001b[38;5;241;43m=\u001b[39;49m\u001b[43mindex\u001b[49m\u001b[43m,\u001b[49m\n\u001b[1;32m   5262\u001b[0m \u001b[43m        \u001b[49m\u001b[43mcolumns\u001b[49m\u001b[38;5;241;43m=\u001b[39;49m\u001b[43mcolumns\u001b[49m\u001b[43m,\u001b[49m\n\u001b[1;32m   5263\u001b[0m \u001b[43m        \u001b[49m\u001b[43mlevel\u001b[49m\u001b[38;5;241;43m=\u001b[39;49m\u001b[43mlevel\u001b[49m\u001b[43m,\u001b[49m\n\u001b[1;32m   5264\u001b[0m \u001b[43m        \u001b[49m\u001b[43minplace\u001b[49m\u001b[38;5;241;43m=\u001b[39;49m\u001b[43minplace\u001b[49m\u001b[43m,\u001b[49m\n\u001b[1;32m   5265\u001b[0m \u001b[43m        \u001b[49m\u001b[43merrors\u001b[49m\u001b[38;5;241;43m=\u001b[39;49m\u001b[43merrors\u001b[49m\u001b[43m,\u001b[49m\n\u001b[1;32m   5266\u001b[0m \u001b[43m    \u001b[49m\u001b[43m)\u001b[49m\n",
      "File \u001b[0;32m~/.local/lib/python3.8/site-packages/pandas/core/generic.py:4549\u001b[0m, in \u001b[0;36mNDFrame.drop\u001b[0;34m(self, labels, axis, index, columns, level, inplace, errors)\u001b[0m\n\u001b[1;32m   4547\u001b[0m \u001b[38;5;28;01mfor\u001b[39;00m axis, labels \u001b[38;5;129;01min\u001b[39;00m axes\u001b[38;5;241m.\u001b[39mitems():\n\u001b[1;32m   4548\u001b[0m     \u001b[38;5;28;01mif\u001b[39;00m labels \u001b[38;5;129;01mis\u001b[39;00m \u001b[38;5;129;01mnot\u001b[39;00m \u001b[38;5;28;01mNone\u001b[39;00m:\n\u001b[0;32m-> 4549\u001b[0m         obj \u001b[38;5;241m=\u001b[39m \u001b[43mobj\u001b[49m\u001b[38;5;241;43m.\u001b[39;49m\u001b[43m_drop_axis\u001b[49m\u001b[43m(\u001b[49m\u001b[43mlabels\u001b[49m\u001b[43m,\u001b[49m\u001b[43m \u001b[49m\u001b[43maxis\u001b[49m\u001b[43m,\u001b[49m\u001b[43m \u001b[49m\u001b[43mlevel\u001b[49m\u001b[38;5;241;43m=\u001b[39;49m\u001b[43mlevel\u001b[49m\u001b[43m,\u001b[49m\u001b[43m \u001b[49m\u001b[43merrors\u001b[49m\u001b[38;5;241;43m=\u001b[39;49m\u001b[43merrors\u001b[49m\u001b[43m)\u001b[49m\n\u001b[1;32m   4551\u001b[0m \u001b[38;5;28;01mif\u001b[39;00m inplace:\n\u001b[1;32m   4552\u001b[0m     \u001b[38;5;28mself\u001b[39m\u001b[38;5;241m.\u001b[39m_update_inplace(obj)\n",
      "File \u001b[0;32m~/.local/lib/python3.8/site-packages/pandas/core/generic.py:4591\u001b[0m, in \u001b[0;36mNDFrame._drop_axis\u001b[0;34m(self, labels, axis, level, errors, only_slice)\u001b[0m\n\u001b[1;32m   4589\u001b[0m         new_axis \u001b[38;5;241m=\u001b[39m axis\u001b[38;5;241m.\u001b[39mdrop(labels, level\u001b[38;5;241m=\u001b[39mlevel, errors\u001b[38;5;241m=\u001b[39merrors)\n\u001b[1;32m   4590\u001b[0m     \u001b[38;5;28;01melse\u001b[39;00m:\n\u001b[0;32m-> 4591\u001b[0m         new_axis \u001b[38;5;241m=\u001b[39m \u001b[43maxis\u001b[49m\u001b[38;5;241;43m.\u001b[39;49m\u001b[43mdrop\u001b[49m\u001b[43m(\u001b[49m\u001b[43mlabels\u001b[49m\u001b[43m,\u001b[49m\u001b[43m \u001b[49m\u001b[43merrors\u001b[49m\u001b[38;5;241;43m=\u001b[39;49m\u001b[43merrors\u001b[49m\u001b[43m)\u001b[49m\n\u001b[1;32m   4592\u001b[0m     indexer \u001b[38;5;241m=\u001b[39m axis\u001b[38;5;241m.\u001b[39mget_indexer(new_axis)\n\u001b[1;32m   4594\u001b[0m \u001b[38;5;66;03m# Case for non-unique axis\u001b[39;00m\n\u001b[1;32m   4595\u001b[0m \u001b[38;5;28;01melse\u001b[39;00m:\n",
      "File \u001b[0;32m~/.local/lib/python3.8/site-packages/pandas/core/indexes/base.py:6699\u001b[0m, in \u001b[0;36mIndex.drop\u001b[0;34m(self, labels, errors)\u001b[0m\n\u001b[1;32m   6697\u001b[0m \u001b[38;5;28;01mif\u001b[39;00m mask\u001b[38;5;241m.\u001b[39many():\n\u001b[1;32m   6698\u001b[0m     \u001b[38;5;28;01mif\u001b[39;00m errors \u001b[38;5;241m!=\u001b[39m \u001b[38;5;124m\"\u001b[39m\u001b[38;5;124mignore\u001b[39m\u001b[38;5;124m\"\u001b[39m:\n\u001b[0;32m-> 6699\u001b[0m         \u001b[38;5;28;01mraise\u001b[39;00m \u001b[38;5;167;01mKeyError\u001b[39;00m(\u001b[38;5;124mf\u001b[39m\u001b[38;5;124m\"\u001b[39m\u001b[38;5;132;01m{\u001b[39;00m\u001b[38;5;28mlist\u001b[39m(labels[mask])\u001b[38;5;132;01m}\u001b[39;00m\u001b[38;5;124m not found in axis\u001b[39m\u001b[38;5;124m\"\u001b[39m)\n\u001b[1;32m   6700\u001b[0m     indexer \u001b[38;5;241m=\u001b[39m indexer[\u001b[38;5;241m~\u001b[39mmask]\n\u001b[1;32m   6701\u001b[0m \u001b[38;5;28;01mreturn\u001b[39;00m \u001b[38;5;28mself\u001b[39m\u001b[38;5;241m.\u001b[39mdelete(indexer)\n",
      "\u001b[0;31mKeyError\u001b[0m: \"['preventive_visit_gap_ind'] not found in axis\""
     ]
    }
   ],
   "source": [
    "from sklearn.ensemble import RandomForestClassifier\n",
    "from sklearn.model_selection import train_test_split\n",
    "\n",
    "sdf = strat_sample\n",
    "\n",
    "# Define your features (X) and target (y)\n",
    "X = sdf.drop('preventive_visit_gap_ind', axis=1)\n",
    "y = sdf['preventive_visit_gap_ind']\n",
    "\n",
    "X_train, X_test, y_train, y_test = train_test_split(X, y, test_size = 0.2, random_state = 42)\n",
    "\n",
    "rfc_100 = RandomForestClassifier(n_estimators=100, random_state=0)\n",
    "\n",
    "rfc_100.fit(X_train, y_train)\n",
    "\n",
    "y_pred_100 = rfc_100.predict(X_test)\n",
    "\n",
    "\n",
    "\n",
    "\n",
    "feature_scores = pd.Series(rfc_100.feature_importances_, index=X_train.columns).sort_values(ascending=False)\n",
    "\n",
    "feature_scores"
   ]
  },
  {
   "cell_type": "code",
   "execution_count": 64,
   "metadata": {},
   "outputs": [],
   "source": [
    "merged_df=merged_df.drop(columns=['rwjf_teen_births_rate', 'rwjf_exercise_access_pct','rwjf_adult_obesity_pct','rwjf_adult_smoking_pct'],axis=1)"
   ]
  },
  {
   "cell_type": "code",
   "execution_count": 72,
   "metadata": {},
   "outputs": [],
   "source": [
    "strat_sample = strat_sample.drop(columns=['rwjf_std_infect_rate','rwjf_drug_deaths_modl_rate','rwjf_premature_death_rate','rwjf_life_expectancy','rwjf_uninsured_adults_pct'],axis=1)"
   ]
  },
  {
   "cell_type": "code",
   "execution_count": 22,
   "metadata": {},
   "outputs": [],
   "source": [
    "features_to_keep = ['rwjf_diabetes_monitor_pct', 'rwjf_mammography_pct','rwjf_flu_vax', 'rwjf_healthcare_cost', 'rwjf_female_pct', 'rwjf_income_inequ_ratio','rwjf_insufficient_sleep_pct','rwjf_low_birthweight_pct','rwjf_alcoholic_pct','rwjf_long_commute_alone_pct','rwjf_broadband_access','rwjf_social_associate_rate','rwjf_non_english_pct','rwjf_population','rwjf_hawaiian_race_pct','rwjf_dui_deaths_pct','rwjf_unemploy_pct','rwjf_men_hlth_prov_ratio','rwjf_other_pcp','rwjf_pcp_rate','id']\n",
    "final_social_df = df.loc[:, features_to_keep]"
   ]
  },
  {
   "cell_type": "code",
   "execution_count": 68,
   "metadata": {},
   "outputs": [],
   "source": [
    "strat_sample = strat_sample.drop('preventive_visit_gap_ind',axis=1)"
   ]
  },
  {
   "cell_type": "code",
   "execution_count": 73,
   "metadata": {},
   "outputs": [
    {
     "data": {
      "text/plain": [
       "(50000, 40)"
      ]
     },
     "execution_count": 73,
     "metadata": {},
     "output_type": "execute_result"
    }
   ],
   "source": [
    "strat_sample.shape"
   ]
  },
  {
   "cell_type": "code",
   "execution_count": 75,
   "metadata": {},
   "outputs": [],
   "source": [
    "col_name = strat_sample.columns.tolist()"
   ]
  },
  {
   "cell_type": "code",
   "execution_count": 25,
   "metadata": {},
   "outputs": [
    {
     "data": {
      "text/plain": [
       "(1527904, 21)"
      ]
     },
     "execution_count": 25,
     "metadata": {},
     "output_type": "execute_result"
    }
   ],
   "source": [
    "final_social_df.shape"
   ]
  },
  {
   "cell_type": "code",
   "execution_count": null,
   "metadata": {},
   "outputs": [],
   "source": [
    "final_social_df=final_social_df.drop(columns=['rwjf_low_birthweight_pct','rwjf_hawaiian_race_pct',''], axis=1)"
   ]
  },
  {
   "cell_type": "code",
   "execution_count": 24,
   "metadata": {},
   "outputs": [],
   "source": [
    "final_social_df.to_csv('final_social_v2.csv',index=False)"
   ]
  },
  {
   "cell_type": "code",
   "execution_count": 26,
   "metadata": {},
   "outputs": [],
   "source": [
    "f_df = pd.read_csv('final_social_v2.csv')"
   ]
  },
  {
   "cell_type": "code",
   "execution_count": 27,
   "metadata": {},
   "outputs": [
    {
     "data": {
      "text/plain": [
       "(1527904, 21)"
      ]
     },
     "execution_count": 27,
     "metadata": {},
     "output_type": "execute_result"
    }
   ],
   "source": [
    "f_df.shape"
   ]
  },
  {
   "cell_type": "code",
   "execution_count": 4,
   "metadata": {},
   "outputs": [],
   "source": [
    "def vif_cal(input_data, dependent_col):\n",
    "    x_vars=input_data.drop([dependent_col], axis=1)\n",
    "    xvar_names=x_vars.columns\n",
    "    for i in range(0,xvar_names.shape[0]):\n",
    "        y=x_vars[xvar_names[i]] \n",
    "        x=x_vars[xvar_names.drop(xvar_names[i])]\n",
    "        rsq=sm.ols(formula=\"y~x\", data=x_vars).fit().rsquared  \n",
    "        vif=round(1/(1-rsq),2)\n",
    "        print (xvar_names[i], \" VIF = \" , vif)"
   ]
  },
  {
   "cell_type": "code",
   "execution_count": 4,
   "metadata": {},
   "outputs": [],
   "source": [
    "df = df.drop(columns=['rwjf_suicides_rate', 'rwjf_violent_crime_rate', 'rwjf_high_school_pct', 'rwjf_child_free_lunch_pct', 'rwjf_drinkwater_violate_ind', 'rwjf_mv_deaths_rate', 'rwjf_resident_seg_nonwhite_inx'], axis=1)  "
   ]
  },
  {
   "cell_type": "code",
   "execution_count": 8,
   "metadata": {
    "colab": {
     "base_uri": "https://localhost:8080/",
     "height": 444
    },
    "id": "wxyKzNeD5pNd",
    "outputId": "9d943def-e63c-4118-8819-7246a0da821d"
   },
   "outputs": [
    {
     "data": {
      "text/plain": [
       "rwjf_pcp_rate                   9832\n",
       "rwjf_men_hlth_prov_ratio        9118\n",
       "rwjf_limit_hlthy_food_pct       4884\n",
       "rwjf_food_env_inx               4884\n",
       "rwjf_teen_births_rate           2827\n",
       "rwjf_std_infect_rate            2552\n",
       "rwjf_diabetes_monitor_pct       2184\n",
       "rwjf_other_pcp                  2074\n",
       "rwjf_healthcare_cost            2000\n",
       "rwjf_mammography_pct            1941\n",
       "rwjf_flu_vax                    1940\n",
       "rwjf_injury_deaths_rate         1546\n",
       "rwjf_low_birthweight_pct        1438\n",
       "rwjf_dui_deaths_pct             1363\n",
       "rwjf_life_expectancy            1180\n",
       "rwjf_premature_mortality        1140\n",
       "rwjf_premature_death_rate       1140\n",
       "rwjf_income_inequ_ratio          999\n",
       "rwjf_rural_pct                   983\n",
       "rwjf_housing_cost_burden_pct     983\n",
       "rwjf_social_associate_rate       982\n",
       "rwjf_food_insecurity_pct         982\n",
       "rwjf_long_commute_alone_pct      982\n",
       "rwjf_severe_housing_pct          982\n",
       "rwjf_insufficient_sleep_pct      982\n",
       "rwjf_uninsured_child_pct         982\n",
       "rwjf_mental_distress_pct         982\n",
       "rwjf_broadband_access            982\n",
       "rwjf_white_race_pct              982\n",
       "rwjf_physical_distress_pct       982\n",
       "rwjf_hawaiian_race_pct           982\n",
       "rwjf_uninsured_pct               982\n",
       "rwjf_age_lt_18_pct               982\n",
       "rwjf_uninsured_adults_pct        982\n",
       "rwjf_adult_smoking_pct           982\n",
       "rwjf_unemploy_pct                982\n",
       "rwjf_child_poverty_pct           982\n",
       "rwjf_poor_phy_hlth_days          982\n",
       "rwjf_poor_men_hlth_days          982\n",
       "rwjf_alcoholic_pct               982\n",
       "rwjf_population                  982\n",
       "rwjf_african_race_pct            982\n",
       "rwjf_single_parent_pct           982\n",
       "rwjf_native_race_pct             982\n",
       "rwjf_hispanic_pct                982\n",
       "rwjf_female_pct                  982\n",
       "rwjf_non_english_pct             982\n",
       "rwjf_some_college_pct            982\n",
       "rwjf_inactivity_pct              982\n",
       "rwjf_poor_health_pct             982\n",
       "rwjf_asian_race_pct              982\n",
       "id                                 0\n",
       "dtype: int64"
      ]
     },
     "execution_count": 8,
     "metadata": {},
     "output_type": "execute_result"
    }
   ],
   "source": [
    "df.isnull().sum().sort_values(ascending=False)"
   ]
  },
  {
   "cell_type": "code",
   "execution_count": 5,
   "metadata": {},
   "outputs": [],
   "source": [
    "df = df.drop(columns=['rwjf_infant_mortality','rwjf_disconnect_youth_pct', 'rwjf_homicides_rate', 'rwjf_child_mortality', 'rwjf_drug_overdose_deaths_rate'], axis=1)"
   ]
  },
  {
   "cell_type": "code",
   "execution_count": 6,
   "metadata": {},
   "outputs": [],
   "source": [
    "df = df.drop(columns=['rwjf_resident_seg_black_inx', 'rwjf_hiv_rate', 'rwjf_firearm_fatalities_rate'],axis=1)"
   ]
  },
  {
   "cell_type": "code",
   "execution_count": 7,
   "metadata": {},
   "outputs": [],
   "source": [
    "df = df.drop(columns=['rwjf_drug_deaths_modl_rate', 'rwjf_adult_obesity_pct', 'rwjf_diabetes_pct', 'rwjf_home_ownership_pct', 'rwjf_air_pollute_density', 'rwjf_age_gt_65_pct','rwjf_dentists_ratio','rwjf_drive_alone_pct','rwjf_median_house_income','rwjf_preventable_ip_rate','rwjf_exercise_access_pct'],axis=1)"
   ]
  },
  {
   "cell_type": "code",
   "execution_count": 9,
   "metadata": {},
   "outputs": [
    {
     "ename": "KeyError",
     "evalue": "\"['rwjf_homicides_rate', 'rwjf_hiv_rate', 'rwjf_child_mortality', 'rwjf_disconnect_youth_pct', 'rwjf_infant_mortality', 'rwjf_child_free_lunch_pct'] not found in axis\"",
     "output_type": "error",
     "traceback": [
      "\u001b[0;31m---------------------------------------------------------------------------\u001b[0m",
      "\u001b[0;31mKeyError\u001b[0m                                  Traceback (most recent call last)",
      "Cell \u001b[0;32mIn[9], line 1\u001b[0m\n\u001b[0;32m----> 1\u001b[0m df \u001b[38;5;241m=\u001b[39m \u001b[43mdf\u001b[49m\u001b[38;5;241;43m.\u001b[39;49m\u001b[43mdrop\u001b[49m\u001b[43m(\u001b[49m\u001b[43mcolumns\u001b[49m\u001b[38;5;241;43m=\u001b[39;49m\u001b[43m[\u001b[49m\u001b[38;5;124;43m'\u001b[39;49m\u001b[38;5;124;43mrwjf_homicides_rate\u001b[39;49m\u001b[38;5;124;43m'\u001b[39;49m\u001b[43m,\u001b[49m\u001b[43m \u001b[49m\u001b[38;5;124;43m'\u001b[39;49m\u001b[38;5;124;43mrwjf_hiv_rate\u001b[39;49m\u001b[38;5;124;43m'\u001b[39;49m\u001b[43m,\u001b[49m\u001b[43m \u001b[49m\u001b[38;5;124;43m'\u001b[39;49m\u001b[38;5;124;43mrwjf_child_mortality\u001b[39;49m\u001b[38;5;124;43m'\u001b[39;49m\u001b[43m,\u001b[49m\u001b[43m \u001b[49m\u001b[38;5;124;43m'\u001b[39;49m\u001b[38;5;124;43mrwjf_disconnect_youth_pct\u001b[39;49m\u001b[38;5;124;43m'\u001b[39;49m\u001b[43m,\u001b[49m\u001b[43m \u001b[49m\u001b[38;5;124;43m'\u001b[39;49m\u001b[38;5;124;43mrwjf_infant_mortality\u001b[39;49m\u001b[38;5;124;43m'\u001b[39;49m\u001b[43m,\u001b[49m\u001b[43m \u001b[49m\u001b[38;5;124;43m'\u001b[39;49m\u001b[38;5;124;43mrwjf_child_free_lunch_pct\u001b[39;49m\u001b[38;5;124;43m'\u001b[39;49m\u001b[43m,\u001b[49m\u001b[43m \u001b[49m\u001b[38;5;124;43m'\u001b[39;49m\u001b[38;5;124;43mrwjf_some_college_pct\u001b[39;49m\u001b[38;5;124;43m'\u001b[39;49m\u001b[43m,\u001b[49m\u001b[43m \u001b[49m\u001b[38;5;124;43m'\u001b[39;49m\u001b[38;5;124;43mrwjf_single_parent_pct\u001b[39;49m\u001b[38;5;124;43m'\u001b[39;49m\u001b[43m,\u001b[49m\u001b[43m \u001b[49m\u001b[38;5;124;43m'\u001b[39;49m\u001b[38;5;124;43mrwjf_child_poverty_pct\u001b[39;49m\u001b[38;5;124;43m'\u001b[39;49m\u001b[43m,\u001b[49m\u001b[43m \u001b[49m\u001b[38;5;124;43m'\u001b[39;49m\u001b[38;5;124;43mrwjf_age_lt_18_pct\u001b[39;49m\u001b[38;5;124;43m'\u001b[39;49m\u001b[43m,\u001b[49m\u001b[43m \u001b[49m\u001b[38;5;124;43m'\u001b[39;49m\u001b[38;5;124;43mrwjf_uninsured_child_pct\u001b[39;49m\u001b[38;5;124;43m'\u001b[39;49m\u001b[43m,\u001b[49m\u001b[43m \u001b[49m\u001b[38;5;124;43m'\u001b[39;49m\u001b[38;5;124;43mrwjf_teen_births_rate\u001b[39;49m\u001b[38;5;124;43m'\u001b[39;49m\u001b[43m,\u001b[49m\u001b[43m \u001b[49m\u001b[38;5;124;43m'\u001b[39;49m\u001b[38;5;124;43mrwjf_inactivity_pct\u001b[39;49m\u001b[38;5;124;43m'\u001b[39;49m\u001b[43m]\u001b[49m\u001b[43m,\u001b[49m\u001b[43m \u001b[49m\u001b[43maxis\u001b[49m\u001b[38;5;241;43m=\u001b[39;49m\u001b[38;5;241;43m1\u001b[39;49m\u001b[43m)\u001b[49m\n",
      "File \u001b[0;32m~/.local/lib/python3.8/site-packages/pandas/core/frame.py:5258\u001b[0m, in \u001b[0;36mDataFrame.drop\u001b[0;34m(self, labels, axis, index, columns, level, inplace, errors)\u001b[0m\n\u001b[1;32m   5110\u001b[0m \u001b[38;5;28;01mdef\u001b[39;00m \u001b[38;5;21mdrop\u001b[39m(\n\u001b[1;32m   5111\u001b[0m     \u001b[38;5;28mself\u001b[39m,\n\u001b[1;32m   5112\u001b[0m     labels: IndexLabel \u001b[38;5;241m=\u001b[39m \u001b[38;5;28;01mNone\u001b[39;00m,\n\u001b[0;32m   (...)\u001b[0m\n\u001b[1;32m   5119\u001b[0m     errors: IgnoreRaise \u001b[38;5;241m=\u001b[39m \u001b[38;5;124m\"\u001b[39m\u001b[38;5;124mraise\u001b[39m\u001b[38;5;124m\"\u001b[39m,\n\u001b[1;32m   5120\u001b[0m ) \u001b[38;5;241m-\u001b[39m\u001b[38;5;241m>\u001b[39m DataFrame \u001b[38;5;241m|\u001b[39m \u001b[38;5;28;01mNone\u001b[39;00m:\n\u001b[1;32m   5121\u001b[0m \u001b[38;5;250m    \u001b[39m\u001b[38;5;124;03m\"\"\"\u001b[39;00m\n\u001b[1;32m   5122\u001b[0m \u001b[38;5;124;03m    Drop specified labels from rows or columns.\u001b[39;00m\n\u001b[1;32m   5123\u001b[0m \n\u001b[0;32m   (...)\u001b[0m\n\u001b[1;32m   5256\u001b[0m \u001b[38;5;124;03m            weight  1.0     0.8\u001b[39;00m\n\u001b[1;32m   5257\u001b[0m \u001b[38;5;124;03m    \"\"\"\u001b[39;00m\n\u001b[0;32m-> 5258\u001b[0m     \u001b[38;5;28;01mreturn\u001b[39;00m \u001b[38;5;28;43msuper\u001b[39;49m\u001b[43m(\u001b[49m\u001b[43m)\u001b[49m\u001b[38;5;241;43m.\u001b[39;49m\u001b[43mdrop\u001b[49m\u001b[43m(\u001b[49m\n\u001b[1;32m   5259\u001b[0m \u001b[43m        \u001b[49m\u001b[43mlabels\u001b[49m\u001b[38;5;241;43m=\u001b[39;49m\u001b[43mlabels\u001b[49m\u001b[43m,\u001b[49m\n\u001b[1;32m   5260\u001b[0m \u001b[43m        \u001b[49m\u001b[43maxis\u001b[49m\u001b[38;5;241;43m=\u001b[39;49m\u001b[43maxis\u001b[49m\u001b[43m,\u001b[49m\n\u001b[1;32m   5261\u001b[0m \u001b[43m        \u001b[49m\u001b[43mindex\u001b[49m\u001b[38;5;241;43m=\u001b[39;49m\u001b[43mindex\u001b[49m\u001b[43m,\u001b[49m\n\u001b[1;32m   5262\u001b[0m \u001b[43m        \u001b[49m\u001b[43mcolumns\u001b[49m\u001b[38;5;241;43m=\u001b[39;49m\u001b[43mcolumns\u001b[49m\u001b[43m,\u001b[49m\n\u001b[1;32m   5263\u001b[0m \u001b[43m        \u001b[49m\u001b[43mlevel\u001b[49m\u001b[38;5;241;43m=\u001b[39;49m\u001b[43mlevel\u001b[49m\u001b[43m,\u001b[49m\n\u001b[1;32m   5264\u001b[0m \u001b[43m        \u001b[49m\u001b[43minplace\u001b[49m\u001b[38;5;241;43m=\u001b[39;49m\u001b[43minplace\u001b[49m\u001b[43m,\u001b[49m\n\u001b[1;32m   5265\u001b[0m \u001b[43m        \u001b[49m\u001b[43merrors\u001b[49m\u001b[38;5;241;43m=\u001b[39;49m\u001b[43merrors\u001b[49m\u001b[43m,\u001b[49m\n\u001b[1;32m   5266\u001b[0m \u001b[43m    \u001b[49m\u001b[43m)\u001b[49m\n",
      "File \u001b[0;32m~/.local/lib/python3.8/site-packages/pandas/core/generic.py:4549\u001b[0m, in \u001b[0;36mNDFrame.drop\u001b[0;34m(self, labels, axis, index, columns, level, inplace, errors)\u001b[0m\n\u001b[1;32m   4547\u001b[0m \u001b[38;5;28;01mfor\u001b[39;00m axis, labels \u001b[38;5;129;01min\u001b[39;00m axes\u001b[38;5;241m.\u001b[39mitems():\n\u001b[1;32m   4548\u001b[0m     \u001b[38;5;28;01mif\u001b[39;00m labels \u001b[38;5;129;01mis\u001b[39;00m \u001b[38;5;129;01mnot\u001b[39;00m \u001b[38;5;28;01mNone\u001b[39;00m:\n\u001b[0;32m-> 4549\u001b[0m         obj \u001b[38;5;241m=\u001b[39m \u001b[43mobj\u001b[49m\u001b[38;5;241;43m.\u001b[39;49m\u001b[43m_drop_axis\u001b[49m\u001b[43m(\u001b[49m\u001b[43mlabels\u001b[49m\u001b[43m,\u001b[49m\u001b[43m \u001b[49m\u001b[43maxis\u001b[49m\u001b[43m,\u001b[49m\u001b[43m \u001b[49m\u001b[43mlevel\u001b[49m\u001b[38;5;241;43m=\u001b[39;49m\u001b[43mlevel\u001b[49m\u001b[43m,\u001b[49m\u001b[43m \u001b[49m\u001b[43merrors\u001b[49m\u001b[38;5;241;43m=\u001b[39;49m\u001b[43merrors\u001b[49m\u001b[43m)\u001b[49m\n\u001b[1;32m   4551\u001b[0m \u001b[38;5;28;01mif\u001b[39;00m inplace:\n\u001b[1;32m   4552\u001b[0m     \u001b[38;5;28mself\u001b[39m\u001b[38;5;241m.\u001b[39m_update_inplace(obj)\n",
      "File \u001b[0;32m~/.local/lib/python3.8/site-packages/pandas/core/generic.py:4591\u001b[0m, in \u001b[0;36mNDFrame._drop_axis\u001b[0;34m(self, labels, axis, level, errors, only_slice)\u001b[0m\n\u001b[1;32m   4589\u001b[0m         new_axis \u001b[38;5;241m=\u001b[39m axis\u001b[38;5;241m.\u001b[39mdrop(labels, level\u001b[38;5;241m=\u001b[39mlevel, errors\u001b[38;5;241m=\u001b[39merrors)\n\u001b[1;32m   4590\u001b[0m     \u001b[38;5;28;01melse\u001b[39;00m:\n\u001b[0;32m-> 4591\u001b[0m         new_axis \u001b[38;5;241m=\u001b[39m \u001b[43maxis\u001b[49m\u001b[38;5;241;43m.\u001b[39;49m\u001b[43mdrop\u001b[49m\u001b[43m(\u001b[49m\u001b[43mlabels\u001b[49m\u001b[43m,\u001b[49m\u001b[43m \u001b[49m\u001b[43merrors\u001b[49m\u001b[38;5;241;43m=\u001b[39;49m\u001b[43merrors\u001b[49m\u001b[43m)\u001b[49m\n\u001b[1;32m   4592\u001b[0m     indexer \u001b[38;5;241m=\u001b[39m axis\u001b[38;5;241m.\u001b[39mget_indexer(new_axis)\n\u001b[1;32m   4594\u001b[0m \u001b[38;5;66;03m# Case for non-unique axis\u001b[39;00m\n\u001b[1;32m   4595\u001b[0m \u001b[38;5;28;01melse\u001b[39;00m:\n",
      "File \u001b[0;32m~/.local/lib/python3.8/site-packages/pandas/core/indexes/base.py:6699\u001b[0m, in \u001b[0;36mIndex.drop\u001b[0;34m(self, labels, errors)\u001b[0m\n\u001b[1;32m   6697\u001b[0m \u001b[38;5;28;01mif\u001b[39;00m mask\u001b[38;5;241m.\u001b[39many():\n\u001b[1;32m   6698\u001b[0m     \u001b[38;5;28;01mif\u001b[39;00m errors \u001b[38;5;241m!=\u001b[39m \u001b[38;5;124m\"\u001b[39m\u001b[38;5;124mignore\u001b[39m\u001b[38;5;124m\"\u001b[39m:\n\u001b[0;32m-> 6699\u001b[0m         \u001b[38;5;28;01mraise\u001b[39;00m \u001b[38;5;167;01mKeyError\u001b[39;00m(\u001b[38;5;124mf\u001b[39m\u001b[38;5;124m\"\u001b[39m\u001b[38;5;132;01m{\u001b[39;00m\u001b[38;5;28mlist\u001b[39m(labels[mask])\u001b[38;5;132;01m}\u001b[39;00m\u001b[38;5;124m not found in axis\u001b[39m\u001b[38;5;124m\"\u001b[39m)\n\u001b[1;32m   6700\u001b[0m     indexer \u001b[38;5;241m=\u001b[39m indexer[\u001b[38;5;241m~\u001b[39mmask]\n\u001b[1;32m   6701\u001b[0m \u001b[38;5;28;01mreturn\u001b[39;00m \u001b[38;5;28mself\u001b[39m\u001b[38;5;241m.\u001b[39mdelete(indexer)\n",
      "\u001b[0;31mKeyError\u001b[0m: \"['rwjf_homicides_rate', 'rwjf_hiv_rate', 'rwjf_child_mortality', 'rwjf_disconnect_youth_pct', 'rwjf_infant_mortality', 'rwjf_child_free_lunch_pct'] not found in axis\""
     ]
    }
   ],
   "source": [
    "df = df.drop(columns=['rwjf_homicides_rate', 'rwjf_hiv_rate', 'rwjf_child_mortality', 'rwjf_disconnect_youth_pct', 'rwjf_infant_mortality', 'rwjf_child_free_lunch_pct', 'rwjf_some_college_pct', 'rwjf_single_parent_pct', 'rwjf_child_poverty_pct', 'rwjf_age_lt_18_pct', 'rwjf_uninsured_child_pct', 'rwjf_teen_births_rate', 'rwjf_inactivity_pct'], axis=1)"
   ]
  },
  {
   "cell_type": "code",
   "execution_count": 10,
   "metadata": {
    "colab": {
     "base_uri": "https://localhost:8080/"
    },
    "id": "V3Y7kEOkCiPz",
    "outputId": "605cedf6-d37c-4481-81f3-ab0f391a162d"
   },
   "outputs": [
    {
     "data": {
      "text/plain": [
       "(1527904, 52)"
      ]
     },
     "execution_count": 10,
     "metadata": {},
     "output_type": "execute_result"
    }
   ],
   "source": [
    "df.shape"
   ]
  },
  {
   "cell_type": "code",
   "execution_count": 9,
   "metadata": {
    "id": "bHTpcDxxyKZ2"
   },
   "outputs": [],
   "source": [
    "import statsmodels.formula.api as sm\n",
    "\n",
    "def vif_cal(input_data, dependent_col):\n",
    "    x_vars=input_data.drop([dependent_col], axis=1)\n",
    "    xvar_names=x_vars.columns\n",
    "    for i in range(0,xvar_names.shape[0]):\n",
    "        y=x_vars[xvar_names[i]]\n",
    "        x=x_vars[xvar_names.drop(xvar_names[i])]\n",
    "        rsq=sm.ols(formula=\"y~x\", data=x_vars).fit().rsquared\n",
    "        vif=round(1/(1-rsq),2)\n",
    "        print (xvar_names[i], \" VIF = \" , vif)"
   ]
  },
  {
   "cell_type": "code",
   "execution_count": 10,
   "metadata": {
    "id": "9z1qe8iZzAbi"
   },
   "outputs": [],
   "source": [
    "\n",
    "merged_df = pd.merge(df, target[['id', 'preventive_visit_gap_ind']], on='id', how='left')\n"
   ]
  },
  {
   "cell_type": "code",
   "execution_count": 15,
   "metadata": {
    "colab": {
     "base_uri": "https://localhost:8080/"
    },
    "id": "N6-Gt2J_yLhg",
    "outputId": "53ea9686-3685-47dc-954f-50a8fae9ff07"
   },
   "outputs": [
    {
     "name": "stdout",
     "output_type": "stream",
     "text": [
      "rwjf_pcp_rate  VIF =  3.49\n",
      "rwjf_teen_births_rate  VIF =  4.87\n",
      "rwjf_unemploy_pct  VIF =  1.82\n",
      "rwjf_child_poverty_pct  VIF =  8.09\n",
      "rwjf_low_birthweight_pct  VIF =  3.72\n",
      "rwjf_income_inequ_ratio  VIF =  2.65\n",
      "rwjf_std_infect_rate  VIF =  3.69\n",
      "rwjf_alcoholic_pct  VIF =  2.27\n",
      "rwjf_mammography_pct  VIF =  2.27\n",
      "rwjf_population  VIF =  2.16\n",
      "rwjf_age_lt_18_pct  VIF =  2.3\n",
      "rwjf_native_race_pct  VIF =  2.34\n",
      "rwjf_female_pct  VIF =  1.54\n",
      "rwjf_rural_pct  VIF =  5.7\n",
      "rwjf_non_english_pct  VIF =  2.58\n",
      "rwjf_men_hlth_prov_ratio  VIF =  1.7\n",
      "rwjf_inactivity_pct  VIF =  3.3\n",
      "rwjf_hawaiian_race_pct  VIF =  2.69\n",
      "rwjf_asian_race_pct  VIF =  4.19\n",
      "rwjf_single_parent_pct  VIF =  5.22\n",
      "rwjf_limit_hlthy_food_pct  VIF =  1.65\n",
      "rwjf_other_pcp  VIF =  2.6\n",
      "rwjf_dui_deaths_pct  VIF =  1.16\n",
      "rwjf_injury_deaths_rate  VIF =  2.51\n"
     ]
    },
    {
     "ename": "KeyboardInterrupt",
     "evalue": "",
     "output_type": "error",
     "traceback": [
      "\u001b[0;31m---------------------------------------------------------------------------\u001b[0m",
      "\u001b[0;31mKeyboardInterrupt\u001b[0m                         Traceback (most recent call last)",
      "Cell \u001b[0;32mIn[15], line 1\u001b[0m\n\u001b[0;32m----> 1\u001b[0m \u001b[43mvif_cal\u001b[49m\u001b[43m(\u001b[49m\u001b[43minput_data\u001b[49m\u001b[38;5;241;43m=\u001b[39;49m\u001b[43mmerged_df\u001b[49m\u001b[43m,\u001b[49m\u001b[43m \u001b[49m\u001b[43mdependent_col\u001b[49m\u001b[38;5;241;43m=\u001b[39;49m\u001b[38;5;124;43m'\u001b[39;49m\u001b[38;5;124;43mpreventive_visit_gap_ind\u001b[39;49m\u001b[38;5;124;43m'\u001b[39;49m\u001b[43m)\u001b[49m\n",
      "Cell \u001b[0;32mIn[9], line 9\u001b[0m, in \u001b[0;36mvif_cal\u001b[0;34m(input_data, dependent_col)\u001b[0m\n\u001b[1;32m      7\u001b[0m y\u001b[38;5;241m=\u001b[39mx_vars[xvar_names[i]]\n\u001b[1;32m      8\u001b[0m x\u001b[38;5;241m=\u001b[39mx_vars[xvar_names\u001b[38;5;241m.\u001b[39mdrop(xvar_names[i])]\n\u001b[0;32m----> 9\u001b[0m rsq\u001b[38;5;241m=\u001b[39m\u001b[43msm\u001b[49m\u001b[38;5;241;43m.\u001b[39;49m\u001b[43mols\u001b[49m\u001b[43m(\u001b[49m\u001b[43mformula\u001b[49m\u001b[38;5;241;43m=\u001b[39;49m\u001b[38;5;124;43m\"\u001b[39;49m\u001b[38;5;124;43my~x\u001b[39;49m\u001b[38;5;124;43m\"\u001b[39;49m\u001b[43m,\u001b[49m\u001b[43m \u001b[49m\u001b[43mdata\u001b[49m\u001b[38;5;241;43m=\u001b[39;49m\u001b[43mx_vars\u001b[49m\u001b[43m)\u001b[49m\u001b[38;5;241m.\u001b[39mfit()\u001b[38;5;241m.\u001b[39mrsquared\n\u001b[1;32m     10\u001b[0m vif\u001b[38;5;241m=\u001b[39m\u001b[38;5;28mround\u001b[39m(\u001b[38;5;241m1\u001b[39m\u001b[38;5;241m/\u001b[39m(\u001b[38;5;241m1\u001b[39m\u001b[38;5;241m-\u001b[39mrsq),\u001b[38;5;241m2\u001b[39m)\n\u001b[1;32m     11\u001b[0m \u001b[38;5;28mprint\u001b[39m (xvar_names[i], \u001b[38;5;124m\"\u001b[39m\u001b[38;5;124m VIF = \u001b[39m\u001b[38;5;124m\"\u001b[39m , vif)\n",
      "File \u001b[0;32m~/.local/lib/python3.8/site-packages/statsmodels/base/model.py:203\u001b[0m, in \u001b[0;36mModel.from_formula\u001b[0;34m(cls, formula, data, subset, drop_cols, *args, **kwargs)\u001b[0m\n\u001b[1;32m    200\u001b[0m \u001b[38;5;28;01mif\u001b[39;00m missing \u001b[38;5;241m==\u001b[39m \u001b[38;5;124m'\u001b[39m\u001b[38;5;124mnone\u001b[39m\u001b[38;5;124m'\u001b[39m:  \u001b[38;5;66;03m# with patsy it's drop or raise. let's raise.\u001b[39;00m\n\u001b[1;32m    201\u001b[0m     missing \u001b[38;5;241m=\u001b[39m \u001b[38;5;124m'\u001b[39m\u001b[38;5;124mraise\u001b[39m\u001b[38;5;124m'\u001b[39m\n\u001b[0;32m--> 203\u001b[0m tmp \u001b[38;5;241m=\u001b[39m \u001b[43mhandle_formula_data\u001b[49m\u001b[43m(\u001b[49m\u001b[43mdata\u001b[49m\u001b[43m,\u001b[49m\u001b[43m \u001b[49m\u001b[38;5;28;43;01mNone\u001b[39;49;00m\u001b[43m,\u001b[49m\u001b[43m \u001b[49m\u001b[43mformula\u001b[49m\u001b[43m,\u001b[49m\u001b[43m \u001b[49m\u001b[43mdepth\u001b[49m\u001b[38;5;241;43m=\u001b[39;49m\u001b[43meval_env\u001b[49m\u001b[43m,\u001b[49m\n\u001b[1;32m    204\u001b[0m \u001b[43m                          \u001b[49m\u001b[43mmissing\u001b[49m\u001b[38;5;241;43m=\u001b[39;49m\u001b[43mmissing\u001b[49m\u001b[43m)\u001b[49m\n\u001b[1;32m    205\u001b[0m ((endog, exog), missing_idx, design_info) \u001b[38;5;241m=\u001b[39m tmp\n\u001b[1;32m    206\u001b[0m max_endog \u001b[38;5;241m=\u001b[39m \u001b[38;5;28mcls\u001b[39m\u001b[38;5;241m.\u001b[39m_formula_max_endog\n",
      "File \u001b[0;32m~/.local/lib/python3.8/site-packages/statsmodels/formula/formulatools.py:63\u001b[0m, in \u001b[0;36mhandle_formula_data\u001b[0;34m(Y, X, formula, depth, missing)\u001b[0m\n\u001b[1;32m     61\u001b[0m \u001b[38;5;28;01melse\u001b[39;00m:\n\u001b[1;32m     62\u001b[0m     \u001b[38;5;28;01mif\u001b[39;00m data_util\u001b[38;5;241m.\u001b[39m_is_using_pandas(Y, \u001b[38;5;28;01mNone\u001b[39;00m):\n\u001b[0;32m---> 63\u001b[0m         result \u001b[38;5;241m=\u001b[39m \u001b[43mdmatrices\u001b[49m\u001b[43m(\u001b[49m\u001b[43mformula\u001b[49m\u001b[43m,\u001b[49m\u001b[43m \u001b[49m\u001b[43mY\u001b[49m\u001b[43m,\u001b[49m\u001b[43m \u001b[49m\u001b[43mdepth\u001b[49m\u001b[43m,\u001b[49m\u001b[43m \u001b[49m\u001b[43mreturn_type\u001b[49m\u001b[38;5;241;43m=\u001b[39;49m\u001b[38;5;124;43m'\u001b[39;49m\u001b[38;5;124;43mdataframe\u001b[39;49m\u001b[38;5;124;43m'\u001b[39;49m\u001b[43m,\u001b[49m\n\u001b[1;32m     64\u001b[0m \u001b[43m                           \u001b[49m\u001b[43mNA_action\u001b[49m\u001b[38;5;241;43m=\u001b[39;49m\u001b[43mna_action\u001b[49m\u001b[43m)\u001b[49m\n\u001b[1;32m     65\u001b[0m     \u001b[38;5;28;01melse\u001b[39;00m:\n\u001b[1;32m     66\u001b[0m         result \u001b[38;5;241m=\u001b[39m dmatrices(formula, Y, depth, return_type\u001b[38;5;241m=\u001b[39m\u001b[38;5;124m'\u001b[39m\u001b[38;5;124mdataframe\u001b[39m\u001b[38;5;124m'\u001b[39m,\n\u001b[1;32m     67\u001b[0m                            NA_action\u001b[38;5;241m=\u001b[39mna_action)\n",
      "File \u001b[0;32m~/.local/lib/python3.8/site-packages/patsy/highlevel.py:309\u001b[0m, in \u001b[0;36mdmatrices\u001b[0;34m(formula_like, data, eval_env, NA_action, return_type)\u001b[0m\n\u001b[1;32m    299\u001b[0m \u001b[38;5;250m\u001b[39m\u001b[38;5;124;03m\"\"\"Construct two design matrices given a formula_like and data.\u001b[39;00m\n\u001b[1;32m    300\u001b[0m \n\u001b[1;32m    301\u001b[0m \u001b[38;5;124;03mThis function is identical to :func:`dmatrix`, except that it requires\u001b[39;00m\n\u001b[0;32m   (...)\u001b[0m\n\u001b[1;32m    306\u001b[0m \u001b[38;5;124;03mSee :func:`dmatrix` for details.\u001b[39;00m\n\u001b[1;32m    307\u001b[0m \u001b[38;5;124;03m\"\"\"\u001b[39;00m\n\u001b[1;32m    308\u001b[0m eval_env \u001b[38;5;241m=\u001b[39m EvalEnvironment\u001b[38;5;241m.\u001b[39mcapture(eval_env, reference\u001b[38;5;241m=\u001b[39m\u001b[38;5;241m1\u001b[39m)\n\u001b[0;32m--> 309\u001b[0m (lhs, rhs) \u001b[38;5;241m=\u001b[39m \u001b[43m_do_highlevel_design\u001b[49m\u001b[43m(\u001b[49m\u001b[43mformula_like\u001b[49m\u001b[43m,\u001b[49m\u001b[43m \u001b[49m\u001b[43mdata\u001b[49m\u001b[43m,\u001b[49m\u001b[43m \u001b[49m\u001b[43meval_env\u001b[49m\u001b[43m,\u001b[49m\n\u001b[1;32m    310\u001b[0m \u001b[43m                                  \u001b[49m\u001b[43mNA_action\u001b[49m\u001b[43m,\u001b[49m\u001b[43m \u001b[49m\u001b[43mreturn_type\u001b[49m\u001b[43m)\u001b[49m\n\u001b[1;32m    311\u001b[0m \u001b[38;5;28;01mif\u001b[39;00m lhs\u001b[38;5;241m.\u001b[39mshape[\u001b[38;5;241m1\u001b[39m] \u001b[38;5;241m==\u001b[39m \u001b[38;5;241m0\u001b[39m:\n\u001b[1;32m    312\u001b[0m     \u001b[38;5;28;01mraise\u001b[39;00m PatsyError(\u001b[38;5;124m\"\u001b[39m\u001b[38;5;124mmodel is missing required outcome variables\u001b[39m\u001b[38;5;124m\"\u001b[39m)\n",
      "File \u001b[0;32m~/.local/lib/python3.8/site-packages/patsy/highlevel.py:167\u001b[0m, in \u001b[0;36m_do_highlevel_design\u001b[0;34m(formula_like, data, eval_env, NA_action, return_type)\u001b[0m\n\u001b[1;32m    164\u001b[0m design_infos \u001b[38;5;241m=\u001b[39m _try_incr_builders(formula_like, data_iter_maker, eval_env,\n\u001b[1;32m    165\u001b[0m                                   NA_action)\n\u001b[1;32m    166\u001b[0m \u001b[38;5;28;01mif\u001b[39;00m design_infos \u001b[38;5;129;01mis\u001b[39;00m \u001b[38;5;129;01mnot\u001b[39;00m \u001b[38;5;28;01mNone\u001b[39;00m:\n\u001b[0;32m--> 167\u001b[0m     \u001b[38;5;28;01mreturn\u001b[39;00m \u001b[43mbuild_design_matrices\u001b[49m\u001b[43m(\u001b[49m\u001b[43mdesign_infos\u001b[49m\u001b[43m,\u001b[49m\u001b[43m \u001b[49m\u001b[43mdata\u001b[49m\u001b[43m,\u001b[49m\n\u001b[1;32m    168\u001b[0m \u001b[43m                                 \u001b[49m\u001b[43mNA_action\u001b[49m\u001b[38;5;241;43m=\u001b[39;49m\u001b[43mNA_action\u001b[49m\u001b[43m,\u001b[49m\n\u001b[1;32m    169\u001b[0m \u001b[43m                                 \u001b[49m\u001b[43mreturn_type\u001b[49m\u001b[38;5;241;43m=\u001b[39;49m\u001b[43mreturn_type\u001b[49m\u001b[43m)\u001b[49m\n\u001b[1;32m    170\u001b[0m \u001b[38;5;28;01melse\u001b[39;00m:\n\u001b[1;32m    171\u001b[0m     \u001b[38;5;66;03m# No builders, but maybe we can still get matrices\u001b[39;00m\n\u001b[1;32m    172\u001b[0m     \u001b[38;5;28;01mif\u001b[39;00m \u001b[38;5;28misinstance\u001b[39m(formula_like, \u001b[38;5;28mtuple\u001b[39m):\n",
      "File \u001b[0;32m~/.local/lib/python3.8/site-packages/patsy/build.py:921\u001b[0m, in \u001b[0;36mbuild_design_matrices\u001b[0;34m(design_infos, data, NA_action, return_type, dtype)\u001b[0m\n\u001b[1;32m    919\u001b[0m     is_NAs\u001b[38;5;241m.\u001b[39mappend(np\u001b[38;5;241m.\u001b[39mzeros(\u001b[38;5;28mlen\u001b[39m(pandas_index), dtype\u001b[38;5;241m=\u001b[39m\u001b[38;5;28mbool\u001b[39m))\n\u001b[1;32m    920\u001b[0m     origins\u001b[38;5;241m.\u001b[39mappend(\u001b[38;5;28;01mNone\u001b[39;00m)\n\u001b[0;32m--> 921\u001b[0m new_values \u001b[38;5;241m=\u001b[39m \u001b[43mNA_action\u001b[49m\u001b[38;5;241;43m.\u001b[39;49m\u001b[43mhandle_NA\u001b[49m\u001b[43m(\u001b[49m\u001b[43mvalues\u001b[49m\u001b[43m,\u001b[49m\u001b[43m \u001b[49m\u001b[43mis_NAs\u001b[49m\u001b[43m,\u001b[49m\u001b[43m \u001b[49m\u001b[43morigins\u001b[49m\u001b[43m)\u001b[49m\n\u001b[1;32m    922\u001b[0m \u001b[38;5;66;03m# NA_action may have changed the number of rows.\u001b[39;00m\n\u001b[1;32m    923\u001b[0m \u001b[38;5;28;01mif\u001b[39;00m new_values:\n",
      "File \u001b[0;32m~/.local/lib/python3.8/site-packages/patsy/missing.py:165\u001b[0m, in \u001b[0;36mNAAction.handle_NA\u001b[0;34m(self, values, is_NAs, origins)\u001b[0m\n\u001b[1;32m    163\u001b[0m     \u001b[38;5;28;01mreturn\u001b[39;00m \u001b[38;5;28mself\u001b[39m\u001b[38;5;241m.\u001b[39m_handle_NA_raise(values, is_NAs, origins)\n\u001b[1;32m    164\u001b[0m \u001b[38;5;28;01melif\u001b[39;00m \u001b[38;5;28mself\u001b[39m\u001b[38;5;241m.\u001b[39mon_NA \u001b[38;5;241m==\u001b[39m \u001b[38;5;124m\"\u001b[39m\u001b[38;5;124mdrop\u001b[39m\u001b[38;5;124m\"\u001b[39m:\n\u001b[0;32m--> 165\u001b[0m     \u001b[38;5;28;01mreturn\u001b[39;00m \u001b[38;5;28;43mself\u001b[39;49m\u001b[38;5;241;43m.\u001b[39;49m\u001b[43m_handle_NA_drop\u001b[49m\u001b[43m(\u001b[49m\u001b[43mvalues\u001b[49m\u001b[43m,\u001b[49m\u001b[43m \u001b[49m\u001b[43mis_NAs\u001b[49m\u001b[43m,\u001b[49m\u001b[43m \u001b[49m\u001b[43morigins\u001b[49m\u001b[43m)\u001b[49m\n\u001b[1;32m    166\u001b[0m \u001b[38;5;28;01melse\u001b[39;00m: \u001b[38;5;66;03m# pragma: no cover\u001b[39;00m\n\u001b[1;32m    167\u001b[0m     \u001b[38;5;28;01massert\u001b[39;00m \u001b[38;5;28;01mFalse\u001b[39;00m\n",
      "File \u001b[0;32m~/.local/lib/python3.8/site-packages/statsmodels/formula/formulatools.py:21\u001b[0m, in \u001b[0;36mNAAction._handle_NA_drop\u001b[0;34m(self, values, is_NAs, origins)\u001b[0m\n\u001b[1;32m     19\u001b[0m \u001b[38;5;28mself\u001b[39m\u001b[38;5;241m.\u001b[39mmissing_mask \u001b[38;5;241m=\u001b[39m total_mask\n\u001b[1;32m     20\u001b[0m \u001b[38;5;66;03m# \"...\" to handle 1- versus 2-dim indexing\u001b[39;00m\n\u001b[0;32m---> 21\u001b[0m \u001b[38;5;28;01mreturn\u001b[39;00m [v[good_mask, \u001b[38;5;241m.\u001b[39m\u001b[38;5;241m.\u001b[39m\u001b[38;5;241m.\u001b[39m] \u001b[38;5;28;01mfor\u001b[39;00m v \u001b[38;5;129;01min\u001b[39;00m values]\n",
      "File \u001b[0;32m~/.local/lib/python3.8/site-packages/statsmodels/formula/formulatools.py:21\u001b[0m, in \u001b[0;36m<listcomp>\u001b[0;34m(.0)\u001b[0m\n\u001b[1;32m     19\u001b[0m \u001b[38;5;28mself\u001b[39m\u001b[38;5;241m.\u001b[39mmissing_mask \u001b[38;5;241m=\u001b[39m total_mask\n\u001b[1;32m     20\u001b[0m \u001b[38;5;66;03m# \"...\" to handle 1- versus 2-dim indexing\u001b[39;00m\n\u001b[0;32m---> 21\u001b[0m \u001b[38;5;28;01mreturn\u001b[39;00m [\u001b[43mv\u001b[49m\u001b[43m[\u001b[49m\u001b[43mgood_mask\u001b[49m\u001b[43m,\u001b[49m\u001b[43m \u001b[49m\u001b[38;5;241;43m.\u001b[39;49m\u001b[38;5;241;43m.\u001b[39;49m\u001b[38;5;241;43m.\u001b[39;49m\u001b[43m]\u001b[49m \u001b[38;5;28;01mfor\u001b[39;00m v \u001b[38;5;129;01min\u001b[39;00m values]\n",
      "\u001b[0;31mKeyboardInterrupt\u001b[0m: "
     ]
    }
   ],
   "source": [
    "vif_cal(input_data=merged_df, dependent_col='preventive_visit_gap_ind')"
   ]
  },
  {
   "cell_type": "code",
   "execution_count": 14,
   "metadata": {},
   "outputs": [],
   "source": [
    "merged_df = merged_df.drop(columns=['rwjf_life_expectancy', 'rwjf_uninsured_pct', 'rwjf_some_college_pct', 'rwjf_hispanic_pct', 'rwjf_african_race_pct', 'rwjf_poor_men_hlth_days', 'rwjf_poor_phy_hlth_days', 'rwjf_adult_smoking_pct', 'rwjf_uninsured_adults_pct'], axis=1) "
   ]
  },
  {
   "cell_type": "code",
   "execution_count": 12,
   "metadata": {},
   "outputs": [],
   "source": [
    "merged_df = merged_df.drop(columns=['rwjf_mental_distress_pct', 'rwjf_physical_distress_pct', 'rwjf_food_insecurity_pct', 'rwjf_severe_housing_pct', 'rwjf_food_env_inx', 'rwjf_premature_mortality', 'rwjf_white_race_pct', 'rwjf_uninsured_child_pct', 'rwjf_premature_death_rate', 'rwjf_poor_health_pct'],axis=1)"
   ]
  },
  {
   "cell_type": "code",
   "execution_count": null,
   "metadata": {
    "id": "Og_GZaFuDil5"
   },
   "outputs": [],
   "source": [
    "\n",
    "merged_df = merged_df.drop(columns=['rwjf_homicides_rate', 'rwjf_hiv_rate', 'rwjf_child_mortality', 'rwjf_disconnect_youth_pct', 'rwjf_infant_mortality', 'rwjf_child_free_lunch_pct', 'rwjf_some_college_pct', 'rwjf_single_parent_pct', 'rwjf_child_poverty_pct', 'rwjf_age_lt_18_pct', 'rwjf_uninsured_child_pct', 'rwjf_teen_births_rate', 'rwjf_inactivity_pct'], axis=1)\n"
   ]
  },
  {
   "cell_type": "code",
   "execution_count": null,
   "metadata": {
    "colab": {
     "base_uri": "https://localhost:8080/"
    },
    "id": "aKDbQMGJ-nHr",
    "outputId": "5407312f-4342-4b0c-8b5b-2f373cd73641"
   },
   "outputs": [],
   "source": [
    "merged_df.shape"
   ]
  },
  {
   "cell_type": "code",
   "execution_count": null,
   "metadata": {
    "colab": {
     "base_uri": "https://localhost:8080/"
    },
    "id": "xO2rQ49eAKjC",
    "outputId": "bcaa3f98-8f29-4e08-9e9f-92c7e84e2d38"
   },
   "outputs": [],
   "source": [
    "merged_df['rwjf_asian_race_pct'].corr(target['preventive_visit_gap_ind'])"
   ]
  },
  {
   "cell_type": "code",
   "execution_count": null,
   "metadata": {
    "colab": {
     "base_uri": "https://localhost:8080/",
     "height": 455
    },
    "id": "z_393CO0AdsB",
    "outputId": "8ce79110-fb50-4cb7-c671-fadb20832d6a"
   },
   "outputs": [],
   "source": [
    "pd.crosstab(index=merged_df['rwjf_asian_race_pct'], columns=merged_df['preventive_visit_gap_ind'])"
   ]
  },
  {
   "cell_type": "code",
   "execution_count": null,
   "metadata": {
    "colab": {
     "base_uri": "https://localhost:8080/",
     "height": 599
    },
    "id": "RtA5C2u6AyIg",
    "outputId": "cb67569a-737e-4699-c8c4-53a57a3653e5"
   },
   "outputs": [],
   "source": [
    "# prompt: box plot between rwjf_asian_race_pct and preventive_visit_gap_ind\n",
    "\n",
    "plt.figure(figsize=(10, 6))\n",
    "sns.boxplot(x='preventive_visit_gap_ind', y='rwjf_asian_race_pct', data=merged_df)\n",
    "plt.title('Box Plot of rwjf_asian_race_pct vs preventive_visit_gap_ind')\n",
    "plt.xlabel('preventive_visit_gap_ind')\n",
    "plt.ylabel('rwjf_asian_race_pct')\n",
    "plt.show()\n"
   ]
  },
  {
   "cell_type": "code",
   "execution_count": null,
   "metadata": {
    "colab": {
     "base_uri": "https://localhost:8080/"
    },
    "id": "gsI5JPQzA92F",
    "outputId": "8148c8c0-2a16-4bbf-f3db-e0353f4e149d"
   },
   "outputs": [],
   "source": [
    "merged_df['rwjf_asian_race_pct'].isnull().sum()"
   ]
  },
  {
   "cell_type": "code",
   "execution_count": null,
   "metadata": {
    "id": "lykPHbec-43e"
   },
   "outputs": [],
   "source": [
    "merged_df = merged_df.drop(columns=[ 'rwjf_premature_death_rate', 'rwjf_poor_health_pct', 'rwjf_uninsured_adults_pct', 'rwjf_adult_smoking_pct', 'rwjf_poor_phy_hlth_days', 'rwjf_poor_men_hlth_days', 'rwjf_african_race_pct', 'rwjf_native_race_pct', 'rwjf_hispanic_pct', 'rwjf_asian_race_pct', 'rwjf_limit_hlthy_food_pct', 'rwjf_uninsured_pct', 'rwjf_white_race_pct', 'rwjf_premature_mortality', 'rwjf_food_env_inx', 'rwjf_food_insecurity_pct', 'rwjf_physical_distress_pct', 'rwjf_mental_distress_pct','rwjf_life_expectancy'], axis=1)\n",
    "#df = df.drop(columns=[ 'rwjf_premature_death_rate', 'rwjf_poor_health_pct', 'rwjf_uninsured_adults_pct', 'rwjf_adult_smoking_pct', 'rwjf_poor_phy_hlth_days', 'rwjf_poor_men_hlth_days', 'rwjf_african_race_pct', 'rwjf_native_race_pct', 'rwjf_hispanic_pct', 'rwjf_asian_race_pct', 'rwjf_limit_hlthy_food_pct', 'rwjf_uninsured_pct', 'rwjf_white_race_pct', 'rwjf_premature_mortality', ], axis=1)\n"
   ]
  },
  {
   "cell_type": "code",
   "execution_count": null,
   "metadata": {
    "colab": {
     "base_uri": "https://localhost:8080/"
    },
    "id": "rNZDwLiPCACM",
    "outputId": "d8722889-5de7-4b03-cc00-c4a421f73523"
   },
   "outputs": [],
   "source": [
    "merged_df.shape"
   ]
  },
  {
   "cell_type": "code",
   "execution_count": null,
   "metadata": {
    "colab": {
     "base_uri": "https://localhost:8080/"
    },
    "id": "VTQwSZEdCI0O",
    "outputId": "dfd634cf-811a-4cd8-d3ff-488a6fd226d1"
   },
   "outputs": [],
   "source": [
    "vif_cal(input_data=merged_df, dependent_col='preventive_visit_gap_ind')"
   ]
  },
  {
   "cell_type": "code",
   "execution_count": null,
   "metadata": {
    "id": "EGQ6pCcOE-ho"
   },
   "outputs": [],
   "source": [
    "merged_df = merged_df.drop(columns=['rwjf_mv_deaths_rate', 'rwjf_std_infect_rate', 'rwjf_rural_pct', 'rwjf_injury_deaths_rate', 'rwjf_severe_housing_pct', 'rwjf_housing_cost_burden_pct'], axis=1)"
   ]
  },
  {
   "cell_type": "code",
   "execution_count": null,
   "metadata": {
    "colab": {
     "base_uri": "https://localhost:8080/"
    },
    "id": "F2vEp1nlFaid",
    "outputId": "a554888f-7e3b-4138-ce0c-02166d345436"
   },
   "outputs": [],
   "source": [
    "vif_cal(input_data=merged_df, dependent_col='preventive_visit_gap_ind')"
   ]
  },
  {
   "cell_type": "code",
   "execution_count": null,
   "metadata": {
    "colab": {
     "base_uri": "https://localhost:8080/",
     "height": 1000
    },
    "id": "ftcRb0kQFeb3",
    "outputId": "1cc9903e-c42b-4000-d4c7-bfdba6ee01d5"
   },
   "outputs": [],
   "source": [
    "# prompt: create correlation plot for merged_df\n",
    "\n",
    "plt.figure(figsize=(20, 15))\n",
    "sns.heatmap(merged_df.corr(), annot=True, cmap='coolwarm', fmt=\".2f\")\n",
    "plt.title('Correlation Matrix of Merged DataFrame')\n",
    "plt.show()\n"
   ]
  },
  {
   "cell_type": "code",
   "execution_count": null,
   "metadata": {
    "id": "K7cxVE7DRTMR"
   },
   "outputs": [],
   "source": [
    "# prompt: save merged_df file as csv\n",
    "\n",
    "merged_df.to_csv('final_social.csv', index=False)\n"
   ]
  },
  {
   "cell_type": "code",
   "execution_count": null,
   "metadata": {
    "colab": {
     "base_uri": "https://localhost:8080/"
    },
    "id": "cZ825XbZRDps",
    "outputId": "d0575bc3-0e07-4ea9-bc0d-557f0e26d513"
   },
   "outputs": [],
   "source": [
    "merged_df.shape"
   ]
  },
  {
   "cell_type": "code",
   "execution_count": null,
   "metadata": {
    "colab": {
     "base_uri": "https://localhost:8080/",
     "height": 458
    },
    "id": "_Uh7q7UPCnVl",
    "outputId": "77c1e9ca-6cff-4822-d81e-742db3f3017c"
   },
   "outputs": [],
   "source": [
    "df.isnull().sum().sort_values(ascending=False)"
   ]
  },
  {
   "cell_type": "code",
   "execution_count": null,
   "metadata": {
    "colab": {
     "base_uri": "https://localhost:8080/"
    },
    "id": "qmW2P-ArC7GL",
    "outputId": "e5a634b4-fffb-4179-c5a1-3a147cd72dab"
   },
   "outputs": [],
   "source": [
    "df.shape"
   ]
  },
  {
   "cell_type": "code",
   "execution_count": null,
   "metadata": {
    "id": "dgGLzQyMCH0g"
   },
   "outputs": [],
   "source": []
  },
  {
   "cell_type": "code",
   "execution_count": null,
   "metadata": {
    "colab": {
     "base_uri": "https://localhost:8080/"
    },
    "id": "hMSUcEb0C_dG",
    "outputId": "de5a4233-9ce3-45ea-a7ca-88f50b01ad73"
   },
   "outputs": [],
   "source": [
    "# prompt: help m to store data whose column has more than 50k null values\n",
    "\n",
    "null_counts = df.isnull().sum()\n",
    "columns_with_many_nulls = null_counts[null_counts > 50000].index.tolist()\n",
    "df_many_nulls = df[columns_with_many_nulls]\n",
    "print(df_many_nulls)\n"
   ]
  },
  {
   "cell_type": "code",
   "execution_count": null,
   "metadata": {
    "colab": {
     "base_uri": "https://localhost:8080/",
     "height": 458
    },
    "id": "Uio5Rq9cEsPx",
    "outputId": "48248a44-d6d1-4cfd-d0af-26b55dd45392"
   },
   "outputs": [],
   "source": [
    "df.isnull().sum().sort_values(ascending=False)"
   ]
  },
  {
   "cell_type": "code",
   "execution_count": null,
   "metadata": {
    "colab": {
     "base_uri": "https://localhost:8080/"
    },
    "id": "Nm0G-rLxEyxu",
    "outputId": "65b4a844-04a6-4558-ff4f-4d94e215ff9f"
   },
   "outputs": [],
   "source": [
    "null_counts = df.isnull().sum()\n",
    "columns_with_many_nulls = null_counts[null_counts > 5000].index.tolist()\n",
    "df_many_nulls = df[columns_with_many_nulls]\n",
    "print(df_many_nulls)\n"
   ]
  },
  {
   "cell_type": "code",
   "execution_count": null,
   "metadata": {
    "colab": {
     "base_uri": "https://localhost:8080/",
     "height": 458
    },
    "id": "iz2t85Pdfhh-",
    "outputId": "f2da6d74-8151-4e82-fae9-8aa34338bb0e"
   },
   "outputs": [],
   "source": [
    "df.isnull().sum().sort_values(ascending=False)"
   ]
  },
  {
   "cell_type": "code",
   "execution_count": null,
   "metadata": {
    "colab": {
     "base_uri": "https://localhost:8080/",
     "height": 458
    },
    "id": "ywvVT7oQfmXh",
    "outputId": "dfadc92f-1942-4a01-b568-1d2d2044fb5e"
   },
   "outputs": [],
   "source": [
    "df['rwjf_drug_overdose_deaths_rate']"
   ]
  },
  {
   "cell_type": "code",
   "execution_count": null,
   "metadata": {
    "id": "KbdI4CQPf76x"
   },
   "outputs": [],
   "source": [
    "target = pd.read_csv('/content/drive/MyDrive/Training_final/Training_final/humana_mays_target_members.csv')"
   ]
  },
  {
   "cell_type": "code",
   "execution_count": null,
   "metadata": {
    "colab": {
     "base_uri": "https://localhost:8080/",
     "height": 424
    },
    "id": "ub7LJB2zgKFH",
    "outputId": "1bb0c69d-b54f-49b3-ae44-c5d0abe33162"
   },
   "outputs": [],
   "source": [
    "target"
   ]
  },
  {
   "cell_type": "code",
   "execution_count": null,
   "metadata": {
    "colab": {
     "base_uri": "https://localhost:8080/"
    },
    "id": "fh8glrFpfurt",
    "outputId": "2dd6bdb0-bea8-445f-86f0-5d6d03b8d74c"
   },
   "outputs": [],
   "source": [
    "# prompt: correlation between two features\n",
    "\n",
    "correlation = df['rwjf_drug_overdose_deaths_rate'].cov(target['preventive_visit_gap_ind'])\n",
    "print(f\"Correlation between rwjf_premature_death_rate and rwjf_drug_overdose_deaths_rate: {correlation}\")\n"
   ]
  },
  {
   "cell_type": "code",
   "execution_count": null,
   "metadata": {
    "id": "zqMudUR5gRAD"
   },
   "outputs": [],
   "source": [
    "id = df['id']\n",
    "df = df.drop('id', axis=1)\n",
    "feature_col = df.columns.tolist()  # Get the column names as a list\n",
    "coveriance = pd.DataFrame(columns=['name', 'variance'])  # Initialize empty DataFrame\n",
    "\n",
    "i = 0  # Start index at 0\n",
    "for feature_col in df:\n",
    "    coveriance.loc[i, 'name'] = feature_col  # Set the column name\n",
    "    coveriance.loc[i, 'variance'] = df[feature_col].cov(target['preventive_visit_gap_ind'])  # Set the covariance value\n",
    "    i += 1  # Increment index\n"
   ]
  },
  {
   "cell_type": "code",
   "execution_count": null,
   "metadata": {
    "colab": {
     "base_uri": "https://localhost:8080/",
     "height": 424
    },
    "id": "1kb8j_JUhx0N",
    "outputId": "37f55e4b-9194-49e4-f4bf-be9c95478649"
   },
   "outputs": [],
   "source": [
    "coveriance"
   ]
  },
  {
   "cell_type": "code",
   "execution_count": null,
   "metadata": {
    "colab": {
     "base_uri": "https://localhost:8080/",
     "height": 575
    },
    "id": "TxGW1g7Lna7u",
    "outputId": "e5a092ac-17e4-4e79-9b75-976e3440706d"
   },
   "outputs": [],
   "source": [
    "# prompt: Using dataframe coveriance: plot graph\n",
    "\n",
    "import altair as alt\n",
    "\n",
    "alt.Chart(coveriance).mark_bar().encode(\n",
    "    x='name',\n",
    "    y='variance'\n",
    ")\n"
   ]
  },
  {
   "cell_type": "code",
   "execution_count": null,
   "metadata": {
    "colab": {
     "base_uri": "https://localhost:8080/",
     "height": 575
    },
    "id": "VB6SLc-TnZLT",
    "outputId": "8540ef94-4ed5-4194-a457-3c727029fcac"
   },
   "outputs": [],
   "source": [
    "# prompt: plot only higher variance graph\n",
    "\n",
    "# Filter the DataFrame to include only rows where variance is greater than a threshold (e.g., 0)\n",
    "coveriance_filtered = coveriance[coveriance['variance'] < 0]\n",
    "\n",
    "# Create the Altair chart with the filtered data\n",
    "alt.Chart(coveriance_filtered).mark_bar().encode(\n",
    "    x='name',\n",
    "    y='variance'\n",
    ")\n"
   ]
  },
  {
   "cell_type": "code",
   "execution_count": null,
   "metadata": {
    "id": "BDy6JBIzsiaC"
   },
   "outputs": [],
   "source": [
    "\n",
    "negative_variance_columns = coveriance_filtered['name'].tolist()\n",
    "df = df.drop(columns=negative_variance_columns)\n"
   ]
  },
  {
   "cell_type": "code",
   "execution_count": null,
   "metadata": {
    "colab": {
     "base_uri": "https://localhost:8080/"
    },
    "id": "E2q2sx-UstO9",
    "outputId": "e29114bc-f3b0-4564-dfe1-dad0098d5592"
   },
   "outputs": [],
   "source": [
    "df.shape"
   ]
  },
  {
   "cell_type": "code",
   "execution_count": null,
   "metadata": {
    "id": "bKEVsbr6svE0"
   },
   "outputs": [],
   "source": [
    "feature_col = df.columns.tolist()  # Get the column names as a list\n",
    "coveriance = pd.DataFrame(columns=['name', 'variance'])  # Initialize empty DataFrame\n",
    "\n",
    "i = 0  # Start index at 0\n",
    "for feature_col in df:\n",
    "    coveriance.loc[i, 'name'] = feature_col  # Set the column name\n",
    "    coveriance.loc[i, 'variance'] = df[feature_col].cov(target['preventive_visit_gap_ind'])  # Set the covariance value\n",
    "    i += 1  # Increment index\n"
   ]
  },
  {
   "cell_type": "code",
   "execution_count": null,
   "metadata": {
    "colab": {
     "base_uri": "https://localhost:8080/",
     "height": 896
    },
    "id": "AuRo6pVrs0tc",
    "outputId": "43fd8837-82a5-4f76-b9fb-0df93bdeb4c7"
   },
   "outputs": [],
   "source": [
    "coveriance\n"
   ]
  },
  {
   "cell_type": "code",
   "execution_count": null,
   "metadata": {
    "colab": {
     "base_uri": "https://localhost:8080/"
    },
    "id": "AZdtv-vus2kb",
    "outputId": "1eb52159-bd5f-480d-b1ab-91e38100601b"
   },
   "outputs": [],
   "source": [
    "# prompt: drop variance equal to 0\n",
    "\n",
    "# Filter the DataFrame to include only rows where variance is not equal to 0\n",
    "coveriance_filtered = coveriance[coveriance['variance'] != 0.0]\n",
    "\n",
    "# Create the Altair chart with the filtered data\n",
    "alt.Chart(coveriance_filtered).mark_bar().encode(\n",
    "    x='name',\n",
    "    y='variance'\n",
    ")\n",
    "\n",
    "# Get the column names with variance equal to 0\n",
    "zero_variance_columns = coveriance[coveriance['variance'] == 0]['name'].tolist()\n",
    "\n",
    "# Drop the columns with variance equal to 0 from the DataFrame\n",
    "df = df.drop(columns=zero_variance_columns)\n",
    "\n",
    "df.shape\n"
   ]
  },
  {
   "cell_type": "code",
   "execution_count": null,
   "metadata": {
    "id": "XmRwFIzNtQ7G"
   },
   "outputs": [],
   "source": [
    "feature_col = df.columns.tolist()  # Get the column names as a list\n",
    "coveriance = pd.DataFrame(columns=['name', 'variance'])  # Initialize empty DataFrame\n",
    "\n",
    "i = 0  # Start index at 0\n",
    "for feature_col in df:\n",
    "    coveriance.loc[i, 'name'] = feature_col  # Set the column name\n",
    "    coveriance.loc[i, 'variance'] = df[feature_col].cov(target['preventive_visit_gap_ind'])  # Set the covariance value\n",
    "    i += 1  # Increment index\n"
   ]
  },
  {
   "cell_type": "code",
   "execution_count": null,
   "metadata": {
    "colab": {
     "base_uri": "https://localhost:8080/",
     "height": 896
    },
    "id": "h4Sno_qQtWnn",
    "outputId": "8e539685-4eda-475c-cb0e-32df7087561e"
   },
   "outputs": [],
   "source": [
    "coveriance"
   ]
  },
  {
   "cell_type": "code",
   "execution_count": null,
   "metadata": {
    "id": "BuN4iY4btYX1"
   },
   "outputs": [],
   "source": [
    "df = df.drop(columns=['rwjf_alcoholic_pct', 'rwjf_mammography_pct', 'rwjf_men_hlth_prov_ratio', 'rwjf_hawaiian_race_pct', 'rwjf_dentists_ratio', 'rwjf_other_pcp', 'rwjf_broadband_access'], axis=1)"
   ]
  },
  {
   "cell_type": "code",
   "execution_count": null,
   "metadata": {
    "id": "1GcvCXb3tpDx"
   },
   "outputs": [],
   "source": [
    "feature_col = df.columns.tolist()  # Get the column names as a list\n",
    "coveriance = pd.DataFrame(columns=['name', 'variance'])  # Initialize empty DataFrame\n",
    "\n",
    "i = 0  # Start index at 0\n",
    "for feature_col in df:\n",
    "    coveriance.loc[i, 'name'] = feature_col  # Set the column name\n",
    "    coveriance.loc[i, 'variance'] = df[feature_col].cov(target['preventive_visit_gap_ind'])  # Set the covariance value\n",
    "    i += 1  # Increment index\n"
   ]
  },
  {
   "cell_type": "code",
   "execution_count": null,
   "metadata": {
    "colab": {
     "base_uri": "https://localhost:8080/",
     "height": 677
    },
    "id": "sYO8LG5qt9S0",
    "outputId": "5a34e085-fef5-42d5-d92d-aca617565df1"
   },
   "outputs": [],
   "source": [
    "coveriance"
   ]
  },
  {
   "cell_type": "code",
   "execution_count": null,
   "metadata": {
    "colab": {
     "base_uri": "https://localhost:8080/",
     "height": 1000
    },
    "id": "Sf5PPIazwFYA",
    "outputId": "730049b0-6daf-4a76-c242-3c7f179ded68"
   },
   "outputs": [],
   "source": [
    "# prompt: plot correlation plot\n",
    "\n",
    "correlation_matrix = df.corr()\n",
    "\n",
    "plt.figure(figsize=(20, 15))\n",
    "sns.heatmap(correlation_matrix, annot=True, cmap='coolwarm', fmt=\".2f\")\n",
    "plt.title('Correlation Matrix')\n",
    "plt.show()\n"
   ]
  },
  {
   "cell_type": "code",
   "execution_count": null,
   "metadata": {
    "id": "MZ92-HV1wJhS"
   },
   "outputs": [],
   "source": []
  }
 ],
 "metadata": {
  "colab": {
   "provenance": []
  },
  "kernelspec": {
   "display_name": "Python 3 (ipykernel)",
   "language": "python",
   "name": "python3"
  },
  "language_info": {
   "codemirror_mode": {
    "name": "ipython",
    "version": 3
   },
   "file_extension": ".py",
   "mimetype": "text/x-python",
   "name": "python",
   "nbconvert_exporter": "python",
   "pygments_lexer": "ipython3",
   "version": "3.8.10"
  }
 },
 "nbformat": 4,
 "nbformat_minor": 4
}
