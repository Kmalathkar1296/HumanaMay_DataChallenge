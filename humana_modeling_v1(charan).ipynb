{
 "cells": [
  {
   "cell_type": "code",
   "execution_count": 5,
   "metadata": {
    "colab": {
     "base_uri": "https://localhost:8080/"
    },
    "executionInfo": {
     "elapsed": 28964,
     "status": "ok",
     "timestamp": 1728007774805,
     "user": {
      "displayName": "Data Minions",
      "userId": "11029500604034914133"
     },
     "user_tz": 300
    },
    "id": "_1o1iInvdC0s",
    "outputId": "ac0430e2-9c4e-49c4-9e89-328f15caf6b0"
   },
   "outputs": [],
   "source": [
    "# prompt: google drive mount\n",
    "\n",
    "#from google.colab import drive\n",
    "#drive.mount('/content/drive')\n",
    "import numpy as np\n",
    "import pandas as pd\n",
    "\n",
    "import warnings\n",
    "warnings.filterwarnings(\"ignore\")"
   ]
  },
  {
   "cell_type": "code",
   "execution_count": 6,
   "metadata": {
    "colab": {
     "base_uri": "https://localhost:8080/",
     "height": 255
    },
    "executionInfo": {
     "elapsed": 33048,
     "status": "ok",
     "timestamp": 1728007807850,
     "user": {
      "displayName": "Data Minions",
      "userId": "11029500604034914133"
     },
     "user_tz": 300
    },
    "id": "gf78zzlAdKMY",
    "outputId": "7169ce84-8fac-4702-8e4d-28caeba5cdbb"
   },
   "outputs": [
    {
     "data": {
      "text/html": [
       "<div>\n",
       "<style scoped>\n",
       "    .dataframe tbody tr th:only-of-type {\n",
       "        vertical-align: middle;\n",
       "    }\n",
       "\n",
       "    .dataframe tbody tr th {\n",
       "        vertical-align: top;\n",
       "    }\n",
       "\n",
       "    .dataframe thead th {\n",
       "        text-align: right;\n",
       "    }\n",
       "</style>\n",
       "<table border=\"1\" class=\"dataframe\">\n",
       "  <thead>\n",
       "    <tr style=\"text-align: right;\">\n",
       "      <th></th>\n",
       "      <th>id</th>\n",
       "      <th>num_of_chronic_conditions</th>\n",
       "      <th>preventive_visit_gap_ind</th>\n",
       "      <th>measure_name_lag3</th>\n",
       "      <th>dissatisfaction_cnt_2020</th>\n",
       "      <th>measure_name_lag2</th>\n",
       "      <th>dissatisfaction_cnt_2021</th>\n",
       "      <th>measure_name_lag1</th>\n",
       "      <th>dissatisfaction_cnt_2022</th>\n",
       "      <th>PV_PREV_YR</th>\n",
       "      <th>...</th>\n",
       "      <th>riskarr_rewards</th>\n",
       "      <th>riskarr_global</th>\n",
       "      <th>cms_tot_ma_payment_amt</th>\n",
       "      <th>cms_tot_partd_payment_amt</th>\n",
       "      <th>atlas_ffrpth14</th>\n",
       "      <th>atlas_povertyallagespct</th>\n",
       "      <th>cci_score</th>\n",
       "      <th>fci_score</th>\n",
       "      <th>dcsi_score</th>\n",
       "      <th>age_Tile_Num</th>\n",
       "    </tr>\n",
       "  </thead>\n",
       "  <tbody>\n",
       "    <tr>\n",
       "      <th>0</th>\n",
       "      <td>1787899</td>\n",
       "      <td>-1</td>\n",
       "      <td>1</td>\n",
       "      <td>4</td>\n",
       "      <td>0</td>\n",
       "      <td>4</td>\n",
       "      <td>1</td>\n",
       "      <td>13</td>\n",
       "      <td>1</td>\n",
       "      <td>0.0</td>\n",
       "      <td>...</td>\n",
       "      <td>0.0</td>\n",
       "      <td>0.0</td>\n",
       "      <td>352.01</td>\n",
       "      <td>141.53</td>\n",
       "      <td>0.757700</td>\n",
       "      <td>13.6</td>\n",
       "      <td>4.0</td>\n",
       "      <td>5.0</td>\n",
       "      <td>0.0</td>\n",
       "      <td>6</td>\n",
       "    </tr>\n",
       "    <tr>\n",
       "      <th>1</th>\n",
       "      <td>1097519</td>\n",
       "      <td>2</td>\n",
       "      <td>0</td>\n",
       "      <td>6</td>\n",
       "      <td>0</td>\n",
       "      <td>5</td>\n",
       "      <td>0</td>\n",
       "      <td>2</td>\n",
       "      <td>0</td>\n",
       "      <td>0.0</td>\n",
       "      <td>...</td>\n",
       "      <td>0.0</td>\n",
       "      <td>0.0</td>\n",
       "      <td>1071.83</td>\n",
       "      <td>0.00</td>\n",
       "      <td>0.699909</td>\n",
       "      <td>11.0</td>\n",
       "      <td>5.0</td>\n",
       "      <td>2.0</td>\n",
       "      <td>1.0</td>\n",
       "      <td>7</td>\n",
       "    </tr>\n",
       "    <tr>\n",
       "      <th>2</th>\n",
       "      <td>1284744</td>\n",
       "      <td>-1</td>\n",
       "      <td>1</td>\n",
       "      <td>0</td>\n",
       "      <td>0</td>\n",
       "      <td>0</td>\n",
       "      <td>0</td>\n",
       "      <td>0</td>\n",
       "      <td>0</td>\n",
       "      <td>NaN</td>\n",
       "      <td>...</td>\n",
       "      <td>0.0</td>\n",
       "      <td>0.0</td>\n",
       "      <td>366.70</td>\n",
       "      <td>115.83</td>\n",
       "      <td>0.711179</td>\n",
       "      <td>14.3</td>\n",
       "      <td>3.0</td>\n",
       "      <td>0.0</td>\n",
       "      <td>0.0</td>\n",
       "      <td>7</td>\n",
       "    </tr>\n",
       "    <tr>\n",
       "      <th>3</th>\n",
       "      <td>1012315</td>\n",
       "      <td>-1</td>\n",
       "      <td>0</td>\n",
       "      <td>2</td>\n",
       "      <td>1</td>\n",
       "      <td>2</td>\n",
       "      <td>1</td>\n",
       "      <td>3</td>\n",
       "      <td>1</td>\n",
       "      <td>NaN</td>\n",
       "      <td>...</td>\n",
       "      <td>0.0</td>\n",
       "      <td>0.0</td>\n",
       "      <td>520.07</td>\n",
       "      <td>80.29</td>\n",
       "      <td>0.477846</td>\n",
       "      <td>26.6</td>\n",
       "      <td>4.0</td>\n",
       "      <td>0.0</td>\n",
       "      <td>0.0</td>\n",
       "      <td>8</td>\n",
       "    </tr>\n",
       "    <tr>\n",
       "      <th>4</th>\n",
       "      <td>279911</td>\n",
       "      <td>-1</td>\n",
       "      <td>1</td>\n",
       "      <td>10</td>\n",
       "      <td>3</td>\n",
       "      <td>2</td>\n",
       "      <td>1</td>\n",
       "      <td>2</td>\n",
       "      <td>1</td>\n",
       "      <td>NaN</td>\n",
       "      <td>...</td>\n",
       "      <td>0.0</td>\n",
       "      <td>0.0</td>\n",
       "      <td>818.84</td>\n",
       "      <td>309.52</td>\n",
       "      <td>0.560579</td>\n",
       "      <td>18.3</td>\n",
       "      <td>4.0</td>\n",
       "      <td>1.0</td>\n",
       "      <td>0.0</td>\n",
       "      <td>8</td>\n",
       "    </tr>\n",
       "  </tbody>\n",
       "</table>\n",
       "<p>5 rows × 81 columns</p>\n",
       "</div>"
      ],
      "text/plain": [
       "        id  num_of_chronic_conditions  preventive_visit_gap_ind  \\\n",
       "0  1787899                         -1                         1   \n",
       "1  1097519                          2                         0   \n",
       "2  1284744                         -1                         1   \n",
       "3  1012315                         -1                         0   \n",
       "4   279911                         -1                         1   \n",
       "\n",
       "   measure_name_lag3  dissatisfaction_cnt_2020  measure_name_lag2  \\\n",
       "0                  4                         0                  4   \n",
       "1                  6                         0                  5   \n",
       "2                  0                         0                  0   \n",
       "3                  2                         1                  2   \n",
       "4                 10                         3                  2   \n",
       "\n",
       "   dissatisfaction_cnt_2021  measure_name_lag1  dissatisfaction_cnt_2022  \\\n",
       "0                         1                 13                         1   \n",
       "1                         0                  2                         0   \n",
       "2                         0                  0                         0   \n",
       "3                         1                  3                         1   \n",
       "4                         1                  2                         1   \n",
       "\n",
       "   PV_PREV_YR  ...  riskarr_rewards  riskarr_global  cms_tot_ma_payment_amt  \\\n",
       "0         0.0  ...              0.0             0.0                  352.01   \n",
       "1         0.0  ...              0.0             0.0                 1071.83   \n",
       "2         NaN  ...              0.0             0.0                  366.70   \n",
       "3         NaN  ...              0.0             0.0                  520.07   \n",
       "4         NaN  ...              0.0             0.0                  818.84   \n",
       "\n",
       "   cms_tot_partd_payment_amt  atlas_ffrpth14  atlas_povertyallagespct  \\\n",
       "0                     141.53        0.757700                     13.6   \n",
       "1                       0.00        0.699909                     11.0   \n",
       "2                     115.83        0.711179                     14.3   \n",
       "3                      80.29        0.477846                     26.6   \n",
       "4                     309.52        0.560579                     18.3   \n",
       "\n",
       "   cci_score  fci_score  dcsi_score  age_Tile_Num  \n",
       "0        4.0        5.0         0.0             6  \n",
       "1        5.0        2.0         1.0             7  \n",
       "2        3.0        0.0         0.0             7  \n",
       "3        4.0        0.0         0.0             8  \n",
       "4        4.0        1.0         0.0             8  \n",
       "\n",
       "[5 rows x 81 columns]"
      ]
     },
     "execution_count": 6,
     "metadata": {},
     "output_type": "execute_result"
    }
   ],
   "source": [
    "# prompt: read drive dataset\n",
    "\n",
    "\n",
    "# Replace 'your_file_path' with the actual path to your dataset in Google Drive\n",
    "df = pd.read_csv('Final_Data_Without_Social_Det_v6.csv')\n",
    "\n",
    "df.head()\n"
   ]
  },
  {
   "cell_type": "code",
   "execution_count": 7,
   "metadata": {
    "colab": {
     "base_uri": "https://localhost:8080/"
    },
    "executionInfo": {
     "elapsed": 8,
     "status": "ok",
     "timestamp": 1728007807851,
     "user": {
      "displayName": "Data Minions",
      "userId": "11029500604034914133"
     },
     "user_tz": 300
    },
    "id": "7PGep9Aqs2rU",
    "outputId": "c72546c3-a78c-4979-fb1f-87a0a16e8439"
   },
   "outputs": [
    {
     "data": {
      "text/plain": [
       "Index(['id', 'num_of_chronic_conditions', 'preventive_visit_gap_ind',\n",
       "       'measure_name_lag3', 'dissatisfaction_cnt_2020', 'measure_name_lag2',\n",
       "       'dissatisfaction_cnt_2021', 'measure_name_lag1',\n",
       "       'dissatisfaction_cnt_2022', 'PV_PREV_YR', 'all_mm_tenure',\n",
       "       'dual_eligible_ind', 'disabled_ind', 'lis_ind', 'tenure_band_grouped',\n",
       "       'sex_cd', 'age', 'veteran_ind', 'mco_contract_nbr', 'pbp_segment_id',\n",
       "       'region', 'race', 'total_ip_health_issues_admit_days_pmpm',\n",
       "       'nonpar_allowed_pmpm_cost', 'total_allowed_pmpm_cost',\n",
       "       'nonpar_clm_ct_pmpm', 'nonpar_coins_pmpm_cost', 'total_coins_pmpm_cost',\n",
       "       'nonpar_cob_paid_pmpm_cost', 'total_cob_paid_pmpm_cost',\n",
       "       'nonpar_copay_pmpm_cost', 'total_copay_pmpm_cost', 'nonpar_ds_clm',\n",
       "       'days_since_last_clm', 'nonpar_deduct_pmpm_cost',\n",
       "       'total_deduct_pmpm_cost', 'nonpar_mbr_resp_pmpm_cost',\n",
       "       'total_mbr_resp_pmpm_cost', 'nonpar_net_paid_pmpm_cost',\n",
       "       'total_net_paid_pmpm_cost', 'rx_days_since_last_script',\n",
       "       'rx_overall_coins_copay_cost', 'rx_overall_deduct_pmpm_cost',\n",
       "       'rx_overall_dist_gpi6_pmpm_ct', 'rx_overall_mbr_resp_pmpm_cost',\n",
       "       'rx_overall_pmpm_cost', 'rx_overall_pmpm_ct', 'rx_pharmacies_pmpm_ct',\n",
       "       'rx_all_tiers_pmpm_ct', 'login_count_0', 'login_count_1',\n",
       "       'days_since_last_login', 'login_pmpm_ct', 'lag_quarter',\n",
       "       'lag_six_months', 'cnt_cp_emails_pmpm_ct', 'cnt_cp_print_pmpm_ct',\n",
       "       'cnt_cp_vat_pmpm_ct', 'cnt_cp_webstatement_pmpm_ct',\n",
       "       'total_interactions_0', 'total_interactions_1', 'total_interactions_2',\n",
       "       'total_interactions_3', 'channel_Consumer Direct',\n",
       "       'channel_DMS Telesales', 'channel_Field', 'channel_Partner Call Center',\n",
       "       'lang_spoken_cd', 'rucc_category', 'riskarr_downside', 'riskarr_upside',\n",
       "       'riskarr_rewards', 'riskarr_global', 'cms_tot_ma_payment_amt',\n",
       "       'cms_tot_partd_payment_amt', 'atlas_ffrpth14',\n",
       "       'atlas_povertyallagespct', 'cci_score', 'fci_score', 'dcsi_score',\n",
       "       'age_Tile_Num'],\n",
       "      dtype='object')"
      ]
     },
     "execution_count": 7,
     "metadata": {},
     "output_type": "execute_result"
    }
   ],
   "source": [
    "df.columns"
   ]
  },
  {
   "cell_type": "code",
   "execution_count": 8,
   "metadata": {},
   "outputs": [],
   "source": [
    "if 'age_Tile_Num' in df.columns:\n",
    "    df.drop('age_Tile_Num', axis = 1, inplace = True)"
   ]
  },
  {
   "cell_type": "code",
   "execution_count": 9,
   "metadata": {
    "colab": {
     "base_uri": "https://localhost:8080/"
    },
    "executionInfo": {
     "elapsed": 829,
     "status": "ok",
     "timestamp": 1728007808674,
     "user": {
      "displayName": "Data Minions",
      "userId": "11029500604034914133"
     },
     "user_tz": 300
    },
    "id": "PRMKRekjdRmK",
    "outputId": "71eb6aaa-bc6e-44d5-d696-48006cfcbe6c"
   },
   "outputs": [
    {
     "name": "stdout",
     "output_type": "stream",
     "text": [
      "id    0\n",
      "dtype: int64\n",
      "num_of_chronic_conditions    0\n",
      "dtype: int64\n",
      "preventive_visit_gap_ind    0\n",
      "dtype: int64\n",
      "measure_name_lag3    0\n",
      "dtype: int64\n",
      "dissatisfaction_cnt_2020    0\n",
      "dtype: int64\n",
      "measure_name_lag2    0\n",
      "dtype: int64\n",
      "dissatisfaction_cnt_2021    0\n",
      "dtype: int64\n",
      "measure_name_lag1    0\n",
      "dtype: int64\n",
      "dissatisfaction_cnt_2022    0\n",
      "dtype: int64\n",
      "PV_PREV_YR    198803\n",
      "dtype: int64\n",
      "all_mm_tenure    0\n",
      "dtype: int64\n",
      "dual_eligible_ind    0\n",
      "dtype: int64\n",
      "disabled_ind    0\n",
      "dtype: int64\n",
      "lis_ind    0\n",
      "dtype: int64\n",
      "tenure_band_grouped    0\n",
      "dtype: int64\n",
      "sex_cd    0\n",
      "dtype: int64\n",
      "age    0\n",
      "dtype: int64\n",
      "veteran_ind    0\n",
      "dtype: int64\n",
      "mco_contract_nbr    0\n",
      "dtype: int64\n",
      "pbp_segment_id    0\n",
      "dtype: int64\n",
      "region    17\n",
      "dtype: int64\n",
      "race    0\n",
      "dtype: int64\n",
      "total_ip_health_issues_admit_days_pmpm    511\n",
      "dtype: int64\n",
      "nonpar_allowed_pmpm_cost    511\n",
      "dtype: int64\n",
      "total_allowed_pmpm_cost    511\n",
      "dtype: int64\n",
      "nonpar_clm_ct_pmpm    511\n",
      "dtype: int64\n",
      "nonpar_coins_pmpm_cost    511\n",
      "dtype: int64\n",
      "total_coins_pmpm_cost    511\n",
      "dtype: int64\n",
      "nonpar_cob_paid_pmpm_cost    511\n",
      "dtype: int64\n",
      "total_cob_paid_pmpm_cost    511\n",
      "dtype: int64\n",
      "nonpar_copay_pmpm_cost    511\n",
      "dtype: int64\n",
      "total_copay_pmpm_cost    511\n",
      "dtype: int64\n",
      "nonpar_ds_clm    511\n",
      "dtype: int64\n",
      "days_since_last_clm    511\n",
      "dtype: int64\n",
      "nonpar_deduct_pmpm_cost    511\n",
      "dtype: int64\n",
      "total_deduct_pmpm_cost    511\n",
      "dtype: int64\n",
      "nonpar_mbr_resp_pmpm_cost    511\n",
      "dtype: int64\n",
      "total_mbr_resp_pmpm_cost    511\n",
      "dtype: int64\n",
      "nonpar_net_paid_pmpm_cost    511\n",
      "dtype: int64\n",
      "total_net_paid_pmpm_cost    511\n",
      "dtype: int64\n",
      "rx_days_since_last_script    511\n",
      "dtype: int64\n",
      "rx_overall_coins_copay_cost    511\n",
      "dtype: int64\n",
      "rx_overall_deduct_pmpm_cost    511\n",
      "dtype: int64\n",
      "rx_overall_dist_gpi6_pmpm_ct    511\n",
      "dtype: int64\n",
      "rx_overall_mbr_resp_pmpm_cost    511\n",
      "dtype: int64\n",
      "rx_overall_pmpm_cost    511\n",
      "dtype: int64\n",
      "rx_overall_pmpm_ct    511\n",
      "dtype: int64\n",
      "rx_pharmacies_pmpm_ct    511\n",
      "dtype: int64\n",
      "rx_all_tiers_pmpm_ct    511\n",
      "dtype: int64\n",
      "login_count_0    511\n",
      "dtype: int64\n",
      "login_count_1    511\n",
      "dtype: int64\n",
      "days_since_last_login    511\n",
      "dtype: int64\n",
      "login_pmpm_ct    511\n",
      "dtype: int64\n",
      "lag_quarter    511\n",
      "dtype: int64\n",
      "lag_six_months    511\n",
      "dtype: int64\n",
      "cnt_cp_emails_pmpm_ct    511\n",
      "dtype: int64\n",
      "cnt_cp_print_pmpm_ct    511\n",
      "dtype: int64\n",
      "cnt_cp_vat_pmpm_ct    511\n",
      "dtype: int64\n",
      "cnt_cp_webstatement_pmpm_ct    511\n",
      "dtype: int64\n",
      "total_interactions_0    511\n",
      "dtype: int64\n",
      "total_interactions_1    511\n",
      "dtype: int64\n",
      "total_interactions_2    511\n",
      "dtype: int64\n",
      "total_interactions_3    511\n",
      "dtype: int64\n",
      "channel_Consumer Direct    0\n",
      "dtype: int64\n",
      "channel_DMS Telesales    0\n",
      "dtype: int64\n",
      "channel_Field    0\n",
      "dtype: int64\n",
      "channel_Partner Call Center    0\n",
      "dtype: int64\n",
      "lang_spoken_cd    0\n",
      "dtype: int64\n",
      "rucc_category    539\n",
      "dtype: int64\n",
      "riskarr_downside    511\n",
      "dtype: int64\n",
      "riskarr_upside    511\n",
      "dtype: int64\n",
      "riskarr_rewards    511\n",
      "dtype: int64\n",
      "riskarr_global    511\n",
      "dtype: int64\n",
      "cms_tot_ma_payment_amt    19736\n",
      "dtype: int64\n",
      "cms_tot_partd_payment_amt    19736\n",
      "dtype: int64\n",
      "atlas_ffrpth14    982\n",
      "dtype: int64\n",
      "atlas_povertyallagespct    982\n",
      "dtype: int64\n",
      "cci_score    511\n",
      "dtype: int64\n",
      "fci_score    511\n",
      "dtype: int64\n",
      "dcsi_score    511\n",
      "dtype: int64\n"
     ]
    }
   ],
   "source": [
    "\n",
    "for i in df.columns:\n",
    "  print(df[[i]].isnull().sum())\n"
   ]
  },
  {
   "cell_type": "code",
   "execution_count": 10,
   "metadata": {},
   "outputs": [],
   "source": [
    "ndf = df"
   ]
  },
  {
   "cell_type": "code",
   "execution_count": 11,
   "metadata": {
    "colab": {
     "base_uri": "https://localhost:8080/"
    },
    "executionInfo": {
     "elapsed": 191,
     "status": "ok",
     "timestamp": 1728007809046,
     "user": {
      "displayName": "Data Minions",
      "userId": "11029500604034914133"
     },
     "user_tz": 300
    },
    "id": "d2hwaIvixrDV",
    "outputId": "17a0005e-2b49-4734-a40b-93b027028d4f"
   },
   "outputs": [],
   "source": [
    "# # prompt: cms_tot_partd_payment_amt and cms_tot_ma_payment_amt   impute nulls with median\n",
    "# ndf = df\n",
    "# # Calculate the median for cms_tot_partd_payment_amt and cms_tot_ma_payment_amt\n",
    "# median_partd_payment = ndf['cms_tot_partd_payment_amt'].median()\n",
    "# median_ma_payment = ndf['cms_tot_ma_payment_amt'].median()\n",
    "\n",
    "# # Fill null values with the calculated medians\n",
    "# ndf['cms_tot_partd_payment_amt'].fillna(median_partd_payment, inplace=True)\n",
    "# ndf['cms_tot_ma_payment_amt'].fillna(median_ma_payment, inplace=True)\n",
    "\n",
    "# # Verify that null values have been filled\n",
    "# print(df[['cms_tot_partd_payment_amt', 'cms_tot_ma_payment_amt']].isnull().sum())\n"
   ]
  },
  {
   "cell_type": "code",
   "execution_count": 12,
   "metadata": {
    "colab": {
     "base_uri": "https://localhost:8080/"
    },
    "executionInfo": {
     "elapsed": 12,
     "status": "ok",
     "timestamp": 1728007809046,
     "user": {
      "displayName": "Data Minions",
      "userId": "11029500604034914133"
     },
     "user_tz": 300
    },
    "id": "jjUf6mFxz01f",
    "outputId": "b756b5a2-5a2c-455b-9631-b9328e9f58c5"
   },
   "outputs": [],
   "source": [
    "# # prompt: atlas_ffrpth14    and atlas_povertyallagespct    replace nulls with mean\n",
    "\n",
    "# # Calculate the mean for atlas_ffrpth14 and atlas_povertyallagespct\n",
    "# mean_ffrpth14 = ndf['atlas_ffrpth14'].mean()\n",
    "# mean_povertyallagespct = ndf['atlas_povertyallagespct'].mean()\n",
    "\n",
    "# # Fill null values with the calculated means\n",
    "# ndf['atlas_ffrpth14'].fillna(mean_ffrpth14, inplace=True)\n",
    "# ndf['atlas_povertyallagespct'].fillna(mean_povertyallagespct, inplace=True)\n",
    "\n",
    "# # Verify that null values have been filled\n",
    "# print(ndf[['atlas_ffrpth14', 'atlas_povertyallagespct']].isnull().sum())\n"
   ]
  },
  {
   "cell_type": "code",
   "execution_count": 13,
   "metadata": {},
   "outputs": [],
   "source": [
    "#\"consec_tenure_month\",\n",
    "ndf.drop(columns = ['atlas_ffrpth14', 'atlas_povertyallagespct', \"total_net_paid_pmpm_cost\", \n",
    "                    \"nonpar_net_paid_pmpm_cost\", \"nonpar_mbr_resp_pmpm_cost\", \n",
    "                   \"rx_overall_mbr_resp_pmpm_cost\", 'rx_all_tiers_pmpm_ct', 'rx_overall_dist_gpi6_pmpm_ct',\n",
    "                   \"login_count_0\", \"login_count_1\", \"login_pmpm_ct\", \"lag_six_months\",\n",
    "                    'tenure_band_grouped', 'lis_ind', # MEMBER DATA\n",
    "                   ], axis =1 , inplace=True)"
   ]
  },
  {
   "cell_type": "code",
   "execution_count": 14,
   "metadata": {
    "colab": {
     "base_uri": "https://localhost:8080/"
    },
    "executionInfo": {
     "elapsed": 8,
     "status": "ok",
     "timestamp": 1728007809047,
     "user": {
      "displayName": "Data Minions",
      "userId": "11029500604034914133"
     },
     "user_tz": 300
    },
    "id": "Mr8jFJi00B8P",
    "outputId": "6718547d-43c8-47f0-c5c5-8338bc30e239"
   },
   "outputs": [
    {
     "name": "stdout",
     "output_type": "stream",
     "text": [
      "PV_PREV_YR    0\n",
      "dtype: int64\n"
     ]
    }
   ],
   "source": [
    "# prompt: PV_PREV_YR replace nulls with -1\n",
    "\n",
    "# Replace null values in 'PV_PREV_YR' with -1\n",
    "ndf['PV_PREV_YR'].fillna(0, inplace=True)\n",
    "\n",
    "# Verify that null values have been filled\n",
    "print(ndf[['PV_PREV_YR']].isnull().sum())\n"
   ]
  },
  {
   "cell_type": "code",
   "execution_count": 15,
   "metadata": {
    "colab": {
     "base_uri": "https://localhost:8080/"
    },
    "executionInfo": {
     "elapsed": 1048,
     "status": "ok",
     "timestamp": 1728007810091,
     "user": {
      "displayName": "Data Minions",
      "userId": "11029500604034914133"
     },
     "user_tz": 300
    },
    "id": "QYTztwvp0PK2",
    "outputId": "98d25540-265d-4eef-d3a9-7699769041c6"
   },
   "outputs": [
    {
     "name": "stdout",
     "output_type": "stream",
     "text": [
      "id    0\n",
      "dtype: int64\n",
      "num_of_chronic_conditions    0\n",
      "dtype: int64\n",
      "preventive_visit_gap_ind    0\n",
      "dtype: int64\n",
      "measure_name_lag3    0\n",
      "dtype: int64\n",
      "dissatisfaction_cnt_2020    0\n",
      "dtype: int64\n",
      "measure_name_lag2    0\n",
      "dtype: int64\n",
      "dissatisfaction_cnt_2021    0\n",
      "dtype: int64\n",
      "measure_name_lag1    0\n",
      "dtype: int64\n",
      "dissatisfaction_cnt_2022    0\n",
      "dtype: int64\n",
      "PV_PREV_YR    0\n",
      "dtype: int64\n",
      "all_mm_tenure    0\n",
      "dtype: int64\n",
      "dual_eligible_ind    0\n",
      "dtype: int64\n",
      "disabled_ind    0\n",
      "dtype: int64\n",
      "sex_cd    0\n",
      "dtype: int64\n",
      "age    0\n",
      "dtype: int64\n",
      "veteran_ind    0\n",
      "dtype: int64\n",
      "mco_contract_nbr    0\n",
      "dtype: int64\n",
      "pbp_segment_id    0\n",
      "dtype: int64\n",
      "region    17\n",
      "dtype: int64\n",
      "race    0\n",
      "dtype: int64\n",
      "total_ip_health_issues_admit_days_pmpm    511\n",
      "dtype: int64\n",
      "nonpar_allowed_pmpm_cost    511\n",
      "dtype: int64\n",
      "total_allowed_pmpm_cost    511\n",
      "dtype: int64\n",
      "nonpar_clm_ct_pmpm    511\n",
      "dtype: int64\n",
      "nonpar_coins_pmpm_cost    511\n",
      "dtype: int64\n",
      "total_coins_pmpm_cost    511\n",
      "dtype: int64\n",
      "nonpar_cob_paid_pmpm_cost    511\n",
      "dtype: int64\n",
      "total_cob_paid_pmpm_cost    511\n",
      "dtype: int64\n",
      "nonpar_copay_pmpm_cost    511\n",
      "dtype: int64\n",
      "total_copay_pmpm_cost    511\n",
      "dtype: int64\n",
      "nonpar_ds_clm    511\n",
      "dtype: int64\n",
      "days_since_last_clm    511\n",
      "dtype: int64\n",
      "nonpar_deduct_pmpm_cost    511\n",
      "dtype: int64\n",
      "total_deduct_pmpm_cost    511\n",
      "dtype: int64\n",
      "total_mbr_resp_pmpm_cost    511\n",
      "dtype: int64\n",
      "rx_days_since_last_script    511\n",
      "dtype: int64\n",
      "rx_overall_coins_copay_cost    511\n",
      "dtype: int64\n",
      "rx_overall_deduct_pmpm_cost    511\n",
      "dtype: int64\n",
      "rx_overall_pmpm_cost    511\n",
      "dtype: int64\n",
      "rx_overall_pmpm_ct    511\n",
      "dtype: int64\n",
      "rx_pharmacies_pmpm_ct    511\n",
      "dtype: int64\n",
      "days_since_last_login    511\n",
      "dtype: int64\n",
      "lag_quarter    511\n",
      "dtype: int64\n",
      "cnt_cp_emails_pmpm_ct    511\n",
      "dtype: int64\n",
      "cnt_cp_print_pmpm_ct    511\n",
      "dtype: int64\n",
      "cnt_cp_vat_pmpm_ct    511\n",
      "dtype: int64\n",
      "cnt_cp_webstatement_pmpm_ct    511\n",
      "dtype: int64\n",
      "total_interactions_0    511\n",
      "dtype: int64\n",
      "total_interactions_1    511\n",
      "dtype: int64\n",
      "total_interactions_2    511\n",
      "dtype: int64\n",
      "total_interactions_3    511\n",
      "dtype: int64\n",
      "channel_Consumer Direct    0\n",
      "dtype: int64\n",
      "channel_DMS Telesales    0\n",
      "dtype: int64\n",
      "channel_Field    0\n",
      "dtype: int64\n",
      "channel_Partner Call Center    0\n",
      "dtype: int64\n",
      "lang_spoken_cd    0\n",
      "dtype: int64\n",
      "rucc_category    539\n",
      "dtype: int64\n",
      "riskarr_downside    511\n",
      "dtype: int64\n",
      "riskarr_upside    511\n",
      "dtype: int64\n",
      "riskarr_rewards    511\n",
      "dtype: int64\n",
      "riskarr_global    511\n",
      "dtype: int64\n",
      "cms_tot_ma_payment_amt    19736\n",
      "dtype: int64\n",
      "cms_tot_partd_payment_amt    19736\n",
      "dtype: int64\n",
      "cci_score    511\n",
      "dtype: int64\n",
      "fci_score    511\n",
      "dtype: int64\n",
      "dcsi_score    511\n",
      "dtype: int64\n"
     ]
    }
   ],
   "source": [
    "\n",
    "for i in ndf.columns:\n",
    "  print(ndf[[i]].isnull().sum())"
   ]
  },
  {
   "cell_type": "code",
   "execution_count": 16,
   "metadata": {
    "colab": {
     "base_uri": "https://localhost:8080/"
    },
    "executionInfo": {
     "elapsed": 7,
     "status": "ok",
     "timestamp": 1728007810938,
     "user": {
      "displayName": "Data Minions",
      "userId": "11029500604034914133"
     },
     "user_tz": 300
    },
    "id": "O2fZVOtu0iZn",
    "outputId": "8e093af7-a665-47a4-9bd9-28174e494fb5"
   },
   "outputs": [
    {
     "data": {
      "text/plain": [
       "(1527904, 66)"
      ]
     },
     "execution_count": 16,
     "metadata": {},
     "output_type": "execute_result"
    }
   ],
   "source": [
    "ndf.shape"
   ]
  },
  {
   "cell_type": "code",
   "execution_count": 17,
   "metadata": {
    "colab": {
     "base_uri": "https://localhost:8080/",
     "height": 397
    },
    "executionInfo": {
     "elapsed": 443,
     "status": "ok",
     "timestamp": 1728007820820,
     "user": {
      "displayName": "Data Minions",
      "userId": "11029500604034914133"
     },
     "user_tz": 300
    },
    "id": "ZRkIBJ8Q45zC",
    "outputId": "0f9402e8-1e8b-4f9f-81db-db711b8b83e2"
   },
   "outputs": [
    {
     "data": {
      "text/plain": [
       "rucc_category\n",
       "1-Metro       463353\n",
       "2-Metro       364590\n",
       "3-Metro       230472\n",
       "6-Nonmetro    161116\n",
       "4-Nonmetro    124668\n",
       "7-Nonmetro     81417\n",
       "5-Nonmetro     42660\n",
       "8-Nonmetro     30477\n",
       "9-Nonmetro     28612\n",
       "Name: count, dtype: int64"
      ]
     },
     "execution_count": 17,
     "metadata": {},
     "output_type": "execute_result"
    }
   ],
   "source": [
    "ndf.rucc_category.value_counts()"
   ]
  },
  {
   "cell_type": "code",
   "execution_count": 18,
   "metadata": {
    "colab": {
     "base_uri": "https://localhost:8080/"
    },
    "executionInfo": {
     "elapsed": 1005,
     "status": "ok",
     "timestamp": 1728007821809,
     "user": {
      "displayName": "Data Minions",
      "userId": "11029500604034914133"
     },
     "user_tz": 300
    },
    "id": "Wv0ssd1s4-Jy",
    "outputId": "839b6fed-a195-4ebc-b862-29cddbaad683"
   },
   "outputs": [],
   "source": [
    "ndf[\"rucc_category_enc\"] = ndf[\"rucc_category\"].replace({\"1-Metro\":1, \"2-Metro\":1,\"3-Metro\":1, \"4-Nonmetro\": 1, \"5-Nonmetro\": 0, \"6-Nonmetro\": 0, \"7-Nonmetro\": 0, \"8-Nonmetro\": 0, \"9-Nonmetro\": 0})\n",
    "\n"
   ]
  },
  {
   "cell_type": "code",
   "execution_count": 19,
   "metadata": {
    "executionInfo": {
     "elapsed": 411,
     "status": "ok",
     "timestamp": 1728007822215,
     "user": {
      "displayName": "Data Minions",
      "userId": "11029500604034914133"
     },
     "user_tz": 300
    },
    "id": "KCTknCiA52R6"
   },
   "outputs": [],
   "source": [
    "ndf.drop(columns=\"rucc_category\", axis = 1, inplace = True)"
   ]
  },
  {
   "cell_type": "code",
   "execution_count": 20,
   "metadata": {
    "colab": {
     "base_uri": "https://localhost:8080/"
    },
    "executionInfo": {
     "elapsed": 12,
     "status": "ok",
     "timestamp": 1728007822216,
     "user": {
      "displayName": "Data Minions",
      "userId": "11029500604034914133"
     },
     "user_tz": 300
    },
    "id": "48W_QNRr5-WC",
    "outputId": "d70c440b-571c-421b-d2f1-2b384f68a10e"
   },
   "outputs": [
    {
     "data": {
      "text/plain": [
       "(1527904, 66)"
      ]
     },
     "execution_count": 20,
     "metadata": {},
     "output_type": "execute_result"
    }
   ],
   "source": [
    "ndf.shape"
   ]
  },
  {
   "cell_type": "code",
   "execution_count": 21,
   "metadata": {
    "executionInfo": {
     "elapsed": 10,
     "status": "ok",
     "timestamp": 1728007822217,
     "user": {
      "displayName": "Data Minions",
      "userId": "11029500604034914133"
     },
     "user_tz": 300
    },
    "id": "brAil2rB0iHP"
   },
   "outputs": [
    {
     "data": {
      "text/plain": [
       "Index(['id', 'num_of_chronic_conditions', 'preventive_visit_gap_ind',\n",
       "       'measure_name_lag3', 'dissatisfaction_cnt_2020', 'measure_name_lag2',\n",
       "       'dissatisfaction_cnt_2021', 'measure_name_lag1',\n",
       "       'dissatisfaction_cnt_2022', 'PV_PREV_YR', 'all_mm_tenure',\n",
       "       'dual_eligible_ind', 'disabled_ind', 'sex_cd', 'age', 'veteran_ind',\n",
       "       'mco_contract_nbr', 'pbp_segment_id', 'region', 'race',\n",
       "       'total_ip_health_issues_admit_days_pmpm', 'nonpar_allowed_pmpm_cost',\n",
       "       'total_allowed_pmpm_cost', 'nonpar_clm_ct_pmpm',\n",
       "       'nonpar_coins_pmpm_cost', 'total_coins_pmpm_cost',\n",
       "       'nonpar_cob_paid_pmpm_cost', 'total_cob_paid_pmpm_cost',\n",
       "       'nonpar_copay_pmpm_cost', 'total_copay_pmpm_cost', 'nonpar_ds_clm',\n",
       "       'days_since_last_clm', 'nonpar_deduct_pmpm_cost',\n",
       "       'total_deduct_pmpm_cost', 'total_mbr_resp_pmpm_cost',\n",
       "       'rx_days_since_last_script', 'rx_overall_coins_copay_cost',\n",
       "       'rx_overall_deduct_pmpm_cost', 'rx_overall_pmpm_cost',\n",
       "       'rx_overall_pmpm_ct', 'rx_pharmacies_pmpm_ct', 'days_since_last_login',\n",
       "       'lag_quarter', 'cnt_cp_emails_pmpm_ct', 'cnt_cp_print_pmpm_ct',\n",
       "       'cnt_cp_vat_pmpm_ct', 'cnt_cp_webstatement_pmpm_ct',\n",
       "       'total_interactions_0', 'total_interactions_1', 'total_interactions_2',\n",
       "       'total_interactions_3', 'channel_Consumer Direct',\n",
       "       'channel_DMS Telesales', 'channel_Field', 'channel_Partner Call Center',\n",
       "       'lang_spoken_cd', 'riskarr_downside', 'riskarr_upside',\n",
       "       'riskarr_rewards', 'riskarr_global', 'cms_tot_ma_payment_amt',\n",
       "       'cms_tot_partd_payment_amt', 'cci_score', 'fci_score', 'dcsi_score',\n",
       "       'rucc_category_enc'],\n",
       "      dtype='object')"
      ]
     },
     "execution_count": 21,
     "metadata": {},
     "output_type": "execute_result"
    }
   ],
   "source": [
    "ndf.columns"
   ]
  },
  {
   "cell_type": "code",
   "execution_count": 22,
   "metadata": {
    "colab": {
     "base_uri": "https://localhost:8080/",
     "height": 458
    },
    "executionInfo": {
     "elapsed": 364,
     "status": "ok",
     "timestamp": 1728007822573,
     "user": {
      "displayName": "Data Minions",
      "userId": "11029500604034914133"
     },
     "user_tz": 300
    },
    "id": "3nG2YK3J8uyc",
    "outputId": "2c044057-c6f0-42d9-e265-b43db7ad4cd7"
   },
   "outputs": [
    {
     "data": {
      "text/plain": [
       "id                               0\n",
       "num_of_chronic_conditions        0\n",
       "preventive_visit_gap_ind         0\n",
       "measure_name_lag3                0\n",
       "dissatisfaction_cnt_2020         0\n",
       "                             ...  \n",
       "cms_tot_partd_payment_amt    19736\n",
       "cci_score                      511\n",
       "fci_score                      511\n",
       "dcsi_score                     511\n",
       "rucc_category_enc              539\n",
       "Length: 66, dtype: int64"
      ]
     },
     "execution_count": 22,
     "metadata": {},
     "output_type": "execute_result"
    }
   ],
   "source": [
    "ndf.isna().sum()"
   ]
  },
  {
   "cell_type": "code",
   "execution_count": 23,
   "metadata": {
    "executionInfo": {
     "elapsed": 373,
     "status": "ok",
     "timestamp": 1728007822933,
     "user": {
      "displayName": "Data Minions",
      "userId": "11029500604034914133"
     },
     "user_tz": 300
    },
    "id": "XaBOnKW19Ibl"
   },
   "outputs": [],
   "source": [
    "# prompt: replace Unknown with blank\n",
    "\n",
    "ndf.replace('Unknown', \"UNKNOWN\", inplace=True)\n"
   ]
  },
  {
   "cell_type": "code",
   "execution_count": 24,
   "metadata": {
    "colab": {
     "base_uri": "https://localhost:8080/",
     "height": 290
    },
    "executionInfo": {
     "elapsed": 1282,
     "status": "ok",
     "timestamp": 1728007824212,
     "user": {
      "displayName": "Data Minions",
      "userId": "11029500604034914133"
     },
     "user_tz": 300
    },
    "id": "9rhA4_iR3Kag",
    "outputId": "9b2e5598-be22-4b6c-f47d-1ebc20056e20"
   },
   "outputs": [
    {
     "data": {
      "text/html": [
       "<div>\n",
       "<style scoped>\n",
       "    .dataframe tbody tr th:only-of-type {\n",
       "        vertical-align: middle;\n",
       "    }\n",
       "\n",
       "    .dataframe tbody tr th {\n",
       "        vertical-align: top;\n",
       "    }\n",
       "\n",
       "    .dataframe thead th {\n",
       "        text-align: right;\n",
       "    }\n",
       "</style>\n",
       "<table border=\"1\" class=\"dataframe\">\n",
       "  <thead>\n",
       "    <tr style=\"text-align: right;\">\n",
       "      <th></th>\n",
       "      <th>id</th>\n",
       "      <th>num_of_chronic_conditions</th>\n",
       "      <th>preventive_visit_gap_ind</th>\n",
       "      <th>measure_name_lag3</th>\n",
       "      <th>dissatisfaction_cnt_2020</th>\n",
       "      <th>measure_name_lag2</th>\n",
       "      <th>dissatisfaction_cnt_2021</th>\n",
       "      <th>measure_name_lag1</th>\n",
       "      <th>dissatisfaction_cnt_2022</th>\n",
       "      <th>PV_PREV_YR</th>\n",
       "      <th>...</th>\n",
       "      <th>cci_score</th>\n",
       "      <th>fci_score</th>\n",
       "      <th>dcsi_score</th>\n",
       "      <th>rucc_category_enc</th>\n",
       "      <th>race_BLACK</th>\n",
       "      <th>race_HISPANIC</th>\n",
       "      <th>race_N AMERICAN NATIVE</th>\n",
       "      <th>race_OTHER</th>\n",
       "      <th>race_UNKNOWN</th>\n",
       "      <th>race_WHITE</th>\n",
       "    </tr>\n",
       "  </thead>\n",
       "  <tbody>\n",
       "    <tr>\n",
       "      <th>0</th>\n",
       "      <td>1787899</td>\n",
       "      <td>-1</td>\n",
       "      <td>1</td>\n",
       "      <td>4</td>\n",
       "      <td>0</td>\n",
       "      <td>4</td>\n",
       "      <td>1</td>\n",
       "      <td>13</td>\n",
       "      <td>1</td>\n",
       "      <td>0.0</td>\n",
       "      <td>...</td>\n",
       "      <td>4.0</td>\n",
       "      <td>5.0</td>\n",
       "      <td>0.0</td>\n",
       "      <td>1.0</td>\n",
       "      <td>0</td>\n",
       "      <td>0</td>\n",
       "      <td>0</td>\n",
       "      <td>0</td>\n",
       "      <td>1</td>\n",
       "      <td>0</td>\n",
       "    </tr>\n",
       "    <tr>\n",
       "      <th>1</th>\n",
       "      <td>1097519</td>\n",
       "      <td>2</td>\n",
       "      <td>0</td>\n",
       "      <td>6</td>\n",
       "      <td>0</td>\n",
       "      <td>5</td>\n",
       "      <td>0</td>\n",
       "      <td>2</td>\n",
       "      <td>0</td>\n",
       "      <td>0.0</td>\n",
       "      <td>...</td>\n",
       "      <td>5.0</td>\n",
       "      <td>2.0</td>\n",
       "      <td>1.0</td>\n",
       "      <td>1.0</td>\n",
       "      <td>0</td>\n",
       "      <td>0</td>\n",
       "      <td>0</td>\n",
       "      <td>0</td>\n",
       "      <td>0</td>\n",
       "      <td>1</td>\n",
       "    </tr>\n",
       "    <tr>\n",
       "      <th>2</th>\n",
       "      <td>1284744</td>\n",
       "      <td>-1</td>\n",
       "      <td>1</td>\n",
       "      <td>0</td>\n",
       "      <td>0</td>\n",
       "      <td>0</td>\n",
       "      <td>0</td>\n",
       "      <td>0</td>\n",
       "      <td>0</td>\n",
       "      <td>0.0</td>\n",
       "      <td>...</td>\n",
       "      <td>3.0</td>\n",
       "      <td>0.0</td>\n",
       "      <td>0.0</td>\n",
       "      <td>0.0</td>\n",
       "      <td>0</td>\n",
       "      <td>0</td>\n",
       "      <td>0</td>\n",
       "      <td>0</td>\n",
       "      <td>1</td>\n",
       "      <td>0</td>\n",
       "    </tr>\n",
       "    <tr>\n",
       "      <th>3</th>\n",
       "      <td>1012315</td>\n",
       "      <td>-1</td>\n",
       "      <td>0</td>\n",
       "      <td>2</td>\n",
       "      <td>1</td>\n",
       "      <td>2</td>\n",
       "      <td>1</td>\n",
       "      <td>3</td>\n",
       "      <td>1</td>\n",
       "      <td>0.0</td>\n",
       "      <td>...</td>\n",
       "      <td>4.0</td>\n",
       "      <td>0.0</td>\n",
       "      <td>0.0</td>\n",
       "      <td>1.0</td>\n",
       "      <td>0</td>\n",
       "      <td>0</td>\n",
       "      <td>0</td>\n",
       "      <td>0</td>\n",
       "      <td>0</td>\n",
       "      <td>1</td>\n",
       "    </tr>\n",
       "    <tr>\n",
       "      <th>4</th>\n",
       "      <td>279911</td>\n",
       "      <td>-1</td>\n",
       "      <td>1</td>\n",
       "      <td>10</td>\n",
       "      <td>3</td>\n",
       "      <td>2</td>\n",
       "      <td>1</td>\n",
       "      <td>2</td>\n",
       "      <td>1</td>\n",
       "      <td>0.0</td>\n",
       "      <td>...</td>\n",
       "      <td>4.0</td>\n",
       "      <td>1.0</td>\n",
       "      <td>0.0</td>\n",
       "      <td>1.0</td>\n",
       "      <td>0</td>\n",
       "      <td>0</td>\n",
       "      <td>0</td>\n",
       "      <td>0</td>\n",
       "      <td>1</td>\n",
       "      <td>0</td>\n",
       "    </tr>\n",
       "  </tbody>\n",
       "</table>\n",
       "<p>5 rows × 71 columns</p>\n",
       "</div>"
      ],
      "text/plain": [
       "        id  num_of_chronic_conditions  preventive_visit_gap_ind  \\\n",
       "0  1787899                         -1                         1   \n",
       "1  1097519                          2                         0   \n",
       "2  1284744                         -1                         1   \n",
       "3  1012315                         -1                         0   \n",
       "4   279911                         -1                         1   \n",
       "\n",
       "   measure_name_lag3  dissatisfaction_cnt_2020  measure_name_lag2  \\\n",
       "0                  4                         0                  4   \n",
       "1                  6                         0                  5   \n",
       "2                  0                         0                  0   \n",
       "3                  2                         1                  2   \n",
       "4                 10                         3                  2   \n",
       "\n",
       "   dissatisfaction_cnt_2021  measure_name_lag1  dissatisfaction_cnt_2022  \\\n",
       "0                         1                 13                         1   \n",
       "1                         0                  2                         0   \n",
       "2                         0                  0                         0   \n",
       "3                         1                  3                         1   \n",
       "4                         1                  2                         1   \n",
       "\n",
       "   PV_PREV_YR  ...  cci_score  fci_score  dcsi_score  rucc_category_enc  \\\n",
       "0         0.0  ...        4.0        5.0         0.0                1.0   \n",
       "1         0.0  ...        5.0        2.0         1.0                1.0   \n",
       "2         0.0  ...        3.0        0.0         0.0                0.0   \n",
       "3         0.0  ...        4.0        0.0         0.0                1.0   \n",
       "4         0.0  ...        4.0        1.0         0.0                1.0   \n",
       "\n",
       "   race_BLACK  race_HISPANIC  race_N AMERICAN NATIVE  race_OTHER race_UNKNOWN  \\\n",
       "0           0              0                       0           0            1   \n",
       "1           0              0                       0           0            0   \n",
       "2           0              0                       0           0            1   \n",
       "3           0              0                       0           0            0   \n",
       "4           0              0                       0           0            1   \n",
       "\n",
       "   race_WHITE  \n",
       "0           0  \n",
       "1           1  \n",
       "2           0  \n",
       "3           1  \n",
       "4           0  \n",
       "\n",
       "[5 rows x 71 columns]"
      ]
     },
     "execution_count": 24,
     "metadata": {},
     "output_type": "execute_result"
    }
   ],
   "source": [
    "# prompt: one hot encoding for race\n",
    "\n",
    "# Perform one-hot encoding for the 'race' column\n",
    "race_encoded = pd.get_dummies(ndf['race'], prefix='race', drop_first=True, dtype=int)\n",
    "\n",
    "# Concatenate the one-hot encoded columns with the original DataFrame\n",
    "ndf = pd.concat([ndf, race_encoded], axis=1)\n",
    "\n",
    "# Drop the original 'race' column if you no longer need it\n",
    "ndf = ndf.drop('race', axis=1)\n",
    "\n",
    "# Print the updated DataFrame to verify the changes\n",
    "ndf.head()\n"
   ]
  },
  {
   "cell_type": "code",
   "execution_count": 25,
   "metadata": {
    "colab": {
     "base_uri": "https://localhost:8080/",
     "height": 429
    },
    "executionInfo": {
     "elapsed": 12,
     "status": "ok",
     "timestamp": 1728007824213,
     "user": {
      "displayName": "Data Minions",
      "userId": "11029500604034914133"
     },
     "user_tz": 300
    },
    "id": "PJylEi5u9kpN",
    "outputId": "2767fdec-47ff-4100-d39d-dd787bef4f51"
   },
   "outputs": [
    {
     "data": {
      "text/plain": [
       "region\n",
       "Southeast            375041\n",
       "Midwest              342669\n",
       "South Central        169298\n",
       "Central              157155\n",
       "Northeast            114090\n",
       "Florida              111079\n",
       "Gulf South           102356\n",
       "Pacific Southwest    101035\n",
       "Intermountain         54718\n",
       "Puerto Rico             446\n",
       "Name: count, dtype: int64"
      ]
     },
     "execution_count": 25,
     "metadata": {},
     "output_type": "execute_result"
    }
   ],
   "source": [
    "ndf.region.value_counts()"
   ]
  },
  {
   "cell_type": "code",
   "execution_count": 26,
   "metadata": {
    "colab": {
     "base_uri": "https://localhost:8080/",
     "height": 273
    },
    "executionInfo": {
     "elapsed": 3628,
     "status": "ok",
     "timestamp": 1728007827832,
     "user": {
      "displayName": "Data Minions",
      "userId": "11029500604034914133"
     },
     "user_tz": 300
    },
    "id": "1StudQFh9V09",
    "outputId": "54f2d57c-e086-4e50-80b0-cdd16ff0ccaa"
   },
   "outputs": [
    {
     "data": {
      "text/html": [
       "<div>\n",
       "<style scoped>\n",
       "    .dataframe tbody tr th:only-of-type {\n",
       "        vertical-align: middle;\n",
       "    }\n",
       "\n",
       "    .dataframe tbody tr th {\n",
       "        vertical-align: top;\n",
       "    }\n",
       "\n",
       "    .dataframe thead th {\n",
       "        text-align: right;\n",
       "    }\n",
       "</style>\n",
       "<table border=\"1\" class=\"dataframe\">\n",
       "  <thead>\n",
       "    <tr style=\"text-align: right;\">\n",
       "      <th></th>\n",
       "      <th>id</th>\n",
       "      <th>num_of_chronic_conditions</th>\n",
       "      <th>preventive_visit_gap_ind</th>\n",
       "      <th>measure_name_lag3</th>\n",
       "      <th>dissatisfaction_cnt_2020</th>\n",
       "      <th>measure_name_lag2</th>\n",
       "      <th>dissatisfaction_cnt_2021</th>\n",
       "      <th>measure_name_lag1</th>\n",
       "      <th>dissatisfaction_cnt_2022</th>\n",
       "      <th>PV_PREV_YR</th>\n",
       "      <th>...</th>\n",
       "      <th>race_UNKNOWN</th>\n",
       "      <th>race_WHITE</th>\n",
       "      <th>region_Gulf South</th>\n",
       "      <th>region_Intermountain</th>\n",
       "      <th>region_Midwest</th>\n",
       "      <th>region_Northeast</th>\n",
       "      <th>region_Pacific Southwest</th>\n",
       "      <th>region_Puerto Rico</th>\n",
       "      <th>region_South Central</th>\n",
       "      <th>region_Southeast</th>\n",
       "    </tr>\n",
       "  </thead>\n",
       "  <tbody>\n",
       "    <tr>\n",
       "      <th>0</th>\n",
       "      <td>1787899</td>\n",
       "      <td>-1</td>\n",
       "      <td>1</td>\n",
       "      <td>4</td>\n",
       "      <td>0</td>\n",
       "      <td>4</td>\n",
       "      <td>1</td>\n",
       "      <td>13</td>\n",
       "      <td>1</td>\n",
       "      <td>0.0</td>\n",
       "      <td>...</td>\n",
       "      <td>1</td>\n",
       "      <td>0</td>\n",
       "      <td>0</td>\n",
       "      <td>0</td>\n",
       "      <td>0</td>\n",
       "      <td>0</td>\n",
       "      <td>0</td>\n",
       "      <td>0</td>\n",
       "      <td>1</td>\n",
       "      <td>0</td>\n",
       "    </tr>\n",
       "    <tr>\n",
       "      <th>1</th>\n",
       "      <td>1097519</td>\n",
       "      <td>2</td>\n",
       "      <td>0</td>\n",
       "      <td>6</td>\n",
       "      <td>0</td>\n",
       "      <td>5</td>\n",
       "      <td>0</td>\n",
       "      <td>2</td>\n",
       "      <td>0</td>\n",
       "      <td>0.0</td>\n",
       "      <td>...</td>\n",
       "      <td>0</td>\n",
       "      <td>1</td>\n",
       "      <td>0</td>\n",
       "      <td>0</td>\n",
       "      <td>1</td>\n",
       "      <td>0</td>\n",
       "      <td>0</td>\n",
       "      <td>0</td>\n",
       "      <td>0</td>\n",
       "      <td>0</td>\n",
       "    </tr>\n",
       "    <tr>\n",
       "      <th>2</th>\n",
       "      <td>1284744</td>\n",
       "      <td>-1</td>\n",
       "      <td>1</td>\n",
       "      <td>0</td>\n",
       "      <td>0</td>\n",
       "      <td>0</td>\n",
       "      <td>0</td>\n",
       "      <td>0</td>\n",
       "      <td>0</td>\n",
       "      <td>0.0</td>\n",
       "      <td>...</td>\n",
       "      <td>1</td>\n",
       "      <td>0</td>\n",
       "      <td>0</td>\n",
       "      <td>0</td>\n",
       "      <td>1</td>\n",
       "      <td>0</td>\n",
       "      <td>0</td>\n",
       "      <td>0</td>\n",
       "      <td>0</td>\n",
       "      <td>0</td>\n",
       "    </tr>\n",
       "    <tr>\n",
       "      <th>3</th>\n",
       "      <td>1012315</td>\n",
       "      <td>-1</td>\n",
       "      <td>0</td>\n",
       "      <td>2</td>\n",
       "      <td>1</td>\n",
       "      <td>2</td>\n",
       "      <td>1</td>\n",
       "      <td>3</td>\n",
       "      <td>1</td>\n",
       "      <td>0.0</td>\n",
       "      <td>...</td>\n",
       "      <td>0</td>\n",
       "      <td>1</td>\n",
       "      <td>1</td>\n",
       "      <td>0</td>\n",
       "      <td>0</td>\n",
       "      <td>0</td>\n",
       "      <td>0</td>\n",
       "      <td>0</td>\n",
       "      <td>0</td>\n",
       "      <td>0</td>\n",
       "    </tr>\n",
       "    <tr>\n",
       "      <th>4</th>\n",
       "      <td>279911</td>\n",
       "      <td>-1</td>\n",
       "      <td>1</td>\n",
       "      <td>10</td>\n",
       "      <td>3</td>\n",
       "      <td>2</td>\n",
       "      <td>1</td>\n",
       "      <td>2</td>\n",
       "      <td>1</td>\n",
       "      <td>0.0</td>\n",
       "      <td>...</td>\n",
       "      <td>1</td>\n",
       "      <td>0</td>\n",
       "      <td>0</td>\n",
       "      <td>0</td>\n",
       "      <td>0</td>\n",
       "      <td>0</td>\n",
       "      <td>1</td>\n",
       "      <td>0</td>\n",
       "      <td>0</td>\n",
       "      <td>0</td>\n",
       "    </tr>\n",
       "  </tbody>\n",
       "</table>\n",
       "<p>5 rows × 78 columns</p>\n",
       "</div>"
      ],
      "text/plain": [
       "        id  num_of_chronic_conditions  preventive_visit_gap_ind  \\\n",
       "0  1787899                         -1                         1   \n",
       "1  1097519                          2                         0   \n",
       "2  1284744                         -1                         1   \n",
       "3  1012315                         -1                         0   \n",
       "4   279911                         -1                         1   \n",
       "\n",
       "   measure_name_lag3  dissatisfaction_cnt_2020  measure_name_lag2  \\\n",
       "0                  4                         0                  4   \n",
       "1                  6                         0                  5   \n",
       "2                  0                         0                  0   \n",
       "3                  2                         1                  2   \n",
       "4                 10                         3                  2   \n",
       "\n",
       "   dissatisfaction_cnt_2021  measure_name_lag1  dissatisfaction_cnt_2022  \\\n",
       "0                         1                 13                         1   \n",
       "1                         0                  2                         0   \n",
       "2                         0                  0                         0   \n",
       "3                         1                  3                         1   \n",
       "4                         1                  2                         1   \n",
       "\n",
       "   PV_PREV_YR  ...  race_UNKNOWN  race_WHITE  region_Gulf South  \\\n",
       "0         0.0  ...             1           0                  0   \n",
       "1         0.0  ...             0           1                  0   \n",
       "2         0.0  ...             1           0                  0   \n",
       "3         0.0  ...             0           1                  1   \n",
       "4         0.0  ...             1           0                  0   \n",
       "\n",
       "   region_Intermountain  region_Midwest  region_Northeast  \\\n",
       "0                     0               0                 0   \n",
       "1                     0               1                 0   \n",
       "2                     0               1                 0   \n",
       "3                     0               0                 0   \n",
       "4                     0               0                 0   \n",
       "\n",
       "   region_Pacific Southwest  region_Puerto Rico  region_South Central  \\\n",
       "0                         0                   0                     1   \n",
       "1                         0                   0                     0   \n",
       "2                         0                   0                     0   \n",
       "3                         0                   0                     0   \n",
       "4                         1                   0                     0   \n",
       "\n",
       "   region_Southeast  \n",
       "0                 0  \n",
       "1                 0  \n",
       "2                 0  \n",
       "3                 0  \n",
       "4                 0  \n",
       "\n",
       "[5 rows x 78 columns]"
      ]
     },
     "execution_count": 26,
     "metadata": {},
     "output_type": "execute_result"
    }
   ],
   "source": [
    "# prompt: replace Florida with Gulf South for region and perform one hot encoding on region\n",
    "\n",
    "# Replace 'Florida' with 'Gulf South' in the 'region' column\n",
    "ndf['region'] = ndf['region'].replace('Florida', 'Gulf South')\n",
    "\n",
    "# Perform one-hot encoding for the 'region' column\n",
    "region_encoded = pd.get_dummies(ndf['region'], prefix='region', drop_first=True, dtype=int)\n",
    "\n",
    "# Concatenate the one-hot encoded columns with the original DataFrame\n",
    "ndf = pd.concat([ndf, region_encoded], axis=1)\n",
    "\n",
    "# Drop the original 'region' column if you no longer need it\n",
    "ndf = ndf.drop('region', axis=1)\n",
    "\n",
    "# Print the updated DataFrame to verify the changes\n",
    "ndf.head()\n"
   ]
  },
  {
   "cell_type": "code",
   "execution_count": 27,
   "metadata": {},
   "outputs": [
    {
     "data": {
      "text/plain": [
       "id                           0\n",
       "num_of_chronic_conditions    0\n",
       "preventive_visit_gap_ind     0\n",
       "measure_name_lag3            0\n",
       "dissatisfaction_cnt_2020     0\n",
       "                            ..\n",
       "region_Northeast             0\n",
       "region_Pacific Southwest     0\n",
       "region_Puerto Rico           0\n",
       "region_South Central         0\n",
       "region_Southeast             0\n",
       "Length: 78, dtype: int64"
      ]
     },
     "execution_count": 27,
     "metadata": {},
     "output_type": "execute_result"
    }
   ],
   "source": [
    "ndf.isna().sum()"
   ]
  },
  {
   "cell_type": "code",
   "execution_count": 28,
   "metadata": {
    "colab": {
     "base_uri": "https://localhost:8080/"
    },
    "executionInfo": {
     "elapsed": 19,
     "status": "ok",
     "timestamp": 1728007827833,
     "user": {
      "displayName": "Data Minions",
      "userId": "11029500604034914133"
     },
     "user_tz": 300
    },
    "id": "BM2u4mvU9BsO",
    "outputId": "8d545962-08ac-4c73-f6c2-d87a34bd7a2a"
   },
   "outputs": [
    {
     "data": {
      "text/plain": [
       "0.06544913816574863"
      ]
     },
     "execution_count": 28,
     "metadata": {},
     "output_type": "execute_result"
    }
   ],
   "source": [
    "100000/ndf.shape[0]"
   ]
  },
  {
   "cell_type": "code",
   "execution_count": 29,
   "metadata": {},
   "outputs": [
    {
     "name": "stdout",
     "output_type": "stream",
     "text": [
      "Requirement already satisfied: scikit-learn in /home/dataminions60/.local/lib/python3.8/site-packages (1.3.2)\n",
      "Requirement already satisfied: joblib>=1.1.1 in /home/dataminions60/.local/lib/python3.8/site-packages (from scikit-learn) (1.4.2)\n",
      "Requirement already satisfied: scipy>=1.5.0 in /home/dataminions60/.local/lib/python3.8/site-packages (from scikit-learn) (1.10.1)\n",
      "Requirement already satisfied: threadpoolctl>=2.0.0 in /home/dataminions60/.local/lib/python3.8/site-packages (from scikit-learn) (3.5.0)\n",
      "Requirement already satisfied: numpy<2.0,>=1.17.3 in /home/dataminions60/.local/lib/python3.8/site-packages (from scikit-learn) (1.24.4)\n"
     ]
    }
   ],
   "source": [
    "! pip install scikit-learn"
   ]
  },
  {
   "cell_type": "code",
   "execution_count": 72,
   "metadata": {
    "colab": {
     "base_uri": "https://localhost:8080/"
    },
    "executionInfo": {
     "elapsed": 977,
     "status": "ok",
     "timestamp": 1728007835195,
     "user": {
      "displayName": "Data Minions",
      "userId": "11029500604034914133"
     },
     "user_tz": 300
    },
    "id": "JmqankEaCOfg",
    "outputId": "93e6eb95-20c1-4628-acbf-9652e6a35fc0"
   },
   "outputs": [
    {
     "name": "stdout",
     "output_type": "stream",
     "text": [
      "(10000, 78)\n"
     ]
    }
   ],
   "source": [
    "# prompt: stratified sample of 10000 rows from ndf without using train_test_split\n",
    "\n",
    "# Assuming 'preventive_visit_gap_ind' is the column you want to stratify by\n",
    "from sklearn.model_selection import StratifiedShuffleSplit\n",
    "\n",
    "split = StratifiedShuffleSplit(n_splits=1, test_size=10000, random_state=42)\n",
    "\n",
    "for train_index, test_index in split.split(ndf, ndf['preventive_visit_gap_ind']):\n",
    "  strat_sample = ndf.iloc[test_index]\n",
    "\n",
    "\n",
    "print(strat_sample.shape)\n",
    "\n"
   ]
  },
  {
   "cell_type": "code",
   "execution_count": 73,
   "metadata": {
    "colab": {
     "base_uri": "https://localhost:8080/"
    },
    "executionInfo": {
     "elapsed": 9,
     "status": "ok",
     "timestamp": 1728007835196,
     "user": {
      "displayName": "Data Minions",
      "userId": "11029500604034914133"
     },
     "user_tz": 300
    },
    "id": "qp5Cd_qCtAeD",
    "outputId": "aaaec329-4f6c-43af-f1ff-9c52d861990d"
   },
   "outputs": [
    {
     "name": "stdout",
     "output_type": "stream",
     "text": [
      "train shape: (8000, 78)\n",
      "test shape: (2000, 78)\n"
     ]
    }
   ],
   "source": [
    "# prompt: train test split target is preventive_visit_gap_ind\n",
    "\n",
    "from sklearn.model_selection import train_test_split\n",
    "\n",
    "sdf = strat_sample\n",
    "\n",
    "# Define your features (X) and target (y)\n",
    "X = sdf.drop('preventive_visit_gap_ind', axis=1)\n",
    "y = sdf['preventive_visit_gap_ind']\n",
    "\n",
    "# Split the data into training and testing sets\n",
    "train_data, test_data = train_test_split(sdf,  test_size=0.2, random_state=42)\n",
    "\n",
    "# Print the shapes of the resulting datasets\n",
    "# print(\"X_train shape:\", X_train.shape)\n",
    "# print(\"X_test shape:\", X_test.shape)\n",
    "# print(\"y_train shape:\", y_train.shape)\n",
    "# print(\"y_test shape:\", y_test.shape)\n",
    "\n",
    "print(\"train shape:\", train_data.shape)\n",
    "print(\"test shape:\", test_data.shape)\n"
   ]
  },
  {
   "cell_type": "code",
   "execution_count": 74,
   "metadata": {},
   "outputs": [
    {
     "name": "stdout",
     "output_type": "stream",
     "text": [
      "cms_tot_partd_payment_amt    0\n",
      "cms_tot_ma_payment_amt       0\n",
      "dtype: int64\n"
     ]
    }
   ],
   "source": [
    "median_partd_payment = train_data['cms_tot_partd_payment_amt'].median()\n",
    "median_ma_payment = train_data['cms_tot_ma_payment_amt'].median()\n",
    "\n",
    "# Fill null values with the calculated medians\n",
    "train_data['cms_tot_partd_payment_amt'].fillna(median_partd_payment, inplace=True)\n",
    "train_data['cms_tot_ma_payment_amt'].fillna(median_ma_payment, inplace=True)\n",
    "\n",
    "# Verify that null values have been filled\n",
    "print(train_data[['cms_tot_partd_payment_amt', 'cms_tot_ma_payment_amt']].isnull().sum())"
   ]
  },
  {
   "cell_type": "code",
   "execution_count": 75,
   "metadata": {},
   "outputs": [
    {
     "name": "stdout",
     "output_type": "stream",
     "text": [
      "cms_tot_partd_payment_amt    0\n",
      "cms_tot_ma_payment_amt       0\n",
      "dtype: int64\n"
     ]
    }
   ],
   "source": [
    "median_partd_payment = test_data['cms_tot_partd_payment_amt'].median()\n",
    "median_ma_payment = test_data['cms_tot_ma_payment_amt'].median()\n",
    "\n",
    "# Fill null values with the calculated medians\n",
    "test_data['cms_tot_partd_payment_amt'].fillna(median_partd_payment, inplace=True)\n",
    "test_data['cms_tot_ma_payment_amt'].fillna(median_ma_payment, inplace=True)\n",
    "\n",
    "# Verify that null values have been filled\n",
    "print(test_data[['cms_tot_partd_payment_amt', 'cms_tot_ma_payment_amt']].isnull().sum())"
   ]
  },
  {
   "cell_type": "code",
   "execution_count": 76,
   "metadata": {},
   "outputs": [],
   "source": [
    "train_data.dropna(inplace = True)\n",
    "test_data.dropna(inplace = True)"
   ]
  },
  {
   "cell_type": "code",
   "execution_count": 77,
   "metadata": {},
   "outputs": [
    {
     "name": "stdout",
     "output_type": "stream",
     "text": [
      "id    0\n",
      "dtype: int64\n",
      "num_of_chronic_conditions    0\n",
      "dtype: int64\n",
      "preventive_visit_gap_ind    0\n",
      "dtype: int64\n",
      "measure_name_lag3    0\n",
      "dtype: int64\n",
      "dissatisfaction_cnt_2020    0\n",
      "dtype: int64\n",
      "measure_name_lag2    0\n",
      "dtype: int64\n",
      "dissatisfaction_cnt_2021    0\n",
      "dtype: int64\n",
      "measure_name_lag1    0\n",
      "dtype: int64\n",
      "dissatisfaction_cnt_2022    0\n",
      "dtype: int64\n",
      "PV_PREV_YR    0\n",
      "dtype: int64\n",
      "all_mm_tenure    0\n",
      "dtype: int64\n",
      "dual_eligible_ind    0\n",
      "dtype: int64\n",
      "disabled_ind    0\n",
      "dtype: int64\n",
      "sex_cd    0\n",
      "dtype: int64\n",
      "age    0\n",
      "dtype: int64\n",
      "veteran_ind    0\n",
      "dtype: int64\n",
      "mco_contract_nbr    0\n",
      "dtype: int64\n",
      "pbp_segment_id    0\n",
      "dtype: int64\n",
      "total_ip_health_issues_admit_days_pmpm    0\n",
      "dtype: int64\n",
      "nonpar_allowed_pmpm_cost    0\n",
      "dtype: int64\n",
      "total_allowed_pmpm_cost    0\n",
      "dtype: int64\n",
      "nonpar_clm_ct_pmpm    0\n",
      "dtype: int64\n",
      "nonpar_coins_pmpm_cost    0\n",
      "dtype: int64\n",
      "total_coins_pmpm_cost    0\n",
      "dtype: int64\n",
      "nonpar_cob_paid_pmpm_cost    0\n",
      "dtype: int64\n",
      "total_cob_paid_pmpm_cost    0\n",
      "dtype: int64\n",
      "nonpar_copay_pmpm_cost    0\n",
      "dtype: int64\n",
      "total_copay_pmpm_cost    0\n",
      "dtype: int64\n",
      "nonpar_ds_clm    0\n",
      "dtype: int64\n",
      "days_since_last_clm    0\n",
      "dtype: int64\n",
      "nonpar_deduct_pmpm_cost    0\n",
      "dtype: int64\n",
      "total_deduct_pmpm_cost    0\n",
      "dtype: int64\n",
      "total_mbr_resp_pmpm_cost    0\n",
      "dtype: int64\n",
      "rx_days_since_last_script    0\n",
      "dtype: int64\n",
      "rx_overall_coins_copay_cost    0\n",
      "dtype: int64\n",
      "rx_overall_deduct_pmpm_cost    0\n",
      "dtype: int64\n",
      "rx_overall_pmpm_cost    0\n",
      "dtype: int64\n",
      "rx_overall_pmpm_ct    0\n",
      "dtype: int64\n",
      "rx_pharmacies_pmpm_ct    0\n",
      "dtype: int64\n",
      "days_since_last_login    0\n",
      "dtype: int64\n",
      "lag_quarter    0\n",
      "dtype: int64\n",
      "cnt_cp_emails_pmpm_ct    0\n",
      "dtype: int64\n",
      "cnt_cp_print_pmpm_ct    0\n",
      "dtype: int64\n",
      "cnt_cp_vat_pmpm_ct    0\n",
      "dtype: int64\n",
      "cnt_cp_webstatement_pmpm_ct    0\n",
      "dtype: int64\n",
      "total_interactions_0    0\n",
      "dtype: int64\n",
      "total_interactions_1    0\n",
      "dtype: int64\n",
      "total_interactions_2    0\n",
      "dtype: int64\n",
      "total_interactions_3    0\n",
      "dtype: int64\n",
      "channel_Consumer Direct    0\n",
      "dtype: int64\n",
      "channel_DMS Telesales    0\n",
      "dtype: int64\n",
      "channel_Field    0\n",
      "dtype: int64\n",
      "channel_Partner Call Center    0\n",
      "dtype: int64\n",
      "lang_spoken_cd    0\n",
      "dtype: int64\n",
      "riskarr_downside    0\n",
      "dtype: int64\n",
      "riskarr_upside    0\n",
      "dtype: int64\n",
      "riskarr_rewards    0\n",
      "dtype: int64\n",
      "riskarr_global    0\n",
      "dtype: int64\n",
      "cms_tot_ma_payment_amt    0\n",
      "dtype: int64\n",
      "cms_tot_partd_payment_amt    0\n",
      "dtype: int64\n",
      "cci_score    0\n",
      "dtype: int64\n",
      "fci_score    0\n",
      "dtype: int64\n",
      "dcsi_score    0\n",
      "dtype: int64\n",
      "rucc_category_enc    0\n",
      "dtype: int64\n",
      "race_BLACK    0\n",
      "dtype: int64\n",
      "race_HISPANIC    0\n",
      "dtype: int64\n",
      "race_N AMERICAN NATIVE    0\n",
      "dtype: int64\n",
      "race_OTHER    0\n",
      "dtype: int64\n",
      "race_UNKNOWN    0\n",
      "dtype: int64\n",
      "race_WHITE    0\n",
      "dtype: int64\n",
      "region_Gulf South    0\n",
      "dtype: int64\n",
      "region_Intermountain    0\n",
      "dtype: int64\n",
      "region_Midwest    0\n",
      "dtype: int64\n",
      "region_Northeast    0\n",
      "dtype: int64\n",
      "region_Pacific Southwest    0\n",
      "dtype: int64\n",
      "region_Puerto Rico    0\n",
      "dtype: int64\n",
      "region_South Central    0\n",
      "dtype: int64\n",
      "region_Southeast    0\n",
      "dtype: int64\n"
     ]
    }
   ],
   "source": [
    "\n",
    "for i in train_data.columns:\n",
    "  print(train_data[[i]].isnull().sum())\n"
   ]
  },
  {
   "cell_type": "code",
   "execution_count": 78,
   "metadata": {},
   "outputs": [
    {
     "name": "stdout",
     "output_type": "stream",
     "text": [
      "X_train shape: (8000, 77)\n",
      "X_test shape: (2000, 77)\n",
      "y_train shape: (8000, 2)\n",
      "y_test shape: (2000, 2)\n"
     ]
    }
   ],
   "source": [
    "# Now, you can separate the target variable from both training and testing sets\n",
    "y_train = train_data[['id', 'preventive_visit_gap_ind']]\n",
    "X_train = train_data.drop('preventive_visit_gap_ind', axis=1)\n",
    "\n",
    "y_test = test_data[['id', 'preventive_visit_gap_ind']]\n",
    "X_test = test_data.drop('preventive_visit_gap_ind', axis=1)\n",
    "\n",
    "\n",
    "# Print the shapes of the resulting datasets\n",
    "print(\"X_train shape:\", X_train.shape)\n",
    "print(\"X_test shape:\", X_test.shape)\n",
    "print(\"y_train shape:\", y_train.shape)\n",
    "print(\"y_test shape:\", y_test.shape)"
   ]
  },
  {
   "cell_type": "code",
   "execution_count": 79,
   "metadata": {},
   "outputs": [],
   "source": [
    "X_train.drop(columns=['id'], axis = 1, inplace=True)\n",
    "X_test.drop(columns=['id'], axis = 1, inplace=True)"
   ]
  },
  {
   "cell_type": "code",
   "execution_count": 80,
   "metadata": {},
   "outputs": [
    {
     "data": {
      "text/html": [
       "<div>\n",
       "<style scoped>\n",
       "    .dataframe tbody tr th:only-of-type {\n",
       "        vertical-align: middle;\n",
       "    }\n",
       "\n",
       "    .dataframe tbody tr th {\n",
       "        vertical-align: top;\n",
       "    }\n",
       "\n",
       "    .dataframe thead th {\n",
       "        text-align: right;\n",
       "    }\n",
       "</style>\n",
       "<table border=\"1\" class=\"dataframe\">\n",
       "  <thead>\n",
       "    <tr style=\"text-align: right;\">\n",
       "      <th></th>\n",
       "      <th>num_of_chronic_conditions</th>\n",
       "      <th>measure_name_lag3</th>\n",
       "      <th>dissatisfaction_cnt_2020</th>\n",
       "      <th>measure_name_lag2</th>\n",
       "      <th>dissatisfaction_cnt_2021</th>\n",
       "      <th>measure_name_lag1</th>\n",
       "      <th>dissatisfaction_cnt_2022</th>\n",
       "      <th>PV_PREV_YR</th>\n",
       "      <th>all_mm_tenure</th>\n",
       "      <th>dual_eligible_ind</th>\n",
       "      <th>...</th>\n",
       "      <th>race_UNKNOWN</th>\n",
       "      <th>race_WHITE</th>\n",
       "      <th>region_Gulf South</th>\n",
       "      <th>region_Intermountain</th>\n",
       "      <th>region_Midwest</th>\n",
       "      <th>region_Northeast</th>\n",
       "      <th>region_Pacific Southwest</th>\n",
       "      <th>region_Puerto Rico</th>\n",
       "      <th>region_South Central</th>\n",
       "      <th>region_Southeast</th>\n",
       "    </tr>\n",
       "  </thead>\n",
       "  <tbody>\n",
       "    <tr>\n",
       "      <th>82846</th>\n",
       "      <td>-1</td>\n",
       "      <td>2</td>\n",
       "      <td>0</td>\n",
       "      <td>1</td>\n",
       "      <td>0</td>\n",
       "      <td>1</td>\n",
       "      <td>0</td>\n",
       "      <td>0.0</td>\n",
       "      <td>48</td>\n",
       "      <td>0</td>\n",
       "      <td>...</td>\n",
       "      <td>0</td>\n",
       "      <td>1</td>\n",
       "      <td>0</td>\n",
       "      <td>1</td>\n",
       "      <td>0</td>\n",
       "      <td>0</td>\n",
       "      <td>0</td>\n",
       "      <td>0</td>\n",
       "      <td>0</td>\n",
       "      <td>0</td>\n",
       "    </tr>\n",
       "    <tr>\n",
       "      <th>1500274</th>\n",
       "      <td>1</td>\n",
       "      <td>3</td>\n",
       "      <td>0</td>\n",
       "      <td>2</td>\n",
       "      <td>0</td>\n",
       "      <td>2</td>\n",
       "      <td>0</td>\n",
       "      <td>0.0</td>\n",
       "      <td>96</td>\n",
       "      <td>0</td>\n",
       "      <td>...</td>\n",
       "      <td>1</td>\n",
       "      <td>0</td>\n",
       "      <td>0</td>\n",
       "      <td>0</td>\n",
       "      <td>1</td>\n",
       "      <td>0</td>\n",
       "      <td>0</td>\n",
       "      <td>0</td>\n",
       "      <td>0</td>\n",
       "      <td>0</td>\n",
       "    </tr>\n",
       "    <tr>\n",
       "      <th>585156</th>\n",
       "      <td>-1</td>\n",
       "      <td>0</td>\n",
       "      <td>0</td>\n",
       "      <td>0</td>\n",
       "      <td>0</td>\n",
       "      <td>0</td>\n",
       "      <td>0</td>\n",
       "      <td>0.0</td>\n",
       "      <td>18</td>\n",
       "      <td>0</td>\n",
       "      <td>...</td>\n",
       "      <td>1</td>\n",
       "      <td>0</td>\n",
       "      <td>0</td>\n",
       "      <td>0</td>\n",
       "      <td>0</td>\n",
       "      <td>0</td>\n",
       "      <td>1</td>\n",
       "      <td>0</td>\n",
       "      <td>0</td>\n",
       "      <td>0</td>\n",
       "    </tr>\n",
       "    <tr>\n",
       "      <th>669633</th>\n",
       "      <td>-1</td>\n",
       "      <td>0</td>\n",
       "      <td>0</td>\n",
       "      <td>0</td>\n",
       "      <td>0</td>\n",
       "      <td>0</td>\n",
       "      <td>0</td>\n",
       "      <td>0.0</td>\n",
       "      <td>24</td>\n",
       "      <td>0</td>\n",
       "      <td>...</td>\n",
       "      <td>1</td>\n",
       "      <td>0</td>\n",
       "      <td>0</td>\n",
       "      <td>0</td>\n",
       "      <td>0</td>\n",
       "      <td>0</td>\n",
       "      <td>0</td>\n",
       "      <td>0</td>\n",
       "      <td>1</td>\n",
       "      <td>0</td>\n",
       "    </tr>\n",
       "    <tr>\n",
       "      <th>706170</th>\n",
       "      <td>8</td>\n",
       "      <td>11</td>\n",
       "      <td>2</td>\n",
       "      <td>11</td>\n",
       "      <td>1</td>\n",
       "      <td>0</td>\n",
       "      <td>0</td>\n",
       "      <td>0.0</td>\n",
       "      <td>156</td>\n",
       "      <td>0</td>\n",
       "      <td>...</td>\n",
       "      <td>0</td>\n",
       "      <td>1</td>\n",
       "      <td>0</td>\n",
       "      <td>0</td>\n",
       "      <td>1</td>\n",
       "      <td>0</td>\n",
       "      <td>0</td>\n",
       "      <td>0</td>\n",
       "      <td>0</td>\n",
       "      <td>0</td>\n",
       "    </tr>\n",
       "  </tbody>\n",
       "</table>\n",
       "<p>5 rows × 76 columns</p>\n",
       "</div>"
      ],
      "text/plain": [
       "         num_of_chronic_conditions  measure_name_lag3  \\\n",
       "82846                           -1                  2   \n",
       "1500274                          1                  3   \n",
       "585156                          -1                  0   \n",
       "669633                          -1                  0   \n",
       "706170                           8                 11   \n",
       "\n",
       "         dissatisfaction_cnt_2020  measure_name_lag2  \\\n",
       "82846                           0                  1   \n",
       "1500274                         0                  2   \n",
       "585156                          0                  0   \n",
       "669633                          0                  0   \n",
       "706170                          2                 11   \n",
       "\n",
       "         dissatisfaction_cnt_2021  measure_name_lag1  \\\n",
       "82846                           0                  1   \n",
       "1500274                         0                  2   \n",
       "585156                          0                  0   \n",
       "669633                          0                  0   \n",
       "706170                          1                  0   \n",
       "\n",
       "         dissatisfaction_cnt_2022  PV_PREV_YR  all_mm_tenure  \\\n",
       "82846                           0         0.0             48   \n",
       "1500274                         0         0.0             96   \n",
       "585156                          0         0.0             18   \n",
       "669633                          0         0.0             24   \n",
       "706170                          0         0.0            156   \n",
       "\n",
       "         dual_eligible_ind  ...  race_UNKNOWN  race_WHITE  region_Gulf South  \\\n",
       "82846                    0  ...             0           1                  0   \n",
       "1500274                  0  ...             1           0                  0   \n",
       "585156                   0  ...             1           0                  0   \n",
       "669633                   0  ...             1           0                  0   \n",
       "706170                   0  ...             0           1                  0   \n",
       "\n",
       "         region_Intermountain  region_Midwest  region_Northeast  \\\n",
       "82846                       1               0                 0   \n",
       "1500274                     0               1                 0   \n",
       "585156                      0               0                 0   \n",
       "669633                      0               0                 0   \n",
       "706170                      0               1                 0   \n",
       "\n",
       "         region_Pacific Southwest  region_Puerto Rico  region_South Central  \\\n",
       "82846                           0                   0                     0   \n",
       "1500274                         0                   0                     0   \n",
       "585156                          1                   0                     0   \n",
       "669633                          0                   0                     1   \n",
       "706170                          0                   0                     0   \n",
       "\n",
       "         region_Southeast  \n",
       "82846                   0  \n",
       "1500274                 0  \n",
       "585156                  0  \n",
       "669633                  0  \n",
       "706170                  0  \n",
       "\n",
       "[5 rows x 76 columns]"
      ]
     },
     "execution_count": 80,
     "metadata": {},
     "output_type": "execute_result"
    }
   ],
   "source": [
    "X_train.head()"
   ]
  },
  {
   "cell_type": "code",
   "execution_count": 81,
   "metadata": {},
   "outputs": [
    {
     "data": {
      "text/plain": [
       "(8000, 76)"
      ]
     },
     "execution_count": 81,
     "metadata": {},
     "output_type": "execute_result"
    }
   ],
   "source": [
    "X_train.shape"
   ]
  },
  {
   "cell_type": "code",
   "execution_count": 82,
   "metadata": {
    "executionInfo": {
     "elapsed": 185,
     "status": "ok",
     "timestamp": 1728007836551,
     "user": {
      "displayName": "Data Minions",
      "userId": "11029500604034914133"
     },
     "user_tz": 300
    },
    "id": "UjkkTs9Y2e35"
   },
   "outputs": [],
   "source": [
    "# prompt: create a function to calculate accuracy, confusion matrix, auc score\n",
    "\n",
    "from sklearn.metrics import accuracy_score, confusion_matrix, roc_auc_score\n",
    "\n",
    "def evaluate_model(y_true, y_pred, y_prob=None):\n",
    "  \"\"\"\n",
    "  Calculates accuracy, confusion matrix, and AUC score for a model.\n",
    "\n",
    "  Args:\n",
    "    y_true: True labels.\n",
    "    y_pred: Predicted labels.\n",
    "    y_prob: Predicted probabilities (optional for AUC score).\n",
    "\n",
    "  Returns:\n",
    "    A dictionary containing accuracy, confusion matrix, and AUC score.\n",
    "  \"\"\"\n",
    "  results = {}\n",
    "  results['test_accuracy'] = accuracy_score(y_true, y_pred)\n",
    "  results['confusion_matrix'] = confusion_matrix(y_true, y_pred)\n",
    "  if y_prob is not None:\n",
    "    results['auc'] = roc_auc_score(y_true, y_prob)\n",
    "  return results\n"
   ]
  },
  {
   "cell_type": "code",
   "execution_count": 38,
   "metadata": {
    "colab": {
     "base_uri": "https://localhost:8080/"
    },
    "executionInfo": {
     "elapsed": 203,
     "status": "ok",
     "timestamp": 1728007871120,
     "user": {
      "displayName": "Data Minions",
      "userId": "11029500604034914133"
     },
     "user_tz": 300
    },
    "id": "uFC-OzZ87B29",
    "outputId": "0f384f36-e72a-4472-9299-702189730118"
   },
   "outputs": [
    {
     "ename": "NameError",
     "evalue": "name 'y_pred_dt' is not defined",
     "output_type": "error",
     "traceback": [
      "\u001b[0;31m---------------------------------------------------------------------------\u001b[0m",
      "\u001b[0;31mNameError\u001b[0m                                 Traceback (most recent call last)",
      "Cell \u001b[0;32mIn[38], line 1\u001b[0m\n\u001b[0;32m----> 1\u001b[0m roc_auc_score (y_test, \u001b[43my_pred_dt\u001b[49m)\n",
      "\u001b[0;31mNameError\u001b[0m: name 'y_pred_dt' is not defined"
     ]
    }
   ],
   "source": [
    "roc_auc_score (y_test, y_pred_dt)"
   ]
  },
  {
   "cell_type": "code",
   "execution_count": null,
   "metadata": {
    "colab": {
     "base_uri": "https://localhost:8080/"
    },
    "executionInfo": {
     "elapsed": 33333,
     "status": "ok",
     "timestamp": 1728007905399,
     "user": {
      "displayName": "Data Minions",
      "userId": "11029500604034914133"
     },
     "user_tz": 300
    },
    "id": "0TIfb1ZVFo4h",
    "outputId": "1f62ddd8-ab74-4268-9ebf-bb15ddc871e0"
   },
   "outputs": [],
   "source": [
    "# prompt: random forest\n",
    "\n",
    "import time\n",
    "\n",
    "start_time = time.time()\n",
    "\n",
    "from sklearn.ensemble import RandomForestClassifier\n",
    "\n",
    "# Create a Random Forest Classifier\n",
    "rf_classifier = RandomForestClassifier(random_state=42)\n",
    "\n",
    "# Define the parameter grid for Random Forest\n",
    "param_grid_rf = {\n",
    "    'n_estimators': [  200, 300, 400],\n",
    "    'max_depth': [10],\n",
    "    'min_samples_split': [2],\n",
    "    'min_samples_leaf': [6]\n",
    "}\n",
    "\n",
    "# Create a GridSearchCV object for Random Forest\n",
    "grid_search_rf = GridSearchCV(estimator=rf_classifier, param_grid=param_grid_rf, cv=5, scoring='roc_auc')\n",
    "\n",
    "# Fit the grid search to the training data\n",
    "grid_search_rf.fit(X_train, y_train.drop(\"id\", axis = 1))\n",
    "\n",
    "# Print the best parameters and the best score\n",
    "print(\"Best parameters (Random Forest):\", grid_search_rf.best_params_)\n",
    "print(\"Best score (Random Forest):\", grid_search_rf.best_score_)\n",
    "\n",
    "# Get the best model from the grid search\n",
    "best_rf_model = grid_search_rf.best_estimator_\n",
    "\n",
    "# Make predictions on the test set using the best model\n",
    "y_pred_rf = best_rf_model.predict(X_test)\n",
    "\n",
    "# Evaluate the model\n",
    "rf_results = evaluate_model(y_test.drop(\"id\", axis = 1), y_pred_rf)\n",
    "end_time = time.time()\n",
    "execution_time = end_time - start_time\n",
    "print(\"Execution time:\", execution_time, \"seconds\")\n",
    "# Print the evaluation results\n",
    "print(\"Random Forest Results:\")\n",
    "print(\"Accuracy:\", rf_results['test_accuracy'])\n",
    "print(\"Confusion Matrix:\\n\", rf_results['confusion_matrix'])\n"
   ]
  },
  {
   "cell_type": "code",
   "execution_count": 39,
   "metadata": {
    "colab": {
     "base_uri": "https://localhost:8080/"
    },
    "executionInfo": {
     "elapsed": 240,
     "status": "ok",
     "timestamp": 1728007913993,
     "user": {
      "displayName": "Data Minions",
      "userId": "11029500604034914133"
     },
     "user_tz": 300
    },
    "id": "Rq1TlAgN8vFX",
    "outputId": "ced1c886-2282-4ccc-dee9-d60a345d7ae6"
   },
   "outputs": [
    {
     "name": "stdout",
     "output_type": "stream",
     "text": [
      "Random Forest Results:\n"
     ]
    },
    {
     "ename": "NameError",
     "evalue": "name 'rf_results' is not defined",
     "output_type": "error",
     "traceback": [
      "\u001b[0;31m---------------------------------------------------------------------------\u001b[0m",
      "\u001b[0;31mNameError\u001b[0m                                 Traceback (most recent call last)",
      "Cell \u001b[0;32mIn[39], line 2\u001b[0m\n\u001b[1;32m      1\u001b[0m \u001b[38;5;28mprint\u001b[39m(\u001b[38;5;124m\"\u001b[39m\u001b[38;5;124mRandom Forest Results:\u001b[39m\u001b[38;5;124m\"\u001b[39m)\n\u001b[0;32m----> 2\u001b[0m \u001b[38;5;28mprint\u001b[39m(\u001b[38;5;124m\"\u001b[39m\u001b[38;5;124mAccuracy:\u001b[39m\u001b[38;5;124m\"\u001b[39m, \u001b[43mrf_results\u001b[49m[\u001b[38;5;124m'\u001b[39m\u001b[38;5;124mtest_accuracy\u001b[39m\u001b[38;5;124m'\u001b[39m])\n\u001b[1;32m      3\u001b[0m \u001b[38;5;28mprint\u001b[39m(\u001b[38;5;124m\"\u001b[39m\u001b[38;5;124mConfusion Matrix:\u001b[39m\u001b[38;5;130;01m\\n\u001b[39;00m\u001b[38;5;124m\"\u001b[39m, rf_results[\u001b[38;5;124m'\u001b[39m\u001b[38;5;124mconfusion_matrix\u001b[39m\u001b[38;5;124m'\u001b[39m])\n\u001b[1;32m      4\u001b[0m roc_auc_score (y_test, y_pred_rf)\n",
      "\u001b[0;31mNameError\u001b[0m: name 'rf_results' is not defined"
     ]
    }
   ],
   "source": [
    "print(\"Random Forest Results:\")\n",
    "print(\"Accuracy:\", rf_results['test_accuracy'])\n",
    "print(\"Confusion Matrix:\\n\", rf_results['confusion_matrix'])\n",
    "roc_auc_score (y_test.drop(\"id\", axis = 1), y_pred_rf)"
   ]
  },
  {
   "cell_type": "code",
   "execution_count": 54,
   "metadata": {
    "colab": {
     "base_uri": "https://localhost:8080/"
    },
    "executionInfo": {
     "elapsed": 2321145,
     "status": "ok",
     "timestamp": 1728010237652,
     "user": {
      "displayName": "Data Minions",
      "userId": "11029500604034914133"
     },
     "user_tz": 300
    },
    "id": "ppDlzs-VFoxR",
    "outputId": "fcb82d68-fa21-4239-fc5c-fc83c6c9926a"
   },
   "outputs": [],
   "source": [
    "# # prompt: gradient boosting\n",
    "\n",
    "# from sklearn.ensemble import GradientBoostingClassifier\n",
    "\n",
    "# # Create a Gradient Boosting Classifier\n",
    "# gb_classifier = GradientBoostingClassifier(random_state=42)\n",
    "\n",
    "# # Define the parameter grid for Gradient Boosting\n",
    "# param_grid_gb = {\n",
    "#     'n_estimators': [ 100, 200],\n",
    "#     'learning_rate': [0.01, 0.1],\n",
    "#     'max_depth': [3, 5],\n",
    "#     'min_samples_split': [2, 5],\n",
    "#     'min_samples_leaf': [1, 2]\n",
    "# }\n",
    "\n",
    "\n",
    "# st = time.time()\n",
    "# # Create a GridSearchCV object for Gradient Boosting\n",
    "# grid_search_gb = GridS100earchCV(estimator=gb_classifier, param_grid=param_grid_gb, cv=5, scoring='roc_auc')\n",
    "\n",
    "# # Fit the grid search to the training data\n",
    "# grid_search_gb.fit(X_train, y_train)\n",
    "# end_time = time.time()\n",
    "# execution_time = end_time - st\n",
    "# print(\"Execution time:\", execution_time, \"seconds\")\n",
    "# # Print the best parameters and the best score\n",
    "# print(\"Best parameters (Gradient Boosting):\", grid_search_gb.best_params_)\n",
    "# print(\"Best score (Gradient Boosting):\", grid_search_gb.best_score_)\n",
    "\n",
    "# # Get the best model from the grid search\n",
    "# best_gb_model = grid_search_gb.best_estimator_\n",
    "\n",
    "# # Make predictions on the test set using the best model\n",
    "# y_pred_gb = best_gb_model.predict(X_test)\n",
    "\n",
    "# # Evaluate the model\n",
    "# gb_results = evaluate_model(y_test, y_pred_gb)\n",
    "\n",
    "# # Print the evaluation results\n",
    "# print(\"Gradient Boosting Results:\")\n",
    "# print(\"Accuracy:\", gb_results['test_accuracy'])\n",
    "# print(\"Confusion Matrix:\\n\", gb_results['confusion_matrix'])\n",
    "# if 'auc' in gb_results:\n",
    "#     print(\"AUC:\", gb_results['auc'])\n"
   ]
  },
  {
   "cell_type": "code",
   "execution_count": 55,
   "metadata": {
    "colab": {
     "base_uri": "https://localhost:8080/"
    },
    "executionInfo": {
     "elapsed": 11,
     "status": "ok",
     "timestamp": 1728010584033,
     "user": {
      "displayName": "Data Minions",
      "userId": "11029500604034914133"
     },
     "user_tz": 300
    },
    "id": "jFxQsrNqFyXk",
    "outputId": "d92ac107-2771-44f9-8ba5-c0d344b77416"
   },
   "outputs": [
    {
     "ename": "NameError",
     "evalue": "name 'y_pred_gb' is not defined",
     "output_type": "error",
     "traceback": [
      "\u001b[0;31m---------------------------------------------------------------------------\u001b[0m",
      "\u001b[0;31mNameError\u001b[0m                                 Traceback (most recent call last)",
      "Cell \u001b[0;32mIn[55], line 1\u001b[0m\n\u001b[0;32m----> 1\u001b[0m roc_auc_score (y_test, \u001b[43my_pred_gb\u001b[49m)\n",
      "\u001b[0;31mNameError\u001b[0m: name 'y_pred_gb' is not defined"
     ]
    }
   ],
   "source": [
    "roc_auc_score (y_test, y_pred_gb)"
   ]
  },
  {
   "cell_type": "code",
   "execution_count": 83,
   "metadata": {
    "id": "I4dQBnqQdPwq"
   },
   "outputs": [
    {
     "name": "stdout",
     "output_type": "stream",
     "text": [
      "Requirement already satisfied: lightgbm in /home/dataminions60/.local/lib/python3.8/site-packages (4.5.0)\n",
      "Requirement already satisfied: numpy>=1.17.0 in /home/dataminions60/.local/lib/python3.8/site-packages (from lightgbm) (1.24.4)\n",
      "Requirement already satisfied: scipy in /home/dataminions60/.local/lib/python3.8/site-packages (from lightgbm) (1.10.1)\n",
      "Execution time: 12.00607681274414 seconds\n",
      "Best parameters (LightGBM): {'class_weight': 'balanced', 'lambda_l1': 2, 'learning_rate': 0.05, 'max_depth': 3, 'n_estimators': 200, 'num_leaves': 12, 'subsample': 0.5}\n",
      "Best score (LightGBM): 0.6919886363636363\n",
      "LightGBM Results:\n",
      "Accuracy: 0.6305\n",
      "Confusion Matrix:\n",
      " [[750 353]\n",
      " [386 511]]\n"
     ]
    },
    {
     "data": {
      "text/plain": [
       "0.6248202176894676"
      ]
     },
     "execution_count": 83,
     "metadata": {},
     "output_type": "execute_result"
    }
   ],
   "source": [
    "# prompt: LightGBM modeling\n",
    "\n",
    "!pip install lightgbm\n",
    "\n",
    "import lightgbm as lgb\n",
    "from sklearn.model_selection import GridSearchCV\n",
    "from sklearn.metrics import roc_auc_score\n",
    "import time\n",
    "\n",
    "\n",
    "# Create a LightGBM classifier\n",
    "lgb_classifier = lgb.LGBMClassifier(random_state=42, verbose = -1)\n",
    "\n",
    "\n",
    "# Define the parameter grid for LightGBM\n",
    "param_grid_lgb = {\n",
    "    'n_estimators': [200],\n",
    "    'learning_rate': [ 0.05],\n",
    "    'max_depth': [3],\n",
    "    'num_leaves': [12],\n",
    "    'subsample': [0.5],\n",
    "    # 'scale_pos_weight': [0.8, 1],\n",
    "    # 'min_child_samples': [20, 200],\n",
    "    'class_weight': ['balanced'],\n",
    "    # 'metric': ['binary_logloss']\n",
    "    'lambda_l1': [ 2 ] ,\n",
    "\n",
    "}\n",
    "\n",
    "\n",
    "# Create a GridSearchCV object for LightGBM\n",
    "grid_search_lgb = GridSearchCV(estimator=lgb_classifier, param_grid=param_grid_lgb, cv=10, scoring='roc_auc')\n",
    "\n",
    "\n",
    "\n",
    "start_time = time.time()\n",
    "\n",
    "# Fit the grid search to the training data\n",
    "grid_search_lgb.fit(X_train, y_train.drop(\"id\", axis = 1))\n",
    "\n",
    "end_time = time.time()\n",
    "execution_time = end_time - start_time\n",
    "print(\"Execution time:\", execution_time, \"seconds\")\n",
    "\n",
    "# Print the best parameters and the best score\n",
    "print(\"Best parameters (LightGBM):\", grid_search_lgb.best_params_)\n",
    "print(\"Best score (LightGBM):\", grid_search_lgb.best_score_)\n",
    "\n",
    "\n",
    "# Get the best model from the grid search\n",
    "best_lgb_model = grid_search_lgb.best_estimator_\n",
    "\n",
    "\n",
    "# Make predictions on the test set using the best model\n",
    "y_pred_lgb = best_lgb_model.predict(X_test)\n",
    "\n",
    "\n",
    "# Evaluate the model\n",
    "lgb_results = evaluate_model(y_test.drop(\"id\", axis = 1), y_pred_lgb)\n",
    "\n",
    "# Print the evaluation results\n",
    "print(\"LightGBM Results:\")\n",
    "print(\"Accuracy:\", lgb_results['test_accuracy'])\n",
    "print(\"Confusion Matrix:\\n\", lgb_results['confusion_matrix'])\n",
    "if 'auc' in lgb_results:\n",
    "    print(\"AUC:\", lgb_results['auc'])\n",
    "\n",
    "roc_auc_score(y_test.drop(\"id\", axis = 1), y_pred_lgb)\n"
   ]
  },
  {
   "cell_type": "code",
   "execution_count": 86,
   "metadata": {},
   "outputs": [
    {
     "data": {
      "image/png": "[encoded data removed]",
      "text/plain": [
       "<Figure size 640x480 with 1 Axes>"
      ]
     },
     "metadata": {},
     "output_type": "display_data"
    }
   ],
   "source": [
    "# prompt: auc roc plot\n",
    "\n",
    "from sklearn.metrics import roc_curve, auc\n",
    "import matplotlib.pyplot as plt\n",
    "\n",
    "# Assuming you have y_test and y_pred_proba from your model\n",
    "# y_pred_proba = your_model.predict_proba(X_test)[:, 1]  # Probability of the positive class\n",
    "\n",
    "fpr, tpr, thresholds = roc_curve(y_test.drop('id', axis=1), probs[:,1])\n",
    "roc_auc = auc(fpr, tpr)\n",
    "\n",
    "plt.figure()\n",
    "plt.plot(fpr, tpr, color='darkorange', lw=2, label='ROC curve (area = %0.2f)' % roc_auc)\n",
    "plt.plot([0, 1], [0, 1], color='navy', lw=2, linestyle='--')\n",
    "plt.xlim([0.0, 1.0])\n",
    "plt.ylim([0.0, 1.05])\n",
    "plt.xlabel('False Positive Rate')\n",
    "plt.ylabel('True Positive Rate')\n",
    "plt.title('Receiver Operating Characteristic (ROC)')\n",
    "plt.legend(loc=\"lower right\")\n",
    "plt.show()\n"
   ]
  },
  {
   "cell_type": "markdown",
   "metadata": {},
   "source": [
    "# LightGBM"
   ]
  },
  {
   "cell_type": "code",
   "execution_count": 47,
   "metadata": {},
   "outputs": [
    {
     "name": "stdout",
     "output_type": "stream",
     "text": [
      "LightGBM Results:\n",
      "Accuracy: 0.6678211906437727\n",
      "Confusion Matrix:\n",
      " [[121159  47093]\n",
      " [ 54376  82837]]\n"
     ]
    },
    {
     "data": {
      "text/plain": [
       "0.6619076929469482"
      ]
     },
     "execution_count": 47,
     "metadata": {},
     "output_type": "execute_result"
    }
   ],
   "source": [
    "lgbm1 = lgb.LGBMClassifier(random_state=42, learning_rate=.1, max_depth=7, n_estimators=600, num_leaves=63, verbose = -1, class_weight='balanced')\n",
    "\n",
    "lgbm1.fit(X_train, y_train.drop(\"id\", axis = 1))\n",
    "\n",
    "# Make predictions on the test set using the best model\n",
    "y_pred_lgb = lgbm1.predict(X_test)\n",
    "\n",
    "\n",
    "# Evaluate the model\n",
    "lgb_results = evaluate_model(y_test.drop(\"id\", axis = 1), y_pred_lgb)\n",
    "\n",
    "# Print the evaluation results\n",
    "print(\"LightGBM Results:\")\n",
    "print(\"Accuracy:\", lgb_results['test_accuracy'])\n",
    "print(\"Confusion Matrix:\\n\", lgb_results['confusion_matrix'])\n",
    "if 'auc' in lgb_results:\n",
    "    print(\"AUC:\", lgb_results['auc'])\n",
    "\n",
    "roc_auc_score(y_test.drop(\"id\", axis = 1), y_pred_lgb)"
   ]
  },
  {
   "cell_type": "code",
   "execution_count": 48,
   "metadata": {},
   "outputs": [],
   "source": []
  },
  {
   "cell_type": "code",
   "execution_count": 51,
   "metadata": {},
   "outputs": [
    {
     "data": {
      "text/plain": [
       "array([[0.88400188, 0.11599812],\n",
       "       [0.70687919, 0.29312081],\n",
       "       [0.73497114, 0.26502886],\n",
       "       ...,\n",
       "       [0.67041783, 0.32958217],\n",
       "       [0.57278106, 0.42721894],\n",
       "       [0.1674202 , 0.8325798 ]])"
      ]
     },
     "execution_count": 51,
     "metadata": {},
     "output_type": "execute_result"
    }
   ],
   "source": [
    "probs"
   ]
  },
  {
   "cell_type": "code",
   "execution_count": 85,
   "metadata": {},
   "outputs": [
    {
     "name": "stdout",
     "output_type": "stream",
     "text": [
      "[[0.63223635 0.36776365]\n",
      " [0.50864355 0.49135645]\n",
      " [0.30279586 0.69720414]\n",
      " ...\n",
      " [0.47771123 0.52228877]\n",
      " [0.66543054 0.33456946]\n",
      " [0.45123614 0.54876386]]\n",
      "        id  preventive_visit_gap_ind     probs\n",
      "0  1313950                         0  0.115998\n",
      "1   723242                         1  0.293121\n",
      "2   836463                         0  0.265029\n",
      "3  1164546                         0  0.518879\n",
      "4  1937148                         0  0.375049\n"
     ]
    }
   ],
   "source": [
    "model = lgbm1\n",
    "probs = model.predict_proba(X_test)\n",
    "print (probs)\n",
    "probs_df = pd.DataFrame({'probs':probs[:,1]})\n",
    "\n",
    "\n",
    "print(y_test_pred_probs.head())\n"
   ]
  },
  {
   "cell_type": "code",
   "execution_count": 70,
   "metadata": {},
   "outputs": [
    {
     "data": {
      "text/html": [
       "<div>\n",
       "<style scoped>\n",
       "    .dataframe tbody tr th:only-of-type {\n",
       "        vertical-align: middle;\n",
       "    }\n",
       "\n",
       "    .dataframe tbody tr th {\n",
       "        vertical-align: top;\n",
       "    }\n",
       "\n",
       "    .dataframe thead th {\n",
       "        text-align: right;\n",
       "    }\n",
       "</style>\n",
       "<table border=\"1\" class=\"dataframe\">\n",
       "  <thead>\n",
       "    <tr style=\"text-align: right;\">\n",
       "      <th></th>\n",
       "      <th>id</th>\n",
       "      <th>preventive_visit_gap_ind</th>\n",
       "      <th>probs</th>\n",
       "    </tr>\n",
       "  </thead>\n",
       "  <tbody>\n",
       "    <tr>\n",
       "      <th>0</th>\n",
       "      <td>1313950</td>\n",
       "      <td>0</td>\n",
       "      <td>0.115998</td>\n",
       "    </tr>\n",
       "    <tr>\n",
       "      <th>1</th>\n",
       "      <td>723242</td>\n",
       "      <td>1</td>\n",
       "      <td>0.293121</td>\n",
       "    </tr>\n",
       "    <tr>\n",
       "      <th>2</th>\n",
       "      <td>836463</td>\n",
       "      <td>0</td>\n",
       "      <td>0.265029</td>\n",
       "    </tr>\n",
       "    <tr>\n",
       "      <th>3</th>\n",
       "      <td>1164546</td>\n",
       "      <td>0</td>\n",
       "      <td>0.518879</td>\n",
       "    </tr>\n",
       "    <tr>\n",
       "      <th>4</th>\n",
       "      <td>1937148</td>\n",
       "      <td>0</td>\n",
       "      <td>0.375049</td>\n",
       "    </tr>\n",
       "  </tbody>\n",
       "</table>\n",
       "</div>"
      ],
      "text/plain": [
       "        id  preventive_visit_gap_ind     probs\n",
       "0  1313950                         0  0.115998\n",
       "1   723242                         1  0.293121\n",
       "2   836463                         0  0.265029\n",
       "3  1164546                         0  0.518879\n",
       "4  1937148                         0  0.375049"
      ]
     },
     "execution_count": 70,
     "metadata": {},
     "output_type": "execute_result"
    }
   ],
   "source": [
    "probs_df.reset_index(drop=True, inplace=True)\n",
    "y_test.reset_index(drop=True, inplace=True)\n",
    "\n",
    "y_test_pred_probs = pd.concat([y_test, probs_df], axis=1)\n",
    "\n",
    "y_test_pred_probs.head()"
   ]
  },
  {
   "cell_type": "code",
   "execution_count": 71,
   "metadata": {},
   "outputs": [],
   "source": [
    "y_test_pred_probs.to_csv(\"pred_probs_lgbm_v1.csv\")"
   ]
  },
  {
   "cell_type": "code",
   "execution_count": 58,
   "metadata": {
    "scrolled": true
   },
   "outputs": [
    {
     "name": "stdout",
     "output_type": "stream",
     "text": [
      "Cross-validation scores: [0.72349592 0.72626343 0.72323654 0.72124665 0.7255207  0.72402315\n",
      " 0.72389549 0.72779036 0.72491834 0.72507132]\n",
      "Mean CV score: 0.7245461914565644\n",
      "Standard deviation of CV scores: 0.0017099608128807794\n"
     ]
    }
   ],
   "source": [
    "from sklearn.model_selection import cross_val_score\n",
    "# Perform 10-fold cross-validation\n",
    "cv_scores = cross_val_score(lgbm1, X_train, y_train.drop(\"id\", axis = 1), cv=10, scoring='roc_auc')\n",
    "\n",
    "# Print the cross-validation scores\n",
    "print(\"Cross-validation scores:\", cv_scores)\n",
    "\n",
    "# Print the mean and standard deviation of the scores\n",
    "print(\"Mean CV score:\", cv_scores.mean())\n",
    "print(\"Standard deviation of CV scores:\", cv_scores.std())"
   ]
  },
  {
   "cell_type": "code",
   "execution_count": 103,
   "metadata": {
    "scrolled": true
   },
   "outputs": [
    {
     "name": "stdout",
     "output_type": "stream",
     "text": [
      "Cross-validation scores: [0.72126812 0.72369188 0.71933465 0.71975909 0.7192151  0.72072816\n",
      " 0.7225509  0.72263255 0.71644123 0.72292535]\n",
      "Mean CV score: 0.7208547040809747\n",
      "Standard deviation of CV scores: 0.0021033263502704892\n"
     ]
    }
   ],
   "source": [
    "from sklearn.model_selection import cross_val_score\n",
    "# Perform 10-fold cross-validation\n",
    "cv_scores = cross_val_score(lgbm1, X_test, y_test.drop(\"id\", axis = 1), cv=10, scoring='roc_auc')\n",
    "\n",
    "# Print the cross-validation scores\n",
    "print(\"Cross-validation scores:\", cv_scores)\n",
    "\n",
    "# Print the mean and standard deviation of the scores\n",
    "print(\"Mean CV score:\", cv_scores.mean())\n",
    "print(\"Standard deviation of CV scores:\", cv_scores.std())"
   ]
  },
  {
   "cell_type": "code",
   "execution_count": 152,
   "metadata": {},
   "outputs": [
    {
     "data": {
      "text/html": [
       "<div>\n",
       "<style scoped>\n",
       "    .dataframe tbody tr th:only-of-type {\n",
       "        vertical-align: middle;\n",
       "    }\n",
       "\n",
       "    .dataframe tbody tr th {\n",
       "        vertical-align: top;\n",
       "    }\n",
       "\n",
       "    .dataframe thead th {\n",
       "        text-align: right;\n",
       "    }\n",
       "</style>\n",
       "<table border=\"1\" class=\"dataframe\">\n",
       "  <thead>\n",
       "    <tr style=\"text-align: right;\">\n",
       "      <th></th>\n",
       "      <th>column_name_LGBM</th>\n",
       "      <th>importance</th>\n",
       "    </tr>\n",
       "  </thead>\n",
       "  <tbody>\n",
       "    <tr>\n",
       "      <th>0</th>\n",
       "      <td>num_of_chronic_conditions</td>\n",
       "      <td>326</td>\n",
       "    </tr>\n",
       "    <tr>\n",
       "      <th>34</th>\n",
       "      <td>total_net_paid_pmpm_cost</td>\n",
       "      <td>255</td>\n",
       "    </tr>\n",
       "    <tr>\n",
       "      <th>43</th>\n",
       "      <td>rx_all_tiers_pmpm_ct</td>\n",
       "      <td>226</td>\n",
       "    </tr>\n",
       "    <tr>\n",
       "      <th>67</th>\n",
       "      <td>cms_tot_ma_payment_amt</td>\n",
       "      <td>219</td>\n",
       "    </tr>\n",
       "    <tr>\n",
       "      <th>28</th>\n",
       "      <td>days_since_last_clm</td>\n",
       "      <td>213</td>\n",
       "    </tr>\n",
       "    <tr>\n",
       "      <th>68</th>\n",
       "      <td>cms_tot_partd_payment_amt</td>\n",
       "      <td>209</td>\n",
       "    </tr>\n",
       "    <tr>\n",
       "      <th>53</th>\n",
       "      <td>cnt_cp_webstatement_pmpm_ct</td>\n",
       "      <td>172</td>\n",
       "    </tr>\n",
       "    <tr>\n",
       "      <th>5</th>\n",
       "      <td>measure_name_lag1</td>\n",
       "      <td>162</td>\n",
       "    </tr>\n",
       "    <tr>\n",
       "      <th>32</th>\n",
       "      <td>total_mbr_resp_pmpm_cost</td>\n",
       "      <td>133</td>\n",
       "    </tr>\n",
       "    <tr>\n",
       "      <th>69</th>\n",
       "      <td>cci_score</td>\n",
       "      <td>131</td>\n",
       "    </tr>\n",
       "    <tr>\n",
       "      <th>51</th>\n",
       "      <td>cnt_cp_print_pmpm_ct</td>\n",
       "      <td>120</td>\n",
       "    </tr>\n",
       "    <tr>\n",
       "      <th>6</th>\n",
       "      <td>dissatisfaction_cnt_2022</td>\n",
       "      <td>119</td>\n",
       "    </tr>\n",
       "    <tr>\n",
       "      <th>14</th>\n",
       "      <td>veteran_ind</td>\n",
       "      <td>114</td>\n",
       "    </tr>\n",
       "    <tr>\n",
       "      <th>8</th>\n",
       "      <td>all_mm_tenure</td>\n",
       "      <td>112</td>\n",
       "    </tr>\n",
       "    <tr>\n",
       "      <th>70</th>\n",
       "      <td>fci_score</td>\n",
       "      <td>112</td>\n",
       "    </tr>\n",
       "    <tr>\n",
       "      <th>26</th>\n",
       "      <td>total_copay_pmpm_cost</td>\n",
       "      <td>109</td>\n",
       "    </tr>\n",
       "    <tr>\n",
       "      <th>72</th>\n",
       "      <td>age_Tile_Num</td>\n",
       "      <td>104</td>\n",
       "    </tr>\n",
       "    <tr>\n",
       "      <th>3</th>\n",
       "      <td>measure_name_lag2</td>\n",
       "      <td>103</td>\n",
       "    </tr>\n",
       "    <tr>\n",
       "      <th>63</th>\n",
       "      <td>riskarr_downside</td>\n",
       "      <td>100</td>\n",
       "    </tr>\n",
       "    <tr>\n",
       "      <th>38</th>\n",
       "      <td>rx_overall_dist_gpi6_pmpm_ct</td>\n",
       "      <td>98</td>\n",
       "    </tr>\n",
       "    <tr>\n",
       "      <th>78</th>\n",
       "      <td>race_UNKNOWN</td>\n",
       "      <td>96</td>\n",
       "    </tr>\n",
       "    <tr>\n",
       "      <th>64</th>\n",
       "      <td>riskarr_upside</td>\n",
       "      <td>95</td>\n",
       "    </tr>\n",
       "    <tr>\n",
       "      <th>52</th>\n",
       "      <td>cnt_cp_vat_pmpm_ct</td>\n",
       "      <td>95</td>\n",
       "    </tr>\n",
       "    <tr>\n",
       "      <th>73</th>\n",
       "      <td>rucc_category_enc</td>\n",
       "      <td>89</td>\n",
       "    </tr>\n",
       "    <tr>\n",
       "      <th>40</th>\n",
       "      <td>rx_overall_pmpm_cost</td>\n",
       "      <td>87</td>\n",
       "    </tr>\n",
       "    <tr>\n",
       "      <th>2</th>\n",
       "      <td>dissatisfaction_cnt_2020</td>\n",
       "      <td>81</td>\n",
       "    </tr>\n",
       "    <tr>\n",
       "      <th>1</th>\n",
       "      <td>measure_name_lag3</td>\n",
       "      <td>79</td>\n",
       "    </tr>\n",
       "    <tr>\n",
       "      <th>4</th>\n",
       "      <td>dissatisfaction_cnt_2021</td>\n",
       "      <td>76</td>\n",
       "    </tr>\n",
       "    <tr>\n",
       "      <th>35</th>\n",
       "      <td>rx_days_since_last_script</td>\n",
       "      <td>70</td>\n",
       "    </tr>\n",
       "    <tr>\n",
       "      <th>36</th>\n",
       "      <td>rx_overall_coins_copay_cost</td>\n",
       "      <td>70</td>\n",
       "    </tr>\n",
       "    <tr>\n",
       "      <th>19</th>\n",
       "      <td>total_allowed_pmpm_cost</td>\n",
       "      <td>68</td>\n",
       "    </tr>\n",
       "    <tr>\n",
       "      <th>41</th>\n",
       "      <td>rx_overall_pmpm_ct</td>\n",
       "      <td>63</td>\n",
       "    </tr>\n",
       "    <tr>\n",
       "      <th>10</th>\n",
       "      <td>disabled_ind</td>\n",
       "      <td>62</td>\n",
       "    </tr>\n",
       "    <tr>\n",
       "      <th>65</th>\n",
       "      <td>riskarr_rewards</td>\n",
       "      <td>60</td>\n",
       "    </tr>\n",
       "    <tr>\n",
       "      <th>81</th>\n",
       "      <td>region_Intermountain</td>\n",
       "      <td>60</td>\n",
       "    </tr>\n",
       "    <tr>\n",
       "      <th>22</th>\n",
       "      <td>total_coins_pmpm_cost</td>\n",
       "      <td>59</td>\n",
       "    </tr>\n",
       "    <tr>\n",
       "      <th>50</th>\n",
       "      <td>cnt_cp_emails_pmpm_ct</td>\n",
       "      <td>56</td>\n",
       "    </tr>\n",
       "    <tr>\n",
       "      <th>30</th>\n",
       "      <td>total_deduct_pmpm_cost</td>\n",
       "      <td>55</td>\n",
       "    </tr>\n",
       "    <tr>\n",
       "      <th>33</th>\n",
       "      <td>nonpar_net_paid_pmpm_cost</td>\n",
       "      <td>53</td>\n",
       "    </tr>\n",
       "    <tr>\n",
       "      <th>18</th>\n",
       "      <td>nonpar_allowed_pmpm_cost</td>\n",
       "      <td>53</td>\n",
       "    </tr>\n",
       "    <tr>\n",
       "      <th>39</th>\n",
       "      <td>rx_overall_mbr_resp_pmpm_cost</td>\n",
       "      <td>51</td>\n",
       "    </tr>\n",
       "    <tr>\n",
       "      <th>27</th>\n",
       "      <td>nonpar_ds_clm</td>\n",
       "      <td>51</td>\n",
       "    </tr>\n",
       "    <tr>\n",
       "      <th>84</th>\n",
       "      <td>region_Pacific Southwest</td>\n",
       "      <td>47</td>\n",
       "    </tr>\n",
       "    <tr>\n",
       "      <th>46</th>\n",
       "      <td>days_since_last_login</td>\n",
       "      <td>47</td>\n",
       "    </tr>\n",
       "    <tr>\n",
       "      <th>82</th>\n",
       "      <td>region_Midwest</td>\n",
       "      <td>44</td>\n",
       "    </tr>\n",
       "    <tr>\n",
       "      <th>66</th>\n",
       "      <td>riskarr_global</td>\n",
       "      <td>44</td>\n",
       "    </tr>\n",
       "    <tr>\n",
       "      <th>24</th>\n",
       "      <td>total_cob_paid_pmpm_cost</td>\n",
       "      <td>43</td>\n",
       "    </tr>\n",
       "    <tr>\n",
       "      <th>37</th>\n",
       "      <td>rx_overall_deduct_pmpm_cost</td>\n",
       "      <td>42</td>\n",
       "    </tr>\n",
       "    <tr>\n",
       "      <th>17</th>\n",
       "      <td>total_ip_health_issues_admit_days_pmpm</td>\n",
       "      <td>41</td>\n",
       "    </tr>\n",
       "    <tr>\n",
       "      <th>79</th>\n",
       "      <td>race_WHITE</td>\n",
       "      <td>40</td>\n",
       "    </tr>\n",
       "  </tbody>\n",
       "</table>\n",
       "</div>"
      ],
      "text/plain": [
       "                          column_name_LGBM  importance\n",
       "0                num_of_chronic_conditions         326\n",
       "34                total_net_paid_pmpm_cost         255\n",
       "43                    rx_all_tiers_pmpm_ct         226\n",
       "67                  cms_tot_ma_payment_amt         219\n",
       "28                     days_since_last_clm         213\n",
       "68               cms_tot_partd_payment_amt         209\n",
       "53             cnt_cp_webstatement_pmpm_ct         172\n",
       "5                        measure_name_lag1         162\n",
       "32                total_mbr_resp_pmpm_cost         133\n",
       "69                               cci_score         131\n",
       "51                    cnt_cp_print_pmpm_ct         120\n",
       "6                 dissatisfaction_cnt_2022         119\n",
       "14                             veteran_ind         114\n",
       "8                            all_mm_tenure         112\n",
       "70                               fci_score         112\n",
       "26                   total_copay_pmpm_cost         109\n",
       "72                            age_Tile_Num         104\n",
       "3                        measure_name_lag2         103\n",
       "63                        riskarr_downside         100\n",
       "38            rx_overall_dist_gpi6_pmpm_ct          98\n",
       "78                            race_UNKNOWN          96\n",
       "64                          riskarr_upside          95\n",
       "52                      cnt_cp_vat_pmpm_ct          95\n",
       "73                       rucc_category_enc          89\n",
       "40                    rx_overall_pmpm_cost          87\n",
       "2                 dissatisfaction_cnt_2020          81\n",
       "1                        measure_name_lag3          79\n",
       "4                 dissatisfaction_cnt_2021          76\n",
       "35               rx_days_since_last_script          70\n",
       "36             rx_overall_coins_copay_cost          70\n",
       "19                 total_allowed_pmpm_cost          68\n",
       "41                      rx_overall_pmpm_ct          63\n",
       "10                            disabled_ind          62\n",
       "65                         riskarr_rewards          60\n",
       "81                    region_Intermountain          60\n",
       "22                   total_coins_pmpm_cost          59\n",
       "50                   cnt_cp_emails_pmpm_ct          56\n",
       "30                  total_deduct_pmpm_cost          55\n",
       "33               nonpar_net_paid_pmpm_cost          53\n",
       "18                nonpar_allowed_pmpm_cost          53\n",
       "39           rx_overall_mbr_resp_pmpm_cost          51\n",
       "27                           nonpar_ds_clm          51\n",
       "84                region_Pacific Southwest          47\n",
       "46                   days_since_last_login          47\n",
       "82                          region_Midwest          44\n",
       "66                          riskarr_global          44\n",
       "24                total_cob_paid_pmpm_cost          43\n",
       "37             rx_overall_deduct_pmpm_cost          42\n",
       "17  total_ip_health_issues_admit_days_pmpm          41\n",
       "79                              race_WHITE          40"
      ]
     },
     "execution_count": 152,
     "metadata": {},
     "output_type": "execute_result"
    }
   ],
   "source": [
    "pd.DataFrame({'column_name_LGBM': X_train.columns, 'importance': lgbm1.feature_importances_}).sort_values('importance', ascending=False).head(50)"
   ]
  },
  {
   "cell_type": "code",
   "execution_count": 38,
   "metadata": {},
   "outputs": [
    {
     "name": "stdout",
     "output_type": "stream",
     "text": [
      "Requirement already satisfied: xgboost in /home/dataminions60/.local/lib/python3.8/site-packages (2.1.1)\n",
      "Requirement already satisfied: numpy in /home/dataminions60/.local/lib/python3.8/site-packages (from xgboost) (1.24.4)\n",
      "Requirement already satisfied: scipy in /home/dataminions60/.local/lib/python3.8/site-packages (from xgboost) (1.10.1)\n"
     ]
    },
    {
     "ename": "NameError",
     "evalue": "name 'start_time' is not defined",
     "output_type": "error",
     "traceback": [
      "\u001b[0;31m---------------------------------------------------------------------------\u001b[0m",
      "\u001b[0;31mNameError\u001b[0m                                 Traceback (most recent call last)",
      "Cell \u001b[0;32mIn[38], line 30\u001b[0m\n\u001b[1;32m     27\u001b[0m grid_search_xgb\u001b[38;5;241m.\u001b[39mfit(X_train, y_train)\n\u001b[1;32m     29\u001b[0m end_time \u001b[38;5;241m=\u001b[39m time\u001b[38;5;241m.\u001b[39mtime()\n\u001b[0;32m---> 30\u001b[0m execution_time \u001b[38;5;241m=\u001b[39m end_time \u001b[38;5;241m-\u001b[39m \u001b[43mstart_time\u001b[49m\n\u001b[1;32m     31\u001b[0m \u001b[38;5;28mprint\u001b[39m(\u001b[38;5;124m\"\u001b[39m\u001b[38;5;124mExecution time:\u001b[39m\u001b[38;5;124m\"\u001b[39m, execution_time, \u001b[38;5;124m\"\u001b[39m\u001b[38;5;124mseconds\u001b[39m\u001b[38;5;124m\"\u001b[39m)\n\u001b[1;32m     33\u001b[0m \u001b[38;5;66;03m# Print the best parameters and the best score\u001b[39;00m\n",
      "\u001b[0;31mNameError\u001b[0m: name 'start_time' is not defined"
     ]
    }
   ],
   "source": [
    "# prompt: Xgboost modeling\n",
    "\n",
    "!pip install xgboost\n",
    "\n",
    "from xgboost import XGBClassifier\n",
    "from sklearn.model_selection import GridSearchCV\n",
    "import time\n",
    "\n",
    "# Create an XGBoost classifier\n",
    "xgb_classifier = XGBClassifier(random_state=42)\n",
    "\n",
    "# Define the parameter grid for XGBoost\n",
    "param_grid_xgb = {\n",
    "    'n_estimators': [100, 200],\n",
    "    'learning_rate': [0.05, 0.1],\n",
    "    'max_depth': [3, 5],\n",
    "    'subsample': [0.8, 1.0],\n",
    "    'colsample_bytree': [0.8, 1.0]\n",
    "}\n",
    "\n",
    "# Create a GridSearchCV object for XGBoost\n",
    "grid_search_xgb = GridSearchCV(estimator=xgb_classifier, param_grid=param_grid_xgb, cv=5, scoring='roc_auc')\n",
    "\n",
    "\n",
    "st = time.time()\n",
    "# Fit the grid search to the training data\n",
    "grid_search_xgb.fit(X_train, y_train.drop(\"id\", axis = 1))\n",
    "\n",
    "end_time = time.time()\n",
    "execution_time = end_time - st\n",
    "print(\"Execution time:\", execution_time, \"seconds\")\n",
    "\n",
    "# Print the best parameters and the best score\n",
    "print(\"Best parameters (XGBoost):\", grid_search_xgb.best_params_)\n",
    "print(\"Best score (XGBoost):\", grid_search_xgb.best_score_)\n",
    "\n",
    "# Get the best model from the grid search\n",
    "best_xgb_model = grid_search_xgb.best_estimator_\n",
    "\n",
    "# Make predictions on the test set using the best model\n",
    "y_pred_xgb = best_xgb_model.predict(X_test)\n",
    "\n",
    "# Evaluate the model\n",
    "xgb_results = evaluate_model(y_test.drop(\"id\", axis = 1), y_pred_xgb)\n",
    "\n",
    "# Print the evaluation results\n",
    "print(\"XGBoost Results:\")\n",
    "print(\"Accuracy:\", xgb_results['test_accuracy'])\n",
    "print(\"Confusion Matrix:\\n\", xgb_results['confusion_matrix'])\n",
    "if 'auc' in xgb_results:\n",
    "    print(\"AUC:\", xgb_results['auc'])\n",
    "\n",
    "roc_auc_score(y_test.drop(\"id\", axis = 1), y_pred_xgb)\n"
   ]
  },
  {
   "cell_type": "code",
   "execution_count": 39,
   "metadata": {},
   "outputs": [
    {
     "name": "stdout",
     "output_type": "stream",
     "text": [
      "Best parameters (XGBoost): {'colsample_bytree': 1.0, 'learning_rate': 0.1, 'max_depth': 5, 'n_estimators': 200, 'subsample': 1.0}\n",
      "Best score (XGBoost): 0.7243870519854329\n"
     ]
    }
   ],
   "source": [
    "# Print the best parameters and the best score\n",
    "print(\"Best parameters (XGBoost):\", grid_search_xgb.best_params_)\n",
    "print(\"Best score (XGBoost):\", grid_search_xgb.best_score_)\n"
   ]
  },
  {
   "cell_type": "code",
   "execution_count": 51,
   "metadata": {},
   "outputs": [
    {
     "name": "stdout",
     "output_type": "stream",
     "text": [
      "XGBoost Results:\n",
      "Accuracy: 0.6680765390470267\n",
      "Confusion Matrix:\n",
      " [[136656  31596]\n",
      " [ 69795  67418]]\n"
     ]
    }
   ],
   "source": [
    "# Get the best model from the grid search\n",
    "best_xgb_model = grid_search_xgb.best_estimator_\n",
    "y_pred_xgb = best_xgb_model.predict(X_test)\n",
    "xgb_results = evaluate_model(y_test.drop(\"id\", axis = 1), y_pred_xgb)\n",
    "# y_pred_xgb = best_xgb_model.predict(X_test)\n",
    "# Print the evaluation results\n",
    "print(\"XGBoost Results:\")\n",
    "print(\"Accuracy:\", xgb_results['test_accuracy'])\n",
    "print(\"Confusion Matrix:\\n\", xgb_results['confusion_matrix'])\n",
    "if 'auc' in xgb_results:\n",
    "    print(\"AUC:\", xgb_results['auc'])"
   ]
  },
  {
   "cell_type": "markdown",
   "metadata": {},
   "source": [
    "# XGboost"
   ]
  },
  {
   "cell_type": "code",
   "execution_count": 52,
   "metadata": {},
   "outputs": [
    {
     "name": "stdout",
     "output_type": "stream",
     "text": [
      "LightGBM Results:\n",
      "Accuracy: 0.6680765390470267\n",
      "Confusion Matrix:\n",
      " [[136656  31596]\n",
      " [ 69795  67418]]\n"
     ]
    },
    {
     "data": {
      "text/plain": [
       "0.6517742701589303"
      ]
     },
     "execution_count": 52,
     "metadata": {},
     "output_type": "execute_result"
    }
   ],
   "source": [
    "import xgboost\n",
    "xgb1 = xgboost.XGBClassifier(random_state=42, learning_rate=.1, max_depth=5, n_estimators=200, subsample = 1.0, colsample_bytree=1)\n",
    "\n",
    "xgb1.fit(X_train, y_train.drop(\"id\", axis = 1))\n",
    "\n",
    "# Make predictions on the test set using the best model\n",
    "y_pred_xgb = xgb1.predict(X_test)\n",
    "\n",
    "\n",
    "# Evaluate the model\n",
    "xgb_results = evaluate_model(y_test.drop(\"id\", axis = 1), y_pred_xgb)\n",
    "\n",
    "# Print the evaluation results\n",
    "print(\"XGboost Results:\")\n",
    "print(\"Accuracy:\", xgb_results['test_accuracy'])\n",
    "print(\"Confusion Matrix:\\n\", xgb_results['confusion_matrix'])\n",
    "if 'auc' in xgb_results:\n",
    "    print(\"AUC:\", xgb_results['auc'])\n",
    "\n",
    "roc_auc_score(y_test, y_pred_xgb)"
   ]
  },
  {
   "cell_type": "code",
   "execution_count": 43,
   "metadata": {},
   "outputs": [],
   "source": [
    "xgb1.save_model(\"XGBoost_Model_v1.pkl\")"
   ]
  },
  {
   "cell_type": "code",
   "execution_count": 44,
   "metadata": {},
   "outputs": [
    {
     "ename": "UnpicklingError",
     "evalue": "invalid load key, '{'.",
     "output_type": "error",
     "traceback": [
      "\u001b[0;31m---------------------------------------------------------------------------\u001b[0m",
      "\u001b[0;31mUnpicklingError\u001b[0m                           Traceback (most recent call last)",
      "Cell \u001b[0;32mIn[44], line 3\u001b[0m\n\u001b[1;32m      1\u001b[0m \u001b[38;5;28;01mimport\u001b[39;00m \u001b[38;5;21;01mpickle\u001b[39;00m\n\u001b[0;32m----> 3\u001b[0m xgb1 \u001b[38;5;241m=\u001b[39m \u001b[43mpickle\u001b[49m\u001b[38;5;241;43m.\u001b[39;49m\u001b[43mload\u001b[49m\u001b[43m(\u001b[49m\u001b[38;5;28;43mopen\u001b[39;49m\u001b[43m(\u001b[49m\u001b[38;5;124;43m\"\u001b[39;49m\u001b[38;5;124;43mo1.modeel.pkl\u001b[39;49m\u001b[38;5;124;43m\"\u001b[39;49m\u001b[43m,\u001b[49m\u001b[43m \u001b[49m\u001b[38;5;124;43m\"\u001b[39;49m\u001b[38;5;124;43mrb\u001b[39;49m\u001b[38;5;124;43m\"\u001b[39;49m\u001b[43m)\u001b[49m\u001b[43m)\u001b[49m\n",
      "\u001b[0;31mUnpicklingError\u001b[0m: invalid load key, '{'."
     ]
    }
   ],
   "source": [
    "# import pickle\n",
    "\n",
    "# xgb1 = pickle.load(open(\"o1.modeel.pkl\", \"rb\"))"
   ]
  },
  {
   "cell_type": "code",
   "execution_count": 45,
   "metadata": {},
   "outputs": [
    {
     "name": "stdout",
     "output_type": "stream",
     "text": [
      "Cross-validation scores: [0.72268121 0.71894189 0.7261169  0.71929002 0.7174909  0.71879621\n",
      " 0.7197468  0.71728176 0.71879634 0.71917157 0.72135579 0.71892612\n",
      " 0.72070012 0.72479647 0.72626932 0.71627101 0.71856083 0.71273361\n",
      " 0.72396042 0.72259075]\n",
      "Mean CV score: 0.7202239003430171\n",
      "Standard deviation of CV scores: 0.003313041961672463\n"
     ]
    }
   ],
   "source": [
    "from sklearn.model_selection import cross_val_score\n",
    "# Perform 10-fold cross-validation\n",
    "cv_scores = cross_val_score(xgb1, X_test, y_test.drop(\"id\", axis = 1), cv=20, scoring='roc_auc')\n",
    "\n",
    "# Print the cross-validation scores\n",
    "print(\"Cross-validation scores:\", cv_scores)\n",
    "\n",
    "# Print the mean and standard deviation of the scores\n",
    "print(\"Mean CV score:\", cv_scores.mean())\n",
    "print(\"Standard deviation of CV scores:\", cv_scores.std())"
   ]
  },
  {
   "cell_type": "markdown",
   "metadata": {},
   "source": [
    "# CatBoost"
   ]
  },
  {
   "cell_type": "code",
   "execution_count": 42,
   "metadata": {},
   "outputs": [
    {
     "name": "stdout",
     "output_type": "stream",
     "text": [
      "Requirement already satisfied: catboost in /home/dataminions60/.local/lib/python3.8/site-packages (1.2.7)\n",
      "Requirement already satisfied: numpy<2.0,>=1.16.0 in /home/dataminions60/.local/lib/python3.8/site-packages (from catboost) (1.24.4)\n",
      "Requirement already satisfied: pandas>=0.24 in /home/dataminions60/.local/lib/python3.8/site-packages (from catboost) (2.0.3)\n",
      "Requirement already satisfied: graphviz in /home/dataminions60/.local/lib/python3.8/site-packages (from catboost) (0.20.3)\n",
      "Requirement already satisfied: matplotlib in /home/dataminions60/.local/lib/python3.8/site-packages (from catboost) (3.7.5)\n",
      "Requirement already satisfied: scipy in /home/dataminions60/.local/lib/python3.8/site-packages (from catboost) (1.10.1)\n",
      "Requirement already satisfied: plotly in /home/dataminions60/.local/lib/python3.8/site-packages (from catboost) (5.24.1)\n",
      "Requirement already satisfied: six in /usr/lib/python3/dist-packages (from catboost) (1.14.0)\n",
      "Requirement already satisfied: tzdata>=2022.1 in /home/dataminions60/.local/lib/python3.8/site-packages (from pandas>=0.24->catboost) (2024.2)\n",
      "Requirement already satisfied: python-dateutil>=2.8.2 in /usr/local/lib/python3.8/dist-packages (from pandas>=0.24->catboost) (2.9.0.post0)\n",
      "Requirement already satisfied: pytz>=2020.1 in /usr/local/lib/python3.8/dist-packages (from pandas>=0.24->catboost) (2024.2)\n",
      "Requirement already satisfied: kiwisolver>=1.0.1 in /home/dataminions60/.local/lib/python3.8/site-packages (from matplotlib->catboost) (1.4.7)\n",
      "Requirement already satisfied: contourpy>=1.0.1 in /home/dataminions60/.local/lib/python3.8/site-packages (from matplotlib->catboost) (1.1.1)\n",
      "Requirement already satisfied: packaging>=20.0 in /usr/local/lib/python3.8/dist-packages (from matplotlib->catboost) (24.1)\n",
      "Requirement already satisfied: pyparsing>=2.3.1 in /home/dataminions60/.local/lib/python3.8/site-packages (from matplotlib->catboost) (3.1.4)\n",
      "Requirement already satisfied: importlib-resources>=3.2.0; python_version < \"3.10\" in /usr/local/lib/python3.8/dist-packages (from matplotlib->catboost) (6.4.5)\n",
      "Requirement already satisfied: fonttools>=4.22.0 in /home/dataminions60/.local/lib/python3.8/site-packages (from matplotlib->catboost) (4.54.1)\n",
      "Requirement already satisfied: pillow>=6.2.0 in /home/dataminions60/.local/lib/python3.8/site-packages (from matplotlib->catboost) (10.4.0)\n",
      "Requirement already satisfied: cycler>=0.10 in /home/dataminions60/.local/lib/python3.8/site-packages (from matplotlib->catboost) (0.12.1)\n",
      "Requirement already satisfied: tenacity>=6.2.0 in /home/dataminions60/.local/lib/python3.8/site-packages (from plotly->catboost) (9.0.0)\n",
      "Requirement already satisfied: zipp>=3.1.0; python_version < \"3.10\" in /usr/local/lib/python3.8/dist-packages (from importlib-resources>=3.2.0; python_version < \"3.10\"->matplotlib->catboost) (3.20.2)\n",
      "Execution time: 970.3465797901154 seconds\n",
      "Best parameters (CatBoost): {'depth': 6, 'iterations': 300, 'l2_leaf_reg': 3, 'learning_rate': 0.1}\n",
      "Best score (CatBoost): 0.7242425869812295\n",
      "CatBoost Results:\n",
      "Accuracy: 0.6679455911479221\n",
      "Confusion Matrix:\n",
      " [[136559  31693]\n",
      " [ 69738  67475]]\n"
     ]
    },
    {
     "data": {
      "text/plain": [
       "0.6516937183367724"
      ]
     },
     "execution_count": 42,
     "metadata": {},
     "output_type": "execute_result"
    }
   ],
   "source": [
    "# prompt: catboost modeling\n",
    "\n",
    "# !pip install catboost\n",
    "\n",
    "from catboost import CatBoostClassifier\n",
    "from sklearn.model_selection import GridSearchCV\n",
    "from xgboost import XGBClassifier\n",
    "from sklearn.model_selection import GridSearchCV\n",
    "import time\n",
    "\n",
    "# Create a CatBoost classifier\n",
    "catboost_classifier = CatBoostClassifier(random_state=42, verbose=0)  # Set verbose to 0 to suppress output during training\n",
    "\n",
    "# Define the parameter grid for CatBoost (you can adjust these)\n",
    "param_grid_catboost = {\n",
    "    'iterations': [300, 200],\n",
    "    'learning_rate': [0.01, 0.1],\n",
    "    'depth': [4, 6],\n",
    "    'l2_leaf_reg': [1, 3],\n",
    "}\n",
    "\n",
    "# Create a GridSearchCV object for CatBoost\n",
    "grid_search_catboost = GridSearchCV(estimator=catboost_classifier, param_grid=param_grid_catboost, cv=5, scoring='roc_auc')\n",
    "\n",
    "st = time.time()\n",
    "# Fit the grid search to the training data\n",
    "grid_search_catboost.fit(X_train, y_train.drop(\"id\", axis = 1))\n",
    "end_time = time.time()\n",
    "execution_time = end_time - st\n",
    "print(\"Execution time:\", execution_time, \"seconds\")\n",
    "\n",
    "\n",
    "# Print the best parameters and the best score\n",
    "print(\"Best parameters (CatBoost):\", grid_search_catboost.best_params_)\n",
    "print(\"Best score (CatBoost):\", grid_search_catboost.best_score_)\n",
    "\n",
    "# Get the best model from the grid search\n",
    "best_catboost_model = grid_search_catboost.best_estimator_\n",
    "\n",
    "# Make predictions on the test set using the best model\n",
    "y_pred_catboost = best_catboost_model.predict(X_test)\n",
    "\n",
    "# Evaluate the model\n",
    "catboost_results = evaluate_model(y_test.drop(\"id\", axis = 1), y_pred_catboost)\n",
    "\n",
    "# Print the evaluation results\n",
    "print(\"CatBoost Results:\")\n",
    "print(\"Accuracy:\", catboost_results['test_accuracy'])\n",
    "print(\"Confusion Matrix:\\n\", catboost_results['confusion_matrix'])\n",
    "if 'auc' in catboost_results:\n",
    "    print(\"AUC:\", catboost_results['auc'])\n",
    "\n",
    "roc_auc_score(y_test.drop(\"id\", axis = 1), y_pred_catboost)\n"
   ]
  },
  {
   "cell_type": "code",
   "execution_count": 44,
   "metadata": {},
   "outputs": [
    {
     "name": "stdout",
     "output_type": "stream",
     "text": [
      "XGboost Results:\n",
      "Accuracy: 0.6679455911479221\n",
      "Confusion Matrix:\n",
      " [[136559  31693]\n",
      " [ 69738  67475]]\n"
     ]
    },
    {
     "data": {
      "text/plain": [
       "0.6516937183367724"
      ]
     },
     "execution_count": 44,
     "metadata": {},
     "output_type": "execute_result"
    }
   ],
   "source": [
    "\n",
    "cb1 = catboost_classifier = CatBoostClassifier(random_state=42, depth = 6, iterations = 300, l2_leaf_reg = 3, learning_rate = 0.1, verbose=0)\n",
    "\n",
    "cb1.fit(X_train, y_train.drop(\"id\", axis = 1))\n",
    "\n",
    "# Make predictions on the test set using the best model\n",
    "y_pred_cb1 = cb1.predict(X_test)\n",
    "\n",
    "\n",
    "# Evaluate the model\n",
    "xgb_results = evaluate_model(y_test.drop(\"id\", axis = 1), y_pred_cb1)\n",
    "\n",
    "# Print the evaluation results\n",
    "print(\"Catboost Results:\")\n",
    "print(\"Accuracy:\", xgb_results['test_accuracy'])\n",
    "print(\"Confusion Matrix:\\n\", xgb_results['confusion_matrix'])\n",
    "if 'auc' in xgb_results:\n",
    "    print(\"AUC:\", xgb_results['auc'])\n",
    "\n",
    "roc_auc_score(y_test.drop(\"id\", axis = 1), y_pred_cb1)"
   ]
  },
  {
   "cell_type": "code",
   "execution_count": 45,
   "metadata": {},
   "outputs": [
    {
     "name": "stdout",
     "output_type": "stream",
     "text": [
      "Cross-validation scores: [0.7219008  0.71875541 0.72535143 0.71919595 0.71546359 0.7192244\n",
      " 0.71964097 0.71735108 0.71929123 0.71729962 0.72016354 0.71811176\n",
      " 0.72039285 0.72481314 0.72446267 0.71868444 0.71854252 0.71320349\n",
      " 0.72224717 0.72237217]\n",
      "Mean CV score: 0.7198234101327138\n",
      "Standard deviation of CV scores: 0.0029790615405438764\n"
     ]
    }
   ],
   "source": [
    "from sklearn.model_selection import cross_val_score\n",
    "# Perform 10-fold cross-validation\n",
    "cv_scores = cross_val_score(cb1, X_test, y_test.drop(\"id\", axis = 1), cv=20, scoring='roc_auc')\n",
    "\n",
    "# Print the cross-validation scores\n",
    "print(\"Cross-validation scores:\", cv_scores)\n",
    "\n",
    "# Print the mean and standard deviation of the scores\n",
    "print(\"Mean CV score:\", cv_scores.mean())\n",
    "print(\"Standard deviation of CV scores:\", cv_scores.std())"
   ]
  },
  {
   "cell_type": "code",
   "execution_count": null,
   "metadata": {},
   "outputs": [],
   "source": [
    "# prompt: LOOCV \n",
    "\n",
    "from sklearn.model_selection import LeaveOneOut\n",
    "from sklearn.metrics import accuracy_score, roc_auc_score\n",
    "\n",
    "# Assuming you have your X and y data prepared as X_train and y_train\n",
    "\n",
    "# Create a LeaveOneOut object\n",
    "loo = LeaveOneOut()\n",
    "\n",
    "# Initialize a list to store predictions\n",
    "y_pred_loo = []\n",
    "\n",
    "# Initialize a list to store true labels\n",
    "y_true_loo = []\n",
    "\n",
    "# Initialize your chosen model (e.g., LightGBM)\n",
    "model = cb1  # Replace with your preferred model\n",
    "\n",
    "# Iterate through the folds (each fold contains a single instance for testing)\n",
    "for train_index, test_index in loo.split(X_train):\n",
    "    X_train_fold, X_test_fold = X_train.iloc[train_index], X_train.iloc[test_index]\n",
    "    y_train_fold, y_test_fold = y_train.iloc[train_index], y_train.iloc[test_index]\n",
    "\n",
    "    # Train the model on the training fold\n",
    "    model.fit(X_train_fold, y_train_fold)\n",
    "\n",
    "    # Make a prediction on the single test instance\n",
    "    y_pred_fold = model.predict(X_test_fold)\n",
    "\n",
    "    # Append the prediction and true label to the lists\n",
    "    y_pred_loo.extend(y_pred_fold)\n",
    "    y_true_loo.extend(y_test_fold)\n",
    "\n",
    "# Calculate the accuracy and AUC score for the LOOCV\n",
    "loo_accuracy = accuracy_score(y_true_loo, y_pred_loo)\n",
    "loo_auc = roc_auc_score(y_true_loo, y_pred_loo)\n",
    "\n",
    "print(\"LOOCV Accuracy:\", loo_accuracy)\n",
    "print(\"LOOCV AUC:\", loo_auc)\n"
   ]
  }
 ],
 "metadata": {
  "colab": {
   "authorship_tag": "ABX9TyMpP+uuuGzZ/f9ov0Dr4GvZ",
   "provenance": []
  },
  "kernelspec": {
   "display_name": "Python 3 (ipykernel)",
   "language": "python",
   "name": "python3"
  },
  "language_info": {
   "codemirror_mode": {
    "name": "ipython",
    "version": 3
   },
   "file_extension": ".py",
   "mimetype": "text/x-python",
   "name": "python",
   "nbconvert_exporter": "python",
   "pygments_lexer": "ipython3",
   "version": "3.8.10"
  }
 },
 "nbformat": 4,
 "nbformat_minor": 4
}
